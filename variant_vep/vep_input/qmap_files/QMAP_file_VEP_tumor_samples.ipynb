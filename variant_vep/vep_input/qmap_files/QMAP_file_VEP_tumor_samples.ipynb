{
 "cells": [
  {
   "cell_type": "markdown",
   "id": "e3cc6a05-b980-4430-8117-d3e8427d8808",
   "metadata": {},
   "source": [
    "# Create QMAP file from all chromosomes in TUMOR samples"
   ]
  },
  {
   "cell_type": "code",
   "execution_count": null,
   "id": "eff53a68-9c00-4083-9b08-06f3f58788f8",
   "metadata": {},
   "outputs": [],
   "source": [
    "## With the clonal mutations that we have obtained "
   ]
  },
  {
   "cell_type": "code",
   "execution_count": null,
   "id": "d8d4fd04-b6b4-4cd3-b351-41bf1960bdae",
   "metadata": {},
   "outputs": [],
   "source": [
    "# Create a file with this information for all samples"
   ]
  },
  {
   "cell_type": "raw",
   "id": "fc1df405-9ed5-4f3d-a574-8f4af1276959",
   "metadata": {},
   "source": [
    "[pre]\n",
    "[params]\n",
    "cores = 1\n",
    "memory = 8G\n",
    "[jobs]\n",
    "\n",
    "/workspace/datasets/vep/homo_sapiens/ensembl-vep_111.0.sif vep --dir /workspace/datasets/vep/ -i /workspace/projects/sjd_melos/vep/vep_input_files/melanoma/chr1.tsv.gz --format vcf -o /workspace/projects/sjd_melos/vep/vep_output_files/melanoma/chr1.tsv.gz -tab --assembly GRCh38 --no_stats --cache --symbol --protein --canonical --mane --offline --af_1kg --custom /workspace/datasets/gnomad/data/v4.0/hg38/gnomad.genomes.v4.0.sites.chr1.vcf.bgz,gnomADg,vcf,exact,0,AF,NFE\n",
    "\n",
    "\n",
    "\n",
    "/workspace/datasets/vep/homo_sapiens/ensembl-vep_111.0.sif vep --dir /workspace/datasets/vep/ -i ../vep/vep_input/chr1_somatic_muts.tsv.gz -o ../vep/vep_output/chr1_somatic_muts_vep.tsv -tab --assembly GRCh38 --no_stats --cache --symbol --protein --canonical --offline --af_1kg --dir /workspace/datasets/vep  --custom /workspace/datasets/gnomad/data/v4.0/hg38/gnomad.genomes.v4.0.sites.chr1.vcf.bgz,gnomADg,vcf,exact,0,AF,NFE"
   ]
  },
  {
   "cell_type": "raw",
   "id": "824208eb-9f0b-44b1-88ab-5885a9ea769e",
   "metadata": {},
   "source": [
    "!!! Note that qmap has to be run with an interactive and that jobs do NOT include te singularity exec command on each job because it has been configured as a global variable in .bashrc "
   ]
  },
  {
   "cell_type": "code",
   "execution_count": 1,
   "id": "8c269282-6904-486f-b901-bc0636ebedf4",
   "metadata": {},
   "outputs": [
    {
     "data": {
      "text/plain": [
       "['chr1.tsv.gz',\n",
       " 'chr2.tsv.gz',\n",
       " 'chr3.tsv.gz',\n",
       " 'chr4.tsv.gz',\n",
       " 'chr5.tsv.gz',\n",
       " 'chr6.tsv.gz',\n",
       " 'chr7.tsv.gz',\n",
       " 'chr8.tsv.gz',\n",
       " 'chr9.tsv.gz',\n",
       " 'chr10.tsv.gz',\n",
       " 'chr11.tsv.gz',\n",
       " 'chr12.tsv.gz',\n",
       " 'chr13.tsv.gz',\n",
       " 'chr14.tsv.gz',\n",
       " 'chr15.tsv.gz',\n",
       " 'chr16.tsv.gz',\n",
       " 'chr17.tsv.gz',\n",
       " 'chr18.tsv.gz',\n",
       " 'chr19.tsv.gz',\n",
       " 'chr20.tsv.gz',\n",
       " 'chr21.tsv.gz',\n",
       " 'chr22.tsv.gz',\n",
       " 'chrX.tsv.gz',\n",
       " 'chrY.tsv.gz']"
      ]
     },
     "execution_count": 1,
     "metadata": {},
     "output_type": "execute_result"
    }
   ],
   "source": [
    "import os, sys\n",
    "\n",
    "# Paths from VEP input directories\n",
    "path_sar = \"/workspace/projects/sjd_melos/vep/vep_input_files/sarcoma/\"\n",
    "path_lung = \"/workspace/projects/sjd_melos/vep/vep_input_files/lung/\"\n",
    "\n",
    "# listdir from os permits displaying all files from a specific directory\n",
    "files_sar = os.listdir(path_sar)\n",
    "files_lung = os.listdir(path_lung)\n",
    "\n",
    "files_sar"
   ]
  },
  {
   "cell_type": "code",
   "execution_count": 2,
   "id": "63ff5667-2edb-4344-bc49-170515753d45",
   "metadata": {},
   "outputs": [],
   "source": [
    "# Output path to be created with VEP\n",
    "\n",
    "path_sar_out = \"/workspace/projects/sjd_melos/vep/vep_output_files/sarcoma/\"\n",
    "path_lung_out = \"/workspace/projects/sjd_melos/vep/vep_output_files/lung/\""
   ]
  },
  {
   "cell_type": "code",
   "execution_count": 3,
   "id": "8b71002f-6a0c-4ee6-b534-5f9e3a9f7a45",
   "metadata": {},
   "outputs": [],
   "source": [
    "# Parameters to be aggregated (check in: https://www.ensembl.org/info/docs/tools/vep/script/vep_options.html) \n",
    "\n",
    "params = \" -tab --assembly GRCh38 --no_stats --cache --symbol --protein --canonical --mane --offline --af_1kg \"\n",
    "vep_dir = \"/workspace/datasets/vep/\"\n",
    "gnomad = \"--custom /workspace/datasets/gnomad/data/v4.0/hg38/gnomad.genomes.v4.0.sites.\"\n",
    "format = \" --format vcf\"\n",
    "\n",
    "command = \"/workspace/datasets/vep/homo_sapiens/ensembl-vep_111.0.sif vep \""
   ]
  },
  {
   "cell_type": "code",
   "execution_count": 4,
   "id": "c6a64ac4-e265-49dd-9ed4-94984ebc0aef",
   "metadata": {},
   "outputs": [
    {
     "data": {
      "text/plain": [
       "['chr1.tsv.gz',\n",
       " 'chr2.tsv.gz',\n",
       " 'chr3.tsv.gz',\n",
       " 'chr4.tsv.gz',\n",
       " 'chr5.tsv.gz',\n",
       " 'chr6.tsv.gz',\n",
       " 'chr7.tsv.gz',\n",
       " 'chr8.tsv.gz',\n",
       " 'chr9.tsv.gz',\n",
       " 'chr10.tsv.gz',\n",
       " 'chr11.tsv.gz',\n",
       " 'chr12.tsv.gz',\n",
       " 'chr13.tsv.gz',\n",
       " 'chr14.tsv.gz',\n",
       " 'chr15.tsv.gz',\n",
       " 'chr16.tsv.gz',\n",
       " 'chr17.tsv.gz',\n",
       " 'chr18.tsv.gz',\n",
       " 'chr19.tsv.gz',\n",
       " 'chr20.tsv.gz',\n",
       " 'chr21.tsv.gz',\n",
       " 'chr22.tsv.gz',\n",
       " 'chrX.tsv.gz',\n",
       " 'chrY.tsv.gz']"
      ]
     },
     "execution_count": 4,
     "metadata": {},
     "output_type": "execute_result"
    }
   ],
   "source": [
    "# Make a list of chromosomes\n",
    "chrom = []\n",
    "for c in range(1,23): \n",
    "    chrom.append('chr' + str(c) + '.tsv.gz')\n",
    "chrom.append('chrX' + '.tsv.gz')\n",
    "chrom.append('chrY' + '.tsv.gz')\n",
    "chrom"
   ]
  },
  {
   "cell_type": "code",
   "execution_count": 7,
   "id": "58b7617e-2ef5-423e-96e9-a64308757a60",
   "metadata": {},
   "outputs": [
    {
     "name": "stdout",
     "output_type": "stream",
     "text": [
      "<class 'list'>\n"
     ]
    }
   ],
   "source": [
    "print(type(files_sar))"
   ]
  },
  {
   "cell_type": "code",
   "execution_count": 6,
   "id": "479beb40-9142-4649-ba07-b429274ac136",
   "metadata": {},
   "outputs": [
    {
     "name": "stdout",
     "output_type": "stream",
     "text": [
      "<class 'list'>\n"
     ]
    }
   ],
   "source": [
    "print(type(chrom))"
   ]
  },
  {
   "cell_type": "code",
   "execution_count": 9,
   "id": "d0f3d15a-ad6c-49cf-98a7-9cb16309ce8f",
   "metadata": {},
   "outputs": [
    {
     "data": {
      "text/plain": [
       "['/workspace/datasets/vep/homo_sapiens/ensembl-vep_111.0.sif vep --dir /workspace/datasets/vep/ -i /workspace/projects/sjd_melos/vep/vep_input_files/sarcoma/chr1.tsv.gz --format vcf -o /workspace/projects/sjd_melos/vep/vep_output_files/sarcoma/chr1.tsv.gz -tab --assembly GRCh38 --no_stats --cache --symbol --protein --canonical --mane --offline --af_1kg --custom /workspace/datasets/gnomad/data/v4.0/hg38/gnomad.genomes.v4.0.sites.chr1.vcf.bgz,gnomADg,vcf,exact,0,AF,NFE',\n",
       " '/workspace/datasets/vep/homo_sapiens/ensembl-vep_111.0.sif vep --dir /workspace/datasets/vep/ -i /workspace/projects/sjd_melos/vep/vep_input_files/sarcoma/chr2.tsv.gz --format vcf -o /workspace/projects/sjd_melos/vep/vep_output_files/sarcoma/chr2.tsv.gz -tab --assembly GRCh38 --no_stats --cache --symbol --protein --canonical --mane --offline --af_1kg --custom /workspace/datasets/gnomad/data/v4.0/hg38/gnomad.genomes.v4.0.sites.chr2.vcf.bgz,gnomADg,vcf,exact,0,AF,NFE']"
      ]
     },
     "execution_count": 9,
     "metadata": {},
     "output_type": "execute_result"
    }
   ],
   "source": [
    "# First prove code: \n",
    "prova = files_sar[0:2]\n",
    "serie = []\n",
    "for c in chrom: \n",
    "    if c in prova: # add elements in the serie based on chromosome file names\n",
    "        serie.append(command + str('--dir ') + vep_dir  + str(' -i ') + path_sar + c + format + str(' -o ') + path_sar_out + c + params + gnomad + c + str('.vcf.bgz') + str(',gnomADg,vcf,exact,0,AF,NFE'))\n",
    "\n",
    "# Substitute tsv.gz.vcf.bgz for vcf.bgz in the series\n",
    "serie = list(map(lambda x: x.replace(\"tsv.gz.vcf.bgz\", \"vcf.bgz\"), serie))\n",
    "serie"
   ]
  },
  {
   "cell_type": "markdown",
   "id": "8f50fcfd-215e-4aa1-a642-859ee2818f1b",
   "metadata": {},
   "source": [
    "## Sarcoma VEP input files"
   ]
  },
  {
   "cell_type": "code",
   "execution_count": 10,
   "id": "126f3879-3b5d-4c8c-807d-558b6a403eb2",
   "metadata": {},
   "outputs": [],
   "source": [
    "# Now apply the code to the sarcoma input samples\n",
    "serie_sar = []\n",
    "for c in chrom: \n",
    "    if c in files_sar: # add elements in the serie based on chromosome file names\n",
    "        serie_sar.append(command + str('--dir ') + vep_dir  + str(' -i ') + path_sar + c + format + str(' -o ') + path_sar_out + c + params + gnomad + c + str('.vcf.bgz') + str(',gnomADg,vcf,exact,0,AF,NFE'))\n",
    "\n",
    "# Substitute tsv.gz.vcf.bgz for vcf.bgz in the series\n",
    "serie_sar = list(map(lambda x: x.replace(\"tsv.gz.vcf.bgz\", \"vcf.bgz\"), serie_sar))        "
   ]
  },
  {
   "cell_type": "code",
   "execution_count": 11,
   "id": "d696fef0-e0a5-4202-8f15-72812ea6594f",
   "metadata": {
    "scrolled": true
   },
   "outputs": [
    {
     "name": "stdout",
     "output_type": "stream",
     "text": [
      "/workspace/datasets/vep/homo_sapiens/ensembl-vep_111.0.sif vep --dir /workspace/datasets/vep/ -i /workspace/projects/sjd_melos/vep/vep_input_files/sarcoma/chr1.tsv.gz --format vcf -o /workspace/projects/sjd_melos/vep/vep_output_files/sarcoma/chr1.tsv.gz -tab --assembly GRCh38 --no_stats --cache --symbol --protein --canonical --mane --offline --af_1kg --custom /workspace/datasets/gnomad/data/v4.0/hg38/gnomad.genomes.v4.0.sites.chr1.vcf.bgz,gnomADg,vcf,exact,0,AF,NFE\n",
      "/workspace/datasets/vep/homo_sapiens/ensembl-vep_111.0.sif vep --dir /workspace/datasets/vep/ -i /workspace/projects/sjd_melos/vep/vep_input_files/sarcoma/chr2.tsv.gz --format vcf -o /workspace/projects/sjd_melos/vep/vep_output_files/sarcoma/chr2.tsv.gz -tab --assembly GRCh38 --no_stats --cache --symbol --protein --canonical --mane --offline --af_1kg --custom /workspace/datasets/gnomad/data/v4.0/hg38/gnomad.genomes.v4.0.sites.chr2.vcf.bgz,gnomADg,vcf,exact,0,AF,NFE\n",
      "/workspace/datasets/vep/homo_sapiens/ensembl-vep_111.0.sif vep --dir /workspace/datasets/vep/ -i /workspace/projects/sjd_melos/vep/vep_input_files/sarcoma/chr3.tsv.gz --format vcf -o /workspace/projects/sjd_melos/vep/vep_output_files/sarcoma/chr3.tsv.gz -tab --assembly GRCh38 --no_stats --cache --symbol --protein --canonical --mane --offline --af_1kg --custom /workspace/datasets/gnomad/data/v4.0/hg38/gnomad.genomes.v4.0.sites.chr3.vcf.bgz,gnomADg,vcf,exact,0,AF,NFE\n",
      "/workspace/datasets/vep/homo_sapiens/ensembl-vep_111.0.sif vep --dir /workspace/datasets/vep/ -i /workspace/projects/sjd_melos/vep/vep_input_files/sarcoma/chr4.tsv.gz --format vcf -o /workspace/projects/sjd_melos/vep/vep_output_files/sarcoma/chr4.tsv.gz -tab --assembly GRCh38 --no_stats --cache --symbol --protein --canonical --mane --offline --af_1kg --custom /workspace/datasets/gnomad/data/v4.0/hg38/gnomad.genomes.v4.0.sites.chr4.vcf.bgz,gnomADg,vcf,exact,0,AF,NFE\n",
      "/workspace/datasets/vep/homo_sapiens/ensembl-vep_111.0.sif vep --dir /workspace/datasets/vep/ -i /workspace/projects/sjd_melos/vep/vep_input_files/sarcoma/chr5.tsv.gz --format vcf -o /workspace/projects/sjd_melos/vep/vep_output_files/sarcoma/chr5.tsv.gz -tab --assembly GRCh38 --no_stats --cache --symbol --protein --canonical --mane --offline --af_1kg --custom /workspace/datasets/gnomad/data/v4.0/hg38/gnomad.genomes.v4.0.sites.chr5.vcf.bgz,gnomADg,vcf,exact,0,AF,NFE\n",
      "/workspace/datasets/vep/homo_sapiens/ensembl-vep_111.0.sif vep --dir /workspace/datasets/vep/ -i /workspace/projects/sjd_melos/vep/vep_input_files/sarcoma/chr6.tsv.gz --format vcf -o /workspace/projects/sjd_melos/vep/vep_output_files/sarcoma/chr6.tsv.gz -tab --assembly GRCh38 --no_stats --cache --symbol --protein --canonical --mane --offline --af_1kg --custom /workspace/datasets/gnomad/data/v4.0/hg38/gnomad.genomes.v4.0.sites.chr6.vcf.bgz,gnomADg,vcf,exact,0,AF,NFE\n",
      "/workspace/datasets/vep/homo_sapiens/ensembl-vep_111.0.sif vep --dir /workspace/datasets/vep/ -i /workspace/projects/sjd_melos/vep/vep_input_files/sarcoma/chr7.tsv.gz --format vcf -o /workspace/projects/sjd_melos/vep/vep_output_files/sarcoma/chr7.tsv.gz -tab --assembly GRCh38 --no_stats --cache --symbol --protein --canonical --mane --offline --af_1kg --custom /workspace/datasets/gnomad/data/v4.0/hg38/gnomad.genomes.v4.0.sites.chr7.vcf.bgz,gnomADg,vcf,exact,0,AF,NFE\n",
      "/workspace/datasets/vep/homo_sapiens/ensembl-vep_111.0.sif vep --dir /workspace/datasets/vep/ -i /workspace/projects/sjd_melos/vep/vep_input_files/sarcoma/chr8.tsv.gz --format vcf -o /workspace/projects/sjd_melos/vep/vep_output_files/sarcoma/chr8.tsv.gz -tab --assembly GRCh38 --no_stats --cache --symbol --protein --canonical --mane --offline --af_1kg --custom /workspace/datasets/gnomad/data/v4.0/hg38/gnomad.genomes.v4.0.sites.chr8.vcf.bgz,gnomADg,vcf,exact,0,AF,NFE\n",
      "/workspace/datasets/vep/homo_sapiens/ensembl-vep_111.0.sif vep --dir /workspace/datasets/vep/ -i /workspace/projects/sjd_melos/vep/vep_input_files/sarcoma/chr9.tsv.gz --format vcf -o /workspace/projects/sjd_melos/vep/vep_output_files/sarcoma/chr9.tsv.gz -tab --assembly GRCh38 --no_stats --cache --symbol --protein --canonical --mane --offline --af_1kg --custom /workspace/datasets/gnomad/data/v4.0/hg38/gnomad.genomes.v4.0.sites.chr9.vcf.bgz,gnomADg,vcf,exact,0,AF,NFE\n",
      "/workspace/datasets/vep/homo_sapiens/ensembl-vep_111.0.sif vep --dir /workspace/datasets/vep/ -i /workspace/projects/sjd_melos/vep/vep_input_files/sarcoma/chr10.tsv.gz --format vcf -o /workspace/projects/sjd_melos/vep/vep_output_files/sarcoma/chr10.tsv.gz -tab --assembly GRCh38 --no_stats --cache --symbol --protein --canonical --mane --offline --af_1kg --custom /workspace/datasets/gnomad/data/v4.0/hg38/gnomad.genomes.v4.0.sites.chr10.vcf.bgz,gnomADg,vcf,exact,0,AF,NFE\n",
      "/workspace/datasets/vep/homo_sapiens/ensembl-vep_111.0.sif vep --dir /workspace/datasets/vep/ -i /workspace/projects/sjd_melos/vep/vep_input_files/sarcoma/chr11.tsv.gz --format vcf -o /workspace/projects/sjd_melos/vep/vep_output_files/sarcoma/chr11.tsv.gz -tab --assembly GRCh38 --no_stats --cache --symbol --protein --canonical --mane --offline --af_1kg --custom /workspace/datasets/gnomad/data/v4.0/hg38/gnomad.genomes.v4.0.sites.chr11.vcf.bgz,gnomADg,vcf,exact,0,AF,NFE\n",
      "/workspace/datasets/vep/homo_sapiens/ensembl-vep_111.0.sif vep --dir /workspace/datasets/vep/ -i /workspace/projects/sjd_melos/vep/vep_input_files/sarcoma/chr12.tsv.gz --format vcf -o /workspace/projects/sjd_melos/vep/vep_output_files/sarcoma/chr12.tsv.gz -tab --assembly GRCh38 --no_stats --cache --symbol --protein --canonical --mane --offline --af_1kg --custom /workspace/datasets/gnomad/data/v4.0/hg38/gnomad.genomes.v4.0.sites.chr12.vcf.bgz,gnomADg,vcf,exact,0,AF,NFE\n",
      "/workspace/datasets/vep/homo_sapiens/ensembl-vep_111.0.sif vep --dir /workspace/datasets/vep/ -i /workspace/projects/sjd_melos/vep/vep_input_files/sarcoma/chr13.tsv.gz --format vcf -o /workspace/projects/sjd_melos/vep/vep_output_files/sarcoma/chr13.tsv.gz -tab --assembly GRCh38 --no_stats --cache --symbol --protein --canonical --mane --offline --af_1kg --custom /workspace/datasets/gnomad/data/v4.0/hg38/gnomad.genomes.v4.0.sites.chr13.vcf.bgz,gnomADg,vcf,exact,0,AF,NFE\n",
      "/workspace/datasets/vep/homo_sapiens/ensembl-vep_111.0.sif vep --dir /workspace/datasets/vep/ -i /workspace/projects/sjd_melos/vep/vep_input_files/sarcoma/chr14.tsv.gz --format vcf -o /workspace/projects/sjd_melos/vep/vep_output_files/sarcoma/chr14.tsv.gz -tab --assembly GRCh38 --no_stats --cache --symbol --protein --canonical --mane --offline --af_1kg --custom /workspace/datasets/gnomad/data/v4.0/hg38/gnomad.genomes.v4.0.sites.chr14.vcf.bgz,gnomADg,vcf,exact,0,AF,NFE\n",
      "/workspace/datasets/vep/homo_sapiens/ensembl-vep_111.0.sif vep --dir /workspace/datasets/vep/ -i /workspace/projects/sjd_melos/vep/vep_input_files/sarcoma/chr15.tsv.gz --format vcf -o /workspace/projects/sjd_melos/vep/vep_output_files/sarcoma/chr15.tsv.gz -tab --assembly GRCh38 --no_stats --cache --symbol --protein --canonical --mane --offline --af_1kg --custom /workspace/datasets/gnomad/data/v4.0/hg38/gnomad.genomes.v4.0.sites.chr15.vcf.bgz,gnomADg,vcf,exact,0,AF,NFE\n",
      "/workspace/datasets/vep/homo_sapiens/ensembl-vep_111.0.sif vep --dir /workspace/datasets/vep/ -i /workspace/projects/sjd_melos/vep/vep_input_files/sarcoma/chr16.tsv.gz --format vcf -o /workspace/projects/sjd_melos/vep/vep_output_files/sarcoma/chr16.tsv.gz -tab --assembly GRCh38 --no_stats --cache --symbol --protein --canonical --mane --offline --af_1kg --custom /workspace/datasets/gnomad/data/v4.0/hg38/gnomad.genomes.v4.0.sites.chr16.vcf.bgz,gnomADg,vcf,exact,0,AF,NFE\n",
      "/workspace/datasets/vep/homo_sapiens/ensembl-vep_111.0.sif vep --dir /workspace/datasets/vep/ -i /workspace/projects/sjd_melos/vep/vep_input_files/sarcoma/chr17.tsv.gz --format vcf -o /workspace/projects/sjd_melos/vep/vep_output_files/sarcoma/chr17.tsv.gz -tab --assembly GRCh38 --no_stats --cache --symbol --protein --canonical --mane --offline --af_1kg --custom /workspace/datasets/gnomad/data/v4.0/hg38/gnomad.genomes.v4.0.sites.chr17.vcf.bgz,gnomADg,vcf,exact,0,AF,NFE\n",
      "/workspace/datasets/vep/homo_sapiens/ensembl-vep_111.0.sif vep --dir /workspace/datasets/vep/ -i /workspace/projects/sjd_melos/vep/vep_input_files/sarcoma/chr18.tsv.gz --format vcf -o /workspace/projects/sjd_melos/vep/vep_output_files/sarcoma/chr18.tsv.gz -tab --assembly GRCh38 --no_stats --cache --symbol --protein --canonical --mane --offline --af_1kg --custom /workspace/datasets/gnomad/data/v4.0/hg38/gnomad.genomes.v4.0.sites.chr18.vcf.bgz,gnomADg,vcf,exact,0,AF,NFE\n",
      "/workspace/datasets/vep/homo_sapiens/ensembl-vep_111.0.sif vep --dir /workspace/datasets/vep/ -i /workspace/projects/sjd_melos/vep/vep_input_files/sarcoma/chr19.tsv.gz --format vcf -o /workspace/projects/sjd_melos/vep/vep_output_files/sarcoma/chr19.tsv.gz -tab --assembly GRCh38 --no_stats --cache --symbol --protein --canonical --mane --offline --af_1kg --custom /workspace/datasets/gnomad/data/v4.0/hg38/gnomad.genomes.v4.0.sites.chr19.vcf.bgz,gnomADg,vcf,exact,0,AF,NFE\n",
      "/workspace/datasets/vep/homo_sapiens/ensembl-vep_111.0.sif vep --dir /workspace/datasets/vep/ -i /workspace/projects/sjd_melos/vep/vep_input_files/sarcoma/chr20.tsv.gz --format vcf -o /workspace/projects/sjd_melos/vep/vep_output_files/sarcoma/chr20.tsv.gz -tab --assembly GRCh38 --no_stats --cache --symbol --protein --canonical --mane --offline --af_1kg --custom /workspace/datasets/gnomad/data/v4.0/hg38/gnomad.genomes.v4.0.sites.chr20.vcf.bgz,gnomADg,vcf,exact,0,AF,NFE\n",
      "/workspace/datasets/vep/homo_sapiens/ensembl-vep_111.0.sif vep --dir /workspace/datasets/vep/ -i /workspace/projects/sjd_melos/vep/vep_input_files/sarcoma/chr21.tsv.gz --format vcf -o /workspace/projects/sjd_melos/vep/vep_output_files/sarcoma/chr21.tsv.gz -tab --assembly GRCh38 --no_stats --cache --symbol --protein --canonical --mane --offline --af_1kg --custom /workspace/datasets/gnomad/data/v4.0/hg38/gnomad.genomes.v4.0.sites.chr21.vcf.bgz,gnomADg,vcf,exact,0,AF,NFE\n",
      "/workspace/datasets/vep/homo_sapiens/ensembl-vep_111.0.sif vep --dir /workspace/datasets/vep/ -i /workspace/projects/sjd_melos/vep/vep_input_files/sarcoma/chr22.tsv.gz --format vcf -o /workspace/projects/sjd_melos/vep/vep_output_files/sarcoma/chr22.tsv.gz -tab --assembly GRCh38 --no_stats --cache --symbol --protein --canonical --mane --offline --af_1kg --custom /workspace/datasets/gnomad/data/v4.0/hg38/gnomad.genomes.v4.0.sites.chr22.vcf.bgz,gnomADg,vcf,exact,0,AF,NFE\n",
      "/workspace/datasets/vep/homo_sapiens/ensembl-vep_111.0.sif vep --dir /workspace/datasets/vep/ -i /workspace/projects/sjd_melos/vep/vep_input_files/sarcoma/chrX.tsv.gz --format vcf -o /workspace/projects/sjd_melos/vep/vep_output_files/sarcoma/chrX.tsv.gz -tab --assembly GRCh38 --no_stats --cache --symbol --protein --canonical --mane --offline --af_1kg --custom /workspace/datasets/gnomad/data/v4.0/hg38/gnomad.genomes.v4.0.sites.chrX.vcf.bgz,gnomADg,vcf,exact,0,AF,NFE\n",
      "/workspace/datasets/vep/homo_sapiens/ensembl-vep_111.0.sif vep --dir /workspace/datasets/vep/ -i /workspace/projects/sjd_melos/vep/vep_input_files/sarcoma/chrY.tsv.gz --format vcf -o /workspace/projects/sjd_melos/vep/vep_output_files/sarcoma/chrY.tsv.gz -tab --assembly GRCh38 --no_stats --cache --symbol --protein --canonical --mane --offline --af_1kg --custom /workspace/datasets/gnomad/data/v4.0/hg38/gnomad.genomes.v4.0.sites.chrY.vcf.bgz,gnomADg,vcf,exact,0,AF,NFE\n"
     ]
    }
   ],
   "source": [
    "# To change the separator of the list from comma to \\n we can use join function that joins the elements of a string list\n",
    "sar_result = '\\n'.join(serie_sar)\n",
    "print(sar_result)"
   ]
  },
  {
   "cell_type": "markdown",
   "id": "c39e3e01-5885-445f-8304-5a7ed06ef3d2",
   "metadata": {},
   "source": [
    "## Lung VEP input files"
   ]
  },
  {
   "cell_type": "code",
   "execution_count": 12,
   "id": "2926a9c0-b393-448f-ad23-9421e24d0195",
   "metadata": {},
   "outputs": [],
   "source": [
    "# Now apply the code to the lung input samples\n",
    "serie_lung = []\n",
    "for c in chrom: \n",
    "    if c in files_lung: # add elements in the serie based on chromosome file names\n",
    "        serie_lung.append(command + str('--dir ') + vep_dir  + str(' -i ') + path_lung + c + format + str(' -o ') + path_lung_out + c + params + gnomad + c + str('.vcf.bgz') + str(',gnomADg,vcf,exact,0,AF,NFE'))\n",
    "\n",
    "# Substitute tsv.gz.vcf.bgz for vcf.bgz in the series\n",
    "serie_lung = list(map(lambda x: x.replace(\"tsv.gz.vcf.bgz\", \"vcf.bgz\"), serie_lung))      "
   ]
  },
  {
   "cell_type": "code",
   "execution_count": 13,
   "id": "af92e92c-f4ff-4e56-ba30-ce3d69586f8c",
   "metadata": {
    "scrolled": true
   },
   "outputs": [
    {
     "name": "stdout",
     "output_type": "stream",
     "text": [
      "/workspace/datasets/vep/homo_sapiens/ensembl-vep_111.0.sif vep --dir /workspace/datasets/vep/ -i /workspace/projects/sjd_melos/vep/vep_input_files/lung/chr1.tsv.gz --format vcf -o /workspace/projects/sjd_melos/vep/vep_output_files/lung/chr1.tsv.gz -tab --assembly GRCh38 --no_stats --cache --symbol --protein --canonical --mane --offline --af_1kg --custom /workspace/datasets/gnomad/data/v4.0/hg38/gnomad.genomes.v4.0.sites.chr1.vcf.bgz,gnomADg,vcf,exact,0,AF,NFE\n",
      "/workspace/datasets/vep/homo_sapiens/ensembl-vep_111.0.sif vep --dir /workspace/datasets/vep/ -i /workspace/projects/sjd_melos/vep/vep_input_files/lung/chr2.tsv.gz --format vcf -o /workspace/projects/sjd_melos/vep/vep_output_files/lung/chr2.tsv.gz -tab --assembly GRCh38 --no_stats --cache --symbol --protein --canonical --mane --offline --af_1kg --custom /workspace/datasets/gnomad/data/v4.0/hg38/gnomad.genomes.v4.0.sites.chr2.vcf.bgz,gnomADg,vcf,exact,0,AF,NFE\n",
      "/workspace/datasets/vep/homo_sapiens/ensembl-vep_111.0.sif vep --dir /workspace/datasets/vep/ -i /workspace/projects/sjd_melos/vep/vep_input_files/lung/chr3.tsv.gz --format vcf -o /workspace/projects/sjd_melos/vep/vep_output_files/lung/chr3.tsv.gz -tab --assembly GRCh38 --no_stats --cache --symbol --protein --canonical --mane --offline --af_1kg --custom /workspace/datasets/gnomad/data/v4.0/hg38/gnomad.genomes.v4.0.sites.chr3.vcf.bgz,gnomADg,vcf,exact,0,AF,NFE\n",
      "/workspace/datasets/vep/homo_sapiens/ensembl-vep_111.0.sif vep --dir /workspace/datasets/vep/ -i /workspace/projects/sjd_melos/vep/vep_input_files/lung/chr4.tsv.gz --format vcf -o /workspace/projects/sjd_melos/vep/vep_output_files/lung/chr4.tsv.gz -tab --assembly GRCh38 --no_stats --cache --symbol --protein --canonical --mane --offline --af_1kg --custom /workspace/datasets/gnomad/data/v4.0/hg38/gnomad.genomes.v4.0.sites.chr4.vcf.bgz,gnomADg,vcf,exact,0,AF,NFE\n",
      "/workspace/datasets/vep/homo_sapiens/ensembl-vep_111.0.sif vep --dir /workspace/datasets/vep/ -i /workspace/projects/sjd_melos/vep/vep_input_files/lung/chr5.tsv.gz --format vcf -o /workspace/projects/sjd_melos/vep/vep_output_files/lung/chr5.tsv.gz -tab --assembly GRCh38 --no_stats --cache --symbol --protein --canonical --mane --offline --af_1kg --custom /workspace/datasets/gnomad/data/v4.0/hg38/gnomad.genomes.v4.0.sites.chr5.vcf.bgz,gnomADg,vcf,exact,0,AF,NFE\n",
      "/workspace/datasets/vep/homo_sapiens/ensembl-vep_111.0.sif vep --dir /workspace/datasets/vep/ -i /workspace/projects/sjd_melos/vep/vep_input_files/lung/chr6.tsv.gz --format vcf -o /workspace/projects/sjd_melos/vep/vep_output_files/lung/chr6.tsv.gz -tab --assembly GRCh38 --no_stats --cache --symbol --protein --canonical --mane --offline --af_1kg --custom /workspace/datasets/gnomad/data/v4.0/hg38/gnomad.genomes.v4.0.sites.chr6.vcf.bgz,gnomADg,vcf,exact,0,AF,NFE\n",
      "/workspace/datasets/vep/homo_sapiens/ensembl-vep_111.0.sif vep --dir /workspace/datasets/vep/ -i /workspace/projects/sjd_melos/vep/vep_input_files/lung/chr7.tsv.gz --format vcf -o /workspace/projects/sjd_melos/vep/vep_output_files/lung/chr7.tsv.gz -tab --assembly GRCh38 --no_stats --cache --symbol --protein --canonical --mane --offline --af_1kg --custom /workspace/datasets/gnomad/data/v4.0/hg38/gnomad.genomes.v4.0.sites.chr7.vcf.bgz,gnomADg,vcf,exact,0,AF,NFE\n",
      "/workspace/datasets/vep/homo_sapiens/ensembl-vep_111.0.sif vep --dir /workspace/datasets/vep/ -i /workspace/projects/sjd_melos/vep/vep_input_files/lung/chr8.tsv.gz --format vcf -o /workspace/projects/sjd_melos/vep/vep_output_files/lung/chr8.tsv.gz -tab --assembly GRCh38 --no_stats --cache --symbol --protein --canonical --mane --offline --af_1kg --custom /workspace/datasets/gnomad/data/v4.0/hg38/gnomad.genomes.v4.0.sites.chr8.vcf.bgz,gnomADg,vcf,exact,0,AF,NFE\n",
      "/workspace/datasets/vep/homo_sapiens/ensembl-vep_111.0.sif vep --dir /workspace/datasets/vep/ -i /workspace/projects/sjd_melos/vep/vep_input_files/lung/chr9.tsv.gz --format vcf -o /workspace/projects/sjd_melos/vep/vep_output_files/lung/chr9.tsv.gz -tab --assembly GRCh38 --no_stats --cache --symbol --protein --canonical --mane --offline --af_1kg --custom /workspace/datasets/gnomad/data/v4.0/hg38/gnomad.genomes.v4.0.sites.chr9.vcf.bgz,gnomADg,vcf,exact,0,AF,NFE\n",
      "/workspace/datasets/vep/homo_sapiens/ensembl-vep_111.0.sif vep --dir /workspace/datasets/vep/ -i /workspace/projects/sjd_melos/vep/vep_input_files/lung/chr10.tsv.gz --format vcf -o /workspace/projects/sjd_melos/vep/vep_output_files/lung/chr10.tsv.gz -tab --assembly GRCh38 --no_stats --cache --symbol --protein --canonical --mane --offline --af_1kg --custom /workspace/datasets/gnomad/data/v4.0/hg38/gnomad.genomes.v4.0.sites.chr10.vcf.bgz,gnomADg,vcf,exact,0,AF,NFE\n",
      "/workspace/datasets/vep/homo_sapiens/ensembl-vep_111.0.sif vep --dir /workspace/datasets/vep/ -i /workspace/projects/sjd_melos/vep/vep_input_files/lung/chr11.tsv.gz --format vcf -o /workspace/projects/sjd_melos/vep/vep_output_files/lung/chr11.tsv.gz -tab --assembly GRCh38 --no_stats --cache --symbol --protein --canonical --mane --offline --af_1kg --custom /workspace/datasets/gnomad/data/v4.0/hg38/gnomad.genomes.v4.0.sites.chr11.vcf.bgz,gnomADg,vcf,exact,0,AF,NFE\n",
      "/workspace/datasets/vep/homo_sapiens/ensembl-vep_111.0.sif vep --dir /workspace/datasets/vep/ -i /workspace/projects/sjd_melos/vep/vep_input_files/lung/chr12.tsv.gz --format vcf -o /workspace/projects/sjd_melos/vep/vep_output_files/lung/chr12.tsv.gz -tab --assembly GRCh38 --no_stats --cache --symbol --protein --canonical --mane --offline --af_1kg --custom /workspace/datasets/gnomad/data/v4.0/hg38/gnomad.genomes.v4.0.sites.chr12.vcf.bgz,gnomADg,vcf,exact,0,AF,NFE\n",
      "/workspace/datasets/vep/homo_sapiens/ensembl-vep_111.0.sif vep --dir /workspace/datasets/vep/ -i /workspace/projects/sjd_melos/vep/vep_input_files/lung/chr13.tsv.gz --format vcf -o /workspace/projects/sjd_melos/vep/vep_output_files/lung/chr13.tsv.gz -tab --assembly GRCh38 --no_stats --cache --symbol --protein --canonical --mane --offline --af_1kg --custom /workspace/datasets/gnomad/data/v4.0/hg38/gnomad.genomes.v4.0.sites.chr13.vcf.bgz,gnomADg,vcf,exact,0,AF,NFE\n",
      "/workspace/datasets/vep/homo_sapiens/ensembl-vep_111.0.sif vep --dir /workspace/datasets/vep/ -i /workspace/projects/sjd_melos/vep/vep_input_files/lung/chr14.tsv.gz --format vcf -o /workspace/projects/sjd_melos/vep/vep_output_files/lung/chr14.tsv.gz -tab --assembly GRCh38 --no_stats --cache --symbol --protein --canonical --mane --offline --af_1kg --custom /workspace/datasets/gnomad/data/v4.0/hg38/gnomad.genomes.v4.0.sites.chr14.vcf.bgz,gnomADg,vcf,exact,0,AF,NFE\n",
      "/workspace/datasets/vep/homo_sapiens/ensembl-vep_111.0.sif vep --dir /workspace/datasets/vep/ -i /workspace/projects/sjd_melos/vep/vep_input_files/lung/chr15.tsv.gz --format vcf -o /workspace/projects/sjd_melos/vep/vep_output_files/lung/chr15.tsv.gz -tab --assembly GRCh38 --no_stats --cache --symbol --protein --canonical --mane --offline --af_1kg --custom /workspace/datasets/gnomad/data/v4.0/hg38/gnomad.genomes.v4.0.sites.chr15.vcf.bgz,gnomADg,vcf,exact,0,AF,NFE\n",
      "/workspace/datasets/vep/homo_sapiens/ensembl-vep_111.0.sif vep --dir /workspace/datasets/vep/ -i /workspace/projects/sjd_melos/vep/vep_input_files/lung/chr16.tsv.gz --format vcf -o /workspace/projects/sjd_melos/vep/vep_output_files/lung/chr16.tsv.gz -tab --assembly GRCh38 --no_stats --cache --symbol --protein --canonical --mane --offline --af_1kg --custom /workspace/datasets/gnomad/data/v4.0/hg38/gnomad.genomes.v4.0.sites.chr16.vcf.bgz,gnomADg,vcf,exact,0,AF,NFE\n",
      "/workspace/datasets/vep/homo_sapiens/ensembl-vep_111.0.sif vep --dir /workspace/datasets/vep/ -i /workspace/projects/sjd_melos/vep/vep_input_files/lung/chr17.tsv.gz --format vcf -o /workspace/projects/sjd_melos/vep/vep_output_files/lung/chr17.tsv.gz -tab --assembly GRCh38 --no_stats --cache --symbol --protein --canonical --mane --offline --af_1kg --custom /workspace/datasets/gnomad/data/v4.0/hg38/gnomad.genomes.v4.0.sites.chr17.vcf.bgz,gnomADg,vcf,exact,0,AF,NFE\n",
      "/workspace/datasets/vep/homo_sapiens/ensembl-vep_111.0.sif vep --dir /workspace/datasets/vep/ -i /workspace/projects/sjd_melos/vep/vep_input_files/lung/chr18.tsv.gz --format vcf -o /workspace/projects/sjd_melos/vep/vep_output_files/lung/chr18.tsv.gz -tab --assembly GRCh38 --no_stats --cache --symbol --protein --canonical --mane --offline --af_1kg --custom /workspace/datasets/gnomad/data/v4.0/hg38/gnomad.genomes.v4.0.sites.chr18.vcf.bgz,gnomADg,vcf,exact,0,AF,NFE\n",
      "/workspace/datasets/vep/homo_sapiens/ensembl-vep_111.0.sif vep --dir /workspace/datasets/vep/ -i /workspace/projects/sjd_melos/vep/vep_input_files/lung/chr19.tsv.gz --format vcf -o /workspace/projects/sjd_melos/vep/vep_output_files/lung/chr19.tsv.gz -tab --assembly GRCh38 --no_stats --cache --symbol --protein --canonical --mane --offline --af_1kg --custom /workspace/datasets/gnomad/data/v4.0/hg38/gnomad.genomes.v4.0.sites.chr19.vcf.bgz,gnomADg,vcf,exact,0,AF,NFE\n",
      "/workspace/datasets/vep/homo_sapiens/ensembl-vep_111.0.sif vep --dir /workspace/datasets/vep/ -i /workspace/projects/sjd_melos/vep/vep_input_files/lung/chr20.tsv.gz --format vcf -o /workspace/projects/sjd_melos/vep/vep_output_files/lung/chr20.tsv.gz -tab --assembly GRCh38 --no_stats --cache --symbol --protein --canonical --mane --offline --af_1kg --custom /workspace/datasets/gnomad/data/v4.0/hg38/gnomad.genomes.v4.0.sites.chr20.vcf.bgz,gnomADg,vcf,exact,0,AF,NFE\n",
      "/workspace/datasets/vep/homo_sapiens/ensembl-vep_111.0.sif vep --dir /workspace/datasets/vep/ -i /workspace/projects/sjd_melos/vep/vep_input_files/lung/chr21.tsv.gz --format vcf -o /workspace/projects/sjd_melos/vep/vep_output_files/lung/chr21.tsv.gz -tab --assembly GRCh38 --no_stats --cache --symbol --protein --canonical --mane --offline --af_1kg --custom /workspace/datasets/gnomad/data/v4.0/hg38/gnomad.genomes.v4.0.sites.chr21.vcf.bgz,gnomADg,vcf,exact,0,AF,NFE\n",
      "/workspace/datasets/vep/homo_sapiens/ensembl-vep_111.0.sif vep --dir /workspace/datasets/vep/ -i /workspace/projects/sjd_melos/vep/vep_input_files/lung/chr22.tsv.gz --format vcf -o /workspace/projects/sjd_melos/vep/vep_output_files/lung/chr22.tsv.gz -tab --assembly GRCh38 --no_stats --cache --symbol --protein --canonical --mane --offline --af_1kg --custom /workspace/datasets/gnomad/data/v4.0/hg38/gnomad.genomes.v4.0.sites.chr22.vcf.bgz,gnomADg,vcf,exact,0,AF,NFE\n",
      "/workspace/datasets/vep/homo_sapiens/ensembl-vep_111.0.sif vep --dir /workspace/datasets/vep/ -i /workspace/projects/sjd_melos/vep/vep_input_files/lung/chrX.tsv.gz --format vcf -o /workspace/projects/sjd_melos/vep/vep_output_files/lung/chrX.tsv.gz -tab --assembly GRCh38 --no_stats --cache --symbol --protein --canonical --mane --offline --af_1kg --custom /workspace/datasets/gnomad/data/v4.0/hg38/gnomad.genomes.v4.0.sites.chrX.vcf.bgz,gnomADg,vcf,exact,0,AF,NFE\n",
      "/workspace/datasets/vep/homo_sapiens/ensembl-vep_111.0.sif vep --dir /workspace/datasets/vep/ -i /workspace/projects/sjd_melos/vep/vep_input_files/lung/chrY.tsv.gz --format vcf -o /workspace/projects/sjd_melos/vep/vep_output_files/lung/chrY.tsv.gz -tab --assembly GRCh38 --no_stats --cache --symbol --protein --canonical --mane --offline --af_1kg --custom /workspace/datasets/gnomad/data/v4.0/hg38/gnomad.genomes.v4.0.sites.chrY.vcf.bgz,gnomADg,vcf,exact,0,AF,NFE\n"
     ]
    }
   ],
   "source": [
    "# To change the separator of the list from comma to \\n we can use join function that joins the elements of a string list\n",
    "lung_result = '\\n'.join(serie_lung)\n",
    "print(lung_result)"
   ]
  },
  {
   "cell_type": "markdown",
   "id": "2c777f00-0a3d-4a06-93df-eb6aea0afbf9",
   "metadata": {},
   "source": [
    "## Add header and join all samples"
   ]
  },
  {
   "cell_type": "code",
   "execution_count": 14,
   "id": "5dda104e-31ee-4fff-b323-65377818caf2",
   "metadata": {},
   "outputs": [
    {
     "name": "stdout",
     "output_type": "stream",
     "text": [
      "[pre]\n",
      "[params]\n",
      "cores = 1\n",
      "memory = 8G\n",
      "[jobs]\n"
     ]
    }
   ],
   "source": [
    "# Include information of the header as a list\n",
    "header = ['[pre]', '[params]', 'cores = 1', 'memory = 8G', '[jobs]']\n",
    "header = '\\n'.join(header)\n",
    "print(header)"
   ]
  },
  {
   "cell_type": "code",
   "execution_count": 15,
   "id": "d9c21d71-dbd3-43c1-902c-3944180ecf89",
   "metadata": {
    "scrolled": true
   },
   "outputs": [
    {
     "name": "stdout",
     "output_type": "stream",
     "text": [
      "[pre]\n",
      "[params]\n",
      "cores = 1\n",
      "memory = 8G\n",
      "[jobs]\n",
      "/workspace/datasets/vep/homo_sapiens/ensembl-vep_111.0.sif vep --dir /workspace/datasets/vep/ -i /workspace/projects/sjd_melos/vep/vep_input_files/sarcoma/chr1.tsv.gz --format vcf -o /workspace/projects/sjd_melos/vep/vep_output_files/sarcoma/chr1.tsv.gz -tab --assembly GRCh38 --no_stats --cache --symbol --protein --canonical --mane --offline --af_1kg --custom /workspace/datasets/gnomad/data/v4.0/hg38/gnomad.genomes.v4.0.sites.chr1.vcf.bgz,gnomADg,vcf,exact,0,AF,NFE\n",
      "/workspace/datasets/vep/homo_sapiens/ensembl-vep_111.0.sif vep --dir /workspace/datasets/vep/ -i /workspace/projects/sjd_melos/vep/vep_input_files/sarcoma/chr2.tsv.gz --format vcf -o /workspace/projects/sjd_melos/vep/vep_output_files/sarcoma/chr2.tsv.gz -tab --assembly GRCh38 --no_stats --cache --symbol --protein --canonical --mane --offline --af_1kg --custom /workspace/datasets/gnomad/data/v4.0/hg38/gnomad.genomes.v4.0.sites.chr2.vcf.bgz,gnomADg,vcf,exact,0,AF,NFE\n",
      "/workspace/datasets/vep/homo_sapiens/ensembl-vep_111.0.sif vep --dir /workspace/datasets/vep/ -i /workspace/projects/sjd_melos/vep/vep_input_files/sarcoma/chr3.tsv.gz --format vcf -o /workspace/projects/sjd_melos/vep/vep_output_files/sarcoma/chr3.tsv.gz -tab --assembly GRCh38 --no_stats --cache --symbol --protein --canonical --mane --offline --af_1kg --custom /workspace/datasets/gnomad/data/v4.0/hg38/gnomad.genomes.v4.0.sites.chr3.vcf.bgz,gnomADg,vcf,exact,0,AF,NFE\n",
      "/workspace/datasets/vep/homo_sapiens/ensembl-vep_111.0.sif vep --dir /workspace/datasets/vep/ -i /workspace/projects/sjd_melos/vep/vep_input_files/sarcoma/chr4.tsv.gz --format vcf -o /workspace/projects/sjd_melos/vep/vep_output_files/sarcoma/chr4.tsv.gz -tab --assembly GRCh38 --no_stats --cache --symbol --protein --canonical --mane --offline --af_1kg --custom /workspace/datasets/gnomad/data/v4.0/hg38/gnomad.genomes.v4.0.sites.chr4.vcf.bgz,gnomADg,vcf,exact,0,AF,NFE\n",
      "/workspace/datasets/vep/homo_sapiens/ensembl-vep_111.0.sif vep --dir /workspace/datasets/vep/ -i /workspace/projects/sjd_melos/vep/vep_input_files/sarcoma/chr5.tsv.gz --format vcf -o /workspace/projects/sjd_melos/vep/vep_output_files/sarcoma/chr5.tsv.gz -tab --assembly GRCh38 --no_stats --cache --symbol --protein --canonical --mane --offline --af_1kg --custom /workspace/datasets/gnomad/data/v4.0/hg38/gnomad.genomes.v4.0.sites.chr5.vcf.bgz,gnomADg,vcf,exact,0,AF,NFE\n",
      "/workspace/datasets/vep/homo_sapiens/ensembl-vep_111.0.sif vep --dir /workspace/datasets/vep/ -i /workspace/projects/sjd_melos/vep/vep_input_files/sarcoma/chr6.tsv.gz --format vcf -o /workspace/projects/sjd_melos/vep/vep_output_files/sarcoma/chr6.tsv.gz -tab --assembly GRCh38 --no_stats --cache --symbol --protein --canonical --mane --offline --af_1kg --custom /workspace/datasets/gnomad/data/v4.0/hg38/gnomad.genomes.v4.0.sites.chr6.vcf.bgz,gnomADg,vcf,exact,0,AF,NFE\n",
      "/workspace/datasets/vep/homo_sapiens/ensembl-vep_111.0.sif vep --dir /workspace/datasets/vep/ -i /workspace/projects/sjd_melos/vep/vep_input_files/sarcoma/chr7.tsv.gz --format vcf -o /workspace/projects/sjd_melos/vep/vep_output_files/sarcoma/chr7.tsv.gz -tab --assembly GRCh38 --no_stats --cache --symbol --protein --canonical --mane --offline --af_1kg --custom /workspace/datasets/gnomad/data/v4.0/hg38/gnomad.genomes.v4.0.sites.chr7.vcf.bgz,gnomADg,vcf,exact,0,AF,NFE\n",
      "/workspace/datasets/vep/homo_sapiens/ensembl-vep_111.0.sif vep --dir /workspace/datasets/vep/ -i /workspace/projects/sjd_melos/vep/vep_input_files/sarcoma/chr8.tsv.gz --format vcf -o /workspace/projects/sjd_melos/vep/vep_output_files/sarcoma/chr8.tsv.gz -tab --assembly GRCh38 --no_stats --cache --symbol --protein --canonical --mane --offline --af_1kg --custom /workspace/datasets/gnomad/data/v4.0/hg38/gnomad.genomes.v4.0.sites.chr8.vcf.bgz,gnomADg,vcf,exact,0,AF,NFE\n",
      "/workspace/datasets/vep/homo_sapiens/ensembl-vep_111.0.sif vep --dir /workspace/datasets/vep/ -i /workspace/projects/sjd_melos/vep/vep_input_files/sarcoma/chr9.tsv.gz --format vcf -o /workspace/projects/sjd_melos/vep/vep_output_files/sarcoma/chr9.tsv.gz -tab --assembly GRCh38 --no_stats --cache --symbol --protein --canonical --mane --offline --af_1kg --custom /workspace/datasets/gnomad/data/v4.0/hg38/gnomad.genomes.v4.0.sites.chr9.vcf.bgz,gnomADg,vcf,exact,0,AF,NFE\n",
      "/workspace/datasets/vep/homo_sapiens/ensembl-vep_111.0.sif vep --dir /workspace/datasets/vep/ -i /workspace/projects/sjd_melos/vep/vep_input_files/sarcoma/chr10.tsv.gz --format vcf -o /workspace/projects/sjd_melos/vep/vep_output_files/sarcoma/chr10.tsv.gz -tab --assembly GRCh38 --no_stats --cache --symbol --protein --canonical --mane --offline --af_1kg --custom /workspace/datasets/gnomad/data/v4.0/hg38/gnomad.genomes.v4.0.sites.chr10.vcf.bgz,gnomADg,vcf,exact,0,AF,NFE\n",
      "/workspace/datasets/vep/homo_sapiens/ensembl-vep_111.0.sif vep --dir /workspace/datasets/vep/ -i /workspace/projects/sjd_melos/vep/vep_input_files/sarcoma/chr11.tsv.gz --format vcf -o /workspace/projects/sjd_melos/vep/vep_output_files/sarcoma/chr11.tsv.gz -tab --assembly GRCh38 --no_stats --cache --symbol --protein --canonical --mane --offline --af_1kg --custom /workspace/datasets/gnomad/data/v4.0/hg38/gnomad.genomes.v4.0.sites.chr11.vcf.bgz,gnomADg,vcf,exact,0,AF,NFE\n",
      "/workspace/datasets/vep/homo_sapiens/ensembl-vep_111.0.sif vep --dir /workspace/datasets/vep/ -i /workspace/projects/sjd_melos/vep/vep_input_files/sarcoma/chr12.tsv.gz --format vcf -o /workspace/projects/sjd_melos/vep/vep_output_files/sarcoma/chr12.tsv.gz -tab --assembly GRCh38 --no_stats --cache --symbol --protein --canonical --mane --offline --af_1kg --custom /workspace/datasets/gnomad/data/v4.0/hg38/gnomad.genomes.v4.0.sites.chr12.vcf.bgz,gnomADg,vcf,exact,0,AF,NFE\n",
      "/workspace/datasets/vep/homo_sapiens/ensembl-vep_111.0.sif vep --dir /workspace/datasets/vep/ -i /workspace/projects/sjd_melos/vep/vep_input_files/sarcoma/chr13.tsv.gz --format vcf -o /workspace/projects/sjd_melos/vep/vep_output_files/sarcoma/chr13.tsv.gz -tab --assembly GRCh38 --no_stats --cache --symbol --protein --canonical --mane --offline --af_1kg --custom /workspace/datasets/gnomad/data/v4.0/hg38/gnomad.genomes.v4.0.sites.chr13.vcf.bgz,gnomADg,vcf,exact,0,AF,NFE\n",
      "/workspace/datasets/vep/homo_sapiens/ensembl-vep_111.0.sif vep --dir /workspace/datasets/vep/ -i /workspace/projects/sjd_melos/vep/vep_input_files/sarcoma/chr14.tsv.gz --format vcf -o /workspace/projects/sjd_melos/vep/vep_output_files/sarcoma/chr14.tsv.gz -tab --assembly GRCh38 --no_stats --cache --symbol --protein --canonical --mane --offline --af_1kg --custom /workspace/datasets/gnomad/data/v4.0/hg38/gnomad.genomes.v4.0.sites.chr14.vcf.bgz,gnomADg,vcf,exact,0,AF,NFE\n",
      "/workspace/datasets/vep/homo_sapiens/ensembl-vep_111.0.sif vep --dir /workspace/datasets/vep/ -i /workspace/projects/sjd_melos/vep/vep_input_files/sarcoma/chr15.tsv.gz --format vcf -o /workspace/projects/sjd_melos/vep/vep_output_files/sarcoma/chr15.tsv.gz -tab --assembly GRCh38 --no_stats --cache --symbol --protein --canonical --mane --offline --af_1kg --custom /workspace/datasets/gnomad/data/v4.0/hg38/gnomad.genomes.v4.0.sites.chr15.vcf.bgz,gnomADg,vcf,exact,0,AF,NFE\n",
      "/workspace/datasets/vep/homo_sapiens/ensembl-vep_111.0.sif vep --dir /workspace/datasets/vep/ -i /workspace/projects/sjd_melos/vep/vep_input_files/sarcoma/chr16.tsv.gz --format vcf -o /workspace/projects/sjd_melos/vep/vep_output_files/sarcoma/chr16.tsv.gz -tab --assembly GRCh38 --no_stats --cache --symbol --protein --canonical --mane --offline --af_1kg --custom /workspace/datasets/gnomad/data/v4.0/hg38/gnomad.genomes.v4.0.sites.chr16.vcf.bgz,gnomADg,vcf,exact,0,AF,NFE\n",
      "/workspace/datasets/vep/homo_sapiens/ensembl-vep_111.0.sif vep --dir /workspace/datasets/vep/ -i /workspace/projects/sjd_melos/vep/vep_input_files/sarcoma/chr17.tsv.gz --format vcf -o /workspace/projects/sjd_melos/vep/vep_output_files/sarcoma/chr17.tsv.gz -tab --assembly GRCh38 --no_stats --cache --symbol --protein --canonical --mane --offline --af_1kg --custom /workspace/datasets/gnomad/data/v4.0/hg38/gnomad.genomes.v4.0.sites.chr17.vcf.bgz,gnomADg,vcf,exact,0,AF,NFE\n",
      "/workspace/datasets/vep/homo_sapiens/ensembl-vep_111.0.sif vep --dir /workspace/datasets/vep/ -i /workspace/projects/sjd_melos/vep/vep_input_files/sarcoma/chr18.tsv.gz --format vcf -o /workspace/projects/sjd_melos/vep/vep_output_files/sarcoma/chr18.tsv.gz -tab --assembly GRCh38 --no_stats --cache --symbol --protein --canonical --mane --offline --af_1kg --custom /workspace/datasets/gnomad/data/v4.0/hg38/gnomad.genomes.v4.0.sites.chr18.vcf.bgz,gnomADg,vcf,exact,0,AF,NFE\n",
      "/workspace/datasets/vep/homo_sapiens/ensembl-vep_111.0.sif vep --dir /workspace/datasets/vep/ -i /workspace/projects/sjd_melos/vep/vep_input_files/sarcoma/chr19.tsv.gz --format vcf -o /workspace/projects/sjd_melos/vep/vep_output_files/sarcoma/chr19.tsv.gz -tab --assembly GRCh38 --no_stats --cache --symbol --protein --canonical --mane --offline --af_1kg --custom /workspace/datasets/gnomad/data/v4.0/hg38/gnomad.genomes.v4.0.sites.chr19.vcf.bgz,gnomADg,vcf,exact,0,AF,NFE\n",
      "/workspace/datasets/vep/homo_sapiens/ensembl-vep_111.0.sif vep --dir /workspace/datasets/vep/ -i /workspace/projects/sjd_melos/vep/vep_input_files/sarcoma/chr20.tsv.gz --format vcf -o /workspace/projects/sjd_melos/vep/vep_output_files/sarcoma/chr20.tsv.gz -tab --assembly GRCh38 --no_stats --cache --symbol --protein --canonical --mane --offline --af_1kg --custom /workspace/datasets/gnomad/data/v4.0/hg38/gnomad.genomes.v4.0.sites.chr20.vcf.bgz,gnomADg,vcf,exact,0,AF,NFE\n",
      "/workspace/datasets/vep/homo_sapiens/ensembl-vep_111.0.sif vep --dir /workspace/datasets/vep/ -i /workspace/projects/sjd_melos/vep/vep_input_files/sarcoma/chr21.tsv.gz --format vcf -o /workspace/projects/sjd_melos/vep/vep_output_files/sarcoma/chr21.tsv.gz -tab --assembly GRCh38 --no_stats --cache --symbol --protein --canonical --mane --offline --af_1kg --custom /workspace/datasets/gnomad/data/v4.0/hg38/gnomad.genomes.v4.0.sites.chr21.vcf.bgz,gnomADg,vcf,exact,0,AF,NFE\n",
      "/workspace/datasets/vep/homo_sapiens/ensembl-vep_111.0.sif vep --dir /workspace/datasets/vep/ -i /workspace/projects/sjd_melos/vep/vep_input_files/sarcoma/chr22.tsv.gz --format vcf -o /workspace/projects/sjd_melos/vep/vep_output_files/sarcoma/chr22.tsv.gz -tab --assembly GRCh38 --no_stats --cache --symbol --protein --canonical --mane --offline --af_1kg --custom /workspace/datasets/gnomad/data/v4.0/hg38/gnomad.genomes.v4.0.sites.chr22.vcf.bgz,gnomADg,vcf,exact,0,AF,NFE\n",
      "/workspace/datasets/vep/homo_sapiens/ensembl-vep_111.0.sif vep --dir /workspace/datasets/vep/ -i /workspace/projects/sjd_melos/vep/vep_input_files/sarcoma/chrX.tsv.gz --format vcf -o /workspace/projects/sjd_melos/vep/vep_output_files/sarcoma/chrX.tsv.gz -tab --assembly GRCh38 --no_stats --cache --symbol --protein --canonical --mane --offline --af_1kg --custom /workspace/datasets/gnomad/data/v4.0/hg38/gnomad.genomes.v4.0.sites.chrX.vcf.bgz,gnomADg,vcf,exact,0,AF,NFE\n",
      "/workspace/datasets/vep/homo_sapiens/ensembl-vep_111.0.sif vep --dir /workspace/datasets/vep/ -i /workspace/projects/sjd_melos/vep/vep_input_files/sarcoma/chrY.tsv.gz --format vcf -o /workspace/projects/sjd_melos/vep/vep_output_files/sarcoma/chrY.tsv.gz -tab --assembly GRCh38 --no_stats --cache --symbol --protein --canonical --mane --offline --af_1kg --custom /workspace/datasets/gnomad/data/v4.0/hg38/gnomad.genomes.v4.0.sites.chrY.vcf.bgz,gnomADg,vcf,exact,0,AF,NFE\n",
      "/workspace/datasets/vep/homo_sapiens/ensembl-vep_111.0.sif vep --dir /workspace/datasets/vep/ -i /workspace/projects/sjd_melos/vep/vep_input_files/lung/chr1.tsv.gz --format vcf -o /workspace/projects/sjd_melos/vep/vep_output_files/lung/chr1.tsv.gz -tab --assembly GRCh38 --no_stats --cache --symbol --protein --canonical --mane --offline --af_1kg --custom /workspace/datasets/gnomad/data/v4.0/hg38/gnomad.genomes.v4.0.sites.chr1.vcf.bgz,gnomADg,vcf,exact,0,AF,NFE\n",
      "/workspace/datasets/vep/homo_sapiens/ensembl-vep_111.0.sif vep --dir /workspace/datasets/vep/ -i /workspace/projects/sjd_melos/vep/vep_input_files/lung/chr2.tsv.gz --format vcf -o /workspace/projects/sjd_melos/vep/vep_output_files/lung/chr2.tsv.gz -tab --assembly GRCh38 --no_stats --cache --symbol --protein --canonical --mane --offline --af_1kg --custom /workspace/datasets/gnomad/data/v4.0/hg38/gnomad.genomes.v4.0.sites.chr2.vcf.bgz,gnomADg,vcf,exact,0,AF,NFE\n",
      "/workspace/datasets/vep/homo_sapiens/ensembl-vep_111.0.sif vep --dir /workspace/datasets/vep/ -i /workspace/projects/sjd_melos/vep/vep_input_files/lung/chr3.tsv.gz --format vcf -o /workspace/projects/sjd_melos/vep/vep_output_files/lung/chr3.tsv.gz -tab --assembly GRCh38 --no_stats --cache --symbol --protein --canonical --mane --offline --af_1kg --custom /workspace/datasets/gnomad/data/v4.0/hg38/gnomad.genomes.v4.0.sites.chr3.vcf.bgz,gnomADg,vcf,exact,0,AF,NFE\n",
      "/workspace/datasets/vep/homo_sapiens/ensembl-vep_111.0.sif vep --dir /workspace/datasets/vep/ -i /workspace/projects/sjd_melos/vep/vep_input_files/lung/chr4.tsv.gz --format vcf -o /workspace/projects/sjd_melos/vep/vep_output_files/lung/chr4.tsv.gz -tab --assembly GRCh38 --no_stats --cache --symbol --protein --canonical --mane --offline --af_1kg --custom /workspace/datasets/gnomad/data/v4.0/hg38/gnomad.genomes.v4.0.sites.chr4.vcf.bgz,gnomADg,vcf,exact,0,AF,NFE\n",
      "/workspace/datasets/vep/homo_sapiens/ensembl-vep_111.0.sif vep --dir /workspace/datasets/vep/ -i /workspace/projects/sjd_melos/vep/vep_input_files/lung/chr5.tsv.gz --format vcf -o /workspace/projects/sjd_melos/vep/vep_output_files/lung/chr5.tsv.gz -tab --assembly GRCh38 --no_stats --cache --symbol --protein --canonical --mane --offline --af_1kg --custom /workspace/datasets/gnomad/data/v4.0/hg38/gnomad.genomes.v4.0.sites.chr5.vcf.bgz,gnomADg,vcf,exact,0,AF,NFE\n",
      "/workspace/datasets/vep/homo_sapiens/ensembl-vep_111.0.sif vep --dir /workspace/datasets/vep/ -i /workspace/projects/sjd_melos/vep/vep_input_files/lung/chr6.tsv.gz --format vcf -o /workspace/projects/sjd_melos/vep/vep_output_files/lung/chr6.tsv.gz -tab --assembly GRCh38 --no_stats --cache --symbol --protein --canonical --mane --offline --af_1kg --custom /workspace/datasets/gnomad/data/v4.0/hg38/gnomad.genomes.v4.0.sites.chr6.vcf.bgz,gnomADg,vcf,exact,0,AF,NFE\n",
      "/workspace/datasets/vep/homo_sapiens/ensembl-vep_111.0.sif vep --dir /workspace/datasets/vep/ -i /workspace/projects/sjd_melos/vep/vep_input_files/lung/chr7.tsv.gz --format vcf -o /workspace/projects/sjd_melos/vep/vep_output_files/lung/chr7.tsv.gz -tab --assembly GRCh38 --no_stats --cache --symbol --protein --canonical --mane --offline --af_1kg --custom /workspace/datasets/gnomad/data/v4.0/hg38/gnomad.genomes.v4.0.sites.chr7.vcf.bgz,gnomADg,vcf,exact,0,AF,NFE\n",
      "/workspace/datasets/vep/homo_sapiens/ensembl-vep_111.0.sif vep --dir /workspace/datasets/vep/ -i /workspace/projects/sjd_melos/vep/vep_input_files/lung/chr8.tsv.gz --format vcf -o /workspace/projects/sjd_melos/vep/vep_output_files/lung/chr8.tsv.gz -tab --assembly GRCh38 --no_stats --cache --symbol --protein --canonical --mane --offline --af_1kg --custom /workspace/datasets/gnomad/data/v4.0/hg38/gnomad.genomes.v4.0.sites.chr8.vcf.bgz,gnomADg,vcf,exact,0,AF,NFE\n",
      "/workspace/datasets/vep/homo_sapiens/ensembl-vep_111.0.sif vep --dir /workspace/datasets/vep/ -i /workspace/projects/sjd_melos/vep/vep_input_files/lung/chr9.tsv.gz --format vcf -o /workspace/projects/sjd_melos/vep/vep_output_files/lung/chr9.tsv.gz -tab --assembly GRCh38 --no_stats --cache --symbol --protein --canonical --mane --offline --af_1kg --custom /workspace/datasets/gnomad/data/v4.0/hg38/gnomad.genomes.v4.0.sites.chr9.vcf.bgz,gnomADg,vcf,exact,0,AF,NFE\n",
      "/workspace/datasets/vep/homo_sapiens/ensembl-vep_111.0.sif vep --dir /workspace/datasets/vep/ -i /workspace/projects/sjd_melos/vep/vep_input_files/lung/chr10.tsv.gz --format vcf -o /workspace/projects/sjd_melos/vep/vep_output_files/lung/chr10.tsv.gz -tab --assembly GRCh38 --no_stats --cache --symbol --protein --canonical --mane --offline --af_1kg --custom /workspace/datasets/gnomad/data/v4.0/hg38/gnomad.genomes.v4.0.sites.chr10.vcf.bgz,gnomADg,vcf,exact,0,AF,NFE\n",
      "/workspace/datasets/vep/homo_sapiens/ensembl-vep_111.0.sif vep --dir /workspace/datasets/vep/ -i /workspace/projects/sjd_melos/vep/vep_input_files/lung/chr11.tsv.gz --format vcf -o /workspace/projects/sjd_melos/vep/vep_output_files/lung/chr11.tsv.gz -tab --assembly GRCh38 --no_stats --cache --symbol --protein --canonical --mane --offline --af_1kg --custom /workspace/datasets/gnomad/data/v4.0/hg38/gnomad.genomes.v4.0.sites.chr11.vcf.bgz,gnomADg,vcf,exact,0,AF,NFE\n",
      "/workspace/datasets/vep/homo_sapiens/ensembl-vep_111.0.sif vep --dir /workspace/datasets/vep/ -i /workspace/projects/sjd_melos/vep/vep_input_files/lung/chr12.tsv.gz --format vcf -o /workspace/projects/sjd_melos/vep/vep_output_files/lung/chr12.tsv.gz -tab --assembly GRCh38 --no_stats --cache --symbol --protein --canonical --mane --offline --af_1kg --custom /workspace/datasets/gnomad/data/v4.0/hg38/gnomad.genomes.v4.0.sites.chr12.vcf.bgz,gnomADg,vcf,exact,0,AF,NFE\n",
      "/workspace/datasets/vep/homo_sapiens/ensembl-vep_111.0.sif vep --dir /workspace/datasets/vep/ -i /workspace/projects/sjd_melos/vep/vep_input_files/lung/chr13.tsv.gz --format vcf -o /workspace/projects/sjd_melos/vep/vep_output_files/lung/chr13.tsv.gz -tab --assembly GRCh38 --no_stats --cache --symbol --protein --canonical --mane --offline --af_1kg --custom /workspace/datasets/gnomad/data/v4.0/hg38/gnomad.genomes.v4.0.sites.chr13.vcf.bgz,gnomADg,vcf,exact,0,AF,NFE\n",
      "/workspace/datasets/vep/homo_sapiens/ensembl-vep_111.0.sif vep --dir /workspace/datasets/vep/ -i /workspace/projects/sjd_melos/vep/vep_input_files/lung/chr14.tsv.gz --format vcf -o /workspace/projects/sjd_melos/vep/vep_output_files/lung/chr14.tsv.gz -tab --assembly GRCh38 --no_stats --cache --symbol --protein --canonical --mane --offline --af_1kg --custom /workspace/datasets/gnomad/data/v4.0/hg38/gnomad.genomes.v4.0.sites.chr14.vcf.bgz,gnomADg,vcf,exact,0,AF,NFE\n",
      "/workspace/datasets/vep/homo_sapiens/ensembl-vep_111.0.sif vep --dir /workspace/datasets/vep/ -i /workspace/projects/sjd_melos/vep/vep_input_files/lung/chr15.tsv.gz --format vcf -o /workspace/projects/sjd_melos/vep/vep_output_files/lung/chr15.tsv.gz -tab --assembly GRCh38 --no_stats --cache --symbol --protein --canonical --mane --offline --af_1kg --custom /workspace/datasets/gnomad/data/v4.0/hg38/gnomad.genomes.v4.0.sites.chr15.vcf.bgz,gnomADg,vcf,exact,0,AF,NFE\n",
      "/workspace/datasets/vep/homo_sapiens/ensembl-vep_111.0.sif vep --dir /workspace/datasets/vep/ -i /workspace/projects/sjd_melos/vep/vep_input_files/lung/chr16.tsv.gz --format vcf -o /workspace/projects/sjd_melos/vep/vep_output_files/lung/chr16.tsv.gz -tab --assembly GRCh38 --no_stats --cache --symbol --protein --canonical --mane --offline --af_1kg --custom /workspace/datasets/gnomad/data/v4.0/hg38/gnomad.genomes.v4.0.sites.chr16.vcf.bgz,gnomADg,vcf,exact,0,AF,NFE\n",
      "/workspace/datasets/vep/homo_sapiens/ensembl-vep_111.0.sif vep --dir /workspace/datasets/vep/ -i /workspace/projects/sjd_melos/vep/vep_input_files/lung/chr17.tsv.gz --format vcf -o /workspace/projects/sjd_melos/vep/vep_output_files/lung/chr17.tsv.gz -tab --assembly GRCh38 --no_stats --cache --symbol --protein --canonical --mane --offline --af_1kg --custom /workspace/datasets/gnomad/data/v4.0/hg38/gnomad.genomes.v4.0.sites.chr17.vcf.bgz,gnomADg,vcf,exact,0,AF,NFE\n",
      "/workspace/datasets/vep/homo_sapiens/ensembl-vep_111.0.sif vep --dir /workspace/datasets/vep/ -i /workspace/projects/sjd_melos/vep/vep_input_files/lung/chr18.tsv.gz --format vcf -o /workspace/projects/sjd_melos/vep/vep_output_files/lung/chr18.tsv.gz -tab --assembly GRCh38 --no_stats --cache --symbol --protein --canonical --mane --offline --af_1kg --custom /workspace/datasets/gnomad/data/v4.0/hg38/gnomad.genomes.v4.0.sites.chr18.vcf.bgz,gnomADg,vcf,exact,0,AF,NFE\n",
      "/workspace/datasets/vep/homo_sapiens/ensembl-vep_111.0.sif vep --dir /workspace/datasets/vep/ -i /workspace/projects/sjd_melos/vep/vep_input_files/lung/chr19.tsv.gz --format vcf -o /workspace/projects/sjd_melos/vep/vep_output_files/lung/chr19.tsv.gz -tab --assembly GRCh38 --no_stats --cache --symbol --protein --canonical --mane --offline --af_1kg --custom /workspace/datasets/gnomad/data/v4.0/hg38/gnomad.genomes.v4.0.sites.chr19.vcf.bgz,gnomADg,vcf,exact,0,AF,NFE\n",
      "/workspace/datasets/vep/homo_sapiens/ensembl-vep_111.0.sif vep --dir /workspace/datasets/vep/ -i /workspace/projects/sjd_melos/vep/vep_input_files/lung/chr20.tsv.gz --format vcf -o /workspace/projects/sjd_melos/vep/vep_output_files/lung/chr20.tsv.gz -tab --assembly GRCh38 --no_stats --cache --symbol --protein --canonical --mane --offline --af_1kg --custom /workspace/datasets/gnomad/data/v4.0/hg38/gnomad.genomes.v4.0.sites.chr20.vcf.bgz,gnomADg,vcf,exact,0,AF,NFE\n",
      "/workspace/datasets/vep/homo_sapiens/ensembl-vep_111.0.sif vep --dir /workspace/datasets/vep/ -i /workspace/projects/sjd_melos/vep/vep_input_files/lung/chr21.tsv.gz --format vcf -o /workspace/projects/sjd_melos/vep/vep_output_files/lung/chr21.tsv.gz -tab --assembly GRCh38 --no_stats --cache --symbol --protein --canonical --mane --offline --af_1kg --custom /workspace/datasets/gnomad/data/v4.0/hg38/gnomad.genomes.v4.0.sites.chr21.vcf.bgz,gnomADg,vcf,exact,0,AF,NFE\n",
      "/workspace/datasets/vep/homo_sapiens/ensembl-vep_111.0.sif vep --dir /workspace/datasets/vep/ -i /workspace/projects/sjd_melos/vep/vep_input_files/lung/chr22.tsv.gz --format vcf -o /workspace/projects/sjd_melos/vep/vep_output_files/lung/chr22.tsv.gz -tab --assembly GRCh38 --no_stats --cache --symbol --protein --canonical --mane --offline --af_1kg --custom /workspace/datasets/gnomad/data/v4.0/hg38/gnomad.genomes.v4.0.sites.chr22.vcf.bgz,gnomADg,vcf,exact,0,AF,NFE\n",
      "/workspace/datasets/vep/homo_sapiens/ensembl-vep_111.0.sif vep --dir /workspace/datasets/vep/ -i /workspace/projects/sjd_melos/vep/vep_input_files/lung/chrX.tsv.gz --format vcf -o /workspace/projects/sjd_melos/vep/vep_output_files/lung/chrX.tsv.gz -tab --assembly GRCh38 --no_stats --cache --symbol --protein --canonical --mane --offline --af_1kg --custom /workspace/datasets/gnomad/data/v4.0/hg38/gnomad.genomes.v4.0.sites.chrX.vcf.bgz,gnomADg,vcf,exact,0,AF,NFE\n",
      "/workspace/datasets/vep/homo_sapiens/ensembl-vep_111.0.sif vep --dir /workspace/datasets/vep/ -i /workspace/projects/sjd_melos/vep/vep_input_files/lung/chrY.tsv.gz --format vcf -o /workspace/projects/sjd_melos/vep/vep_output_files/lung/chrY.tsv.gz -tab --assembly GRCh38 --no_stats --cache --symbol --protein --canonical --mane --offline --af_1kg --custom /workspace/datasets/gnomad/data/v4.0/hg38/gnomad.genomes.v4.0.sites.chrY.vcf.bgz,gnomADg,vcf,exact,0,AF,NFE\n"
     ]
    }
   ],
   "source": [
    "# Add header to samples and this is the file to export\n",
    "\n",
    "qmap = header + '\\n' + sar_result + '\\n' + lung_result  # adding \\n might be unnecessary if you follow the saving instructions below\n",
    "print(qmap)"
   ]
  },
  {
   "cell_type": "markdown",
   "id": "87cabc31-53b3-43f1-95d1-2c2710e536a7",
   "metadata": {},
   "source": [
    "## Save as a QMAP file"
   ]
  },
  {
   "cell_type": "raw",
   "id": "0a77ec1e-dbf8-42bb-8f8f-ce183300245a",
   "metadata": {},
   "source": [
    "## IMPORTANT NOTE, IF YOU WANT TO AVOID TRANSFORMING THE PREVIOUS CODE FROM \",\" TO \"\\n\" USE THIS CODE IN F.WRITE TO APPLY \\n WHILE SAVING THE CODE\n",
    "you can directly apply in f.write the transformation to \\n.  \n",
    "\n",
    "with open('/workspace/projects/sjd_melos/vep/VEP_analysis_clonalmut_melups.qmap', 'w') as f:\n",
    "    for item in qmap:\n",
    "        f.write('%s\\n' % item) # this is the modification"
   ]
  },
  {
   "cell_type": "code",
   "execution_count": 16,
   "id": "3071e110-31a3-4f3a-b125-95ddd098c3e0",
   "metadata": {},
   "outputs": [],
   "source": [
    "with open('/workspace/projects/sjd_melos/vep/VEP_analysis_repeat_sarlung_singularity.qmap', 'w') as f:\n",
    "    for item in qmap:\n",
    "        f.write(item) #this respects the format from previous code"
   ]
  },
  {
   "cell_type": "raw",
   "id": "230a2ceb-ac17-4a8a-8cd4-6a27bc18100d",
   "metadata": {},
   "source": [
    "## Check in bash terminal that the number of lines for each sample is correct (it should be 24, 22 for autosomal chromosomes and 2 sexual):\n",
    "%%bash\n",
    "grep -c 'sarcoma' ./VEP_analysis_clonalmut_melups.qmap\n",
    "grep -c 'lung' ./VEP_analysis_clonalmut_melups.qmap\n",
    "\n",
    "\n",
    "# Check in bash terminal that the input files are NOT format-converted to VEP to pass singularity in each sample directory\n",
    "%%bash\n",
    "cd ../sarcoma/\n",
    "zcat chr15.tsv.gz | grep 'INDEL'| head\n",
    "cd ../lung/\n",
    "cd ../sarcoma/\n",
    "zcat chr3.tsv.gz | grep 'INDEL'| head"
   ]
  }
 ],
 "metadata": {
  "kernelspec": {
   "display_name": "melos",
   "language": "python",
   "name": "melos"
  },
  "language_info": {
   "codemirror_mode": {
    "name": "ipython",
    "version": 3
   },
   "file_extension": ".py",
   "mimetype": "text/x-python",
   "name": "python",
   "nbconvert_exporter": "python",
   "pygments_lexer": "ipython3",
   "version": "3.11.5"
  }
 },
 "nbformat": 4,
 "nbformat_minor": 5
}
