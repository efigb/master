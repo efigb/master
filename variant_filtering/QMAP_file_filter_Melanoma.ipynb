{
 "cells": [
  {
   "cell_type": "markdown",
   "id": "e3cc6a05-b980-4430-8117-d3e8427d8808",
   "metadata": {},
   "source": [
    "# Create QMAP file to filter annotated Melanoma sample with python script"
   ]
  },
  {
   "cell_type": "code",
   "execution_count": 1,
   "id": "d8d4fd04-b6b4-4cd3-b351-41bf1960bdae",
   "metadata": {},
   "outputs": [],
   "source": [
    "# Create a file with this information for all samples"
   ]
  },
  {
   "cell_type": "raw",
   "id": "fc1df405-9ed5-4f3d-a574-8f4af1276959",
   "metadata": {},
   "source": [
    "[pre]\n",
    ". /home/$USER/miniconda3/etc/profile.d/conda.sh\n",
    "conda activate melos\n",
    "[params]\n",
    "cores = 1\n",
    "memory = 8G\n",
    "[jobs]\n",
    "\n",
    "python3 vep_script.py --input_annot <path to VEP output> --input_mut <path to VEP input> --output_file <path to output folder>"
   ]
  },
  {
   "cell_type": "markdown",
   "id": "de53981f-497e-4b6e-a0c1-2a9b43e328d1",
   "metadata": {},
   "source": [
    "## Read the files and configure paths and commands"
   ]
  },
  {
   "cell_type": "code",
   "execution_count": 12,
   "id": "8c269282-6904-486f-b901-bc0636ebedf4",
   "metadata": {},
   "outputs": [
    {
     "name": "stdout",
     "output_type": "stream",
     "text": [
      "These are the files annotated from melanoma sample: \n",
      " ['chr1.tsv.gz', 'chr8.tsv.gz', 'chr12.tsv.gz', 'chr9.tsv.gz', 'chr5.tsv.gz', 'chr11.tsv.gz', 'chr2.tsv.gz', 'chr7.tsv.gz', 'chrX.tsv.gz', 'chr6.tsv.gz', 'chr13.tsv.gz', 'chr14.tsv.gz', 'chr15.tsv.gz', 'chr16.tsv.gz', 'chr17.tsv.gz', 'chr18.tsv.gz', 'chr19.tsv.gz', 'chr20.tsv.gz', 'chr21.tsv.gz', 'chr22.tsv.gz', 'chr3.tsv.gz', 'chr10.tsv.gz', 'chrY.tsv.gz', 'chr4.tsv.gz']\n",
      "These are the files with variants from melanoma sample: \n",
      " ['chr1.tsv.gz', 'chrY.tsv.gz', 'chr2.tsv.gz', 'chr3.tsv.gz', 'chr4.tsv.gz', 'chr5.tsv.gz', 'chr6.tsv.gz', 'chr7.tsv.gz', 'chr8.tsv.gz', 'chr9.tsv.gz', 'chr10.tsv.gz', 'chr11.tsv.gz', 'chr12.tsv.gz', 'chr13.tsv.gz', 'chr14.tsv.gz', 'chr15.tsv.gz', 'chr16.tsv.gz', 'chr17.tsv.gz', 'chr18.tsv.gz', 'chr19.tsv.gz', 'chr20.tsv.gz', 'chr21.tsv.gz', 'chr22.tsv.gz', 'chrX.tsv.gz']\n"
     ]
    }
   ],
   "source": [
    "import os, sys\n",
    "\n",
    "# Import files from path\n",
    "\n",
    "# Paths from VEP output data (annotated variants table)\n",
    "path_mel_annot = \"/workspace/projects/sjd_melos/vep/vep_output_files/melanoma/\"\n",
    "\n",
    "# Paths from VEP input data (variants table)\n",
    "path_mel_mut = \"/workspace/projects/sjd_melos/vep/vep_input_files/melanoma/\"\n",
    "\n",
    "# List all files from the specified path\n",
    "files_mel_annot = os.listdir(path_mel_annot)\n",
    "files_mel_mut = os.listdir(path_mel_mut)\n",
    "\n",
    "# Check all files from the specified path\n",
    "print('These are the files annotated from melanoma sample: \\n',os.listdir(path_mel_annot))\n",
    "print('These are the files with variants from melanoma sample: \\n',os.listdir(path_mel_mut))"
   ]
  },
  {
   "cell_type": "code",
   "execution_count": 13,
   "id": "63ff5667-2edb-4344-bc49-170515753d45",
   "metadata": {},
   "outputs": [],
   "source": [
    "# Output path to store processed files upon QMAP run\n",
    "path_mel_out = \"/workspace/projects/sjd_melos/vep/vep_filtering_output/melanoma/\""
   ]
  },
  {
   "cell_type": "code",
   "execution_count": 14,
   "id": "8b71002f-6a0c-4ee6-b534-5f9e3a9f7a45",
   "metadata": {},
   "outputs": [],
   "source": [
    "# Parameters to be aggregated\n",
    "script = \"/workspace/projects/sjd_melos/scripts/VEP_filtering_Melanoma.py\"\n",
    "param_annot = \" --input_annot \"\n",
    "param_mut = \" --input_mut \"\n",
    "param_out = \" --output_file \"\n",
    "command = \"python3 \""
   ]
  },
  {
   "cell_type": "code",
   "execution_count": 15,
   "id": "c6a64ac4-e265-49dd-9ed4-94984ebc0aef",
   "metadata": {},
   "outputs": [
    {
     "data": {
      "text/plain": [
       "['chr1.tsv.gz',\n",
       " 'chr2.tsv.gz',\n",
       " 'chr3.tsv.gz',\n",
       " 'chr4.tsv.gz',\n",
       " 'chr5.tsv.gz',\n",
       " 'chr6.tsv.gz',\n",
       " 'chr7.tsv.gz',\n",
       " 'chr8.tsv.gz',\n",
       " 'chr9.tsv.gz',\n",
       " 'chr10.tsv.gz',\n",
       " 'chr11.tsv.gz',\n",
       " 'chr12.tsv.gz',\n",
       " 'chr13.tsv.gz',\n",
       " 'chr14.tsv.gz',\n",
       " 'chr15.tsv.gz',\n",
       " 'chr16.tsv.gz',\n",
       " 'chr17.tsv.gz',\n",
       " 'chr18.tsv.gz',\n",
       " 'chr19.tsv.gz',\n",
       " 'chr20.tsv.gz',\n",
       " 'chr21.tsv.gz',\n",
       " 'chr22.tsv.gz',\n",
       " 'chrX.tsv.gz',\n",
       " 'chrY.tsv.gz']"
      ]
     },
     "execution_count": 15,
     "metadata": {},
     "output_type": "execute_result"
    }
   ],
   "source": [
    "# Make a list of chromosomes\n",
    "chrom = []\n",
    "for c in range(1,23): \n",
    "    chrom.append('chr' + str(c) + '.tsv.gz')\n",
    "chrom.append('chrX' + '.tsv.gz')\n",
    "chrom.append('chrY' + '.tsv.gz')\n",
    "chrom"
   ]
  },
  {
   "cell_type": "markdown",
   "id": "d5dc620d-f94d-4539-90fd-702830faeda3",
   "metadata": {},
   "source": [
    "## Apply paths and commands to samples to create jobs"
   ]
  },
  {
   "cell_type": "code",
   "execution_count": 16,
   "id": "15dc9467-342b-46f5-b43d-56bba8a397aa",
   "metadata": {
    "scrolled": true
   },
   "outputs": [
    {
     "data": {
      "text/plain": [
       "['python3 /workspace/projects/sjd_melos/scripts/VEP_filtering_Melanoma.py --input_annot /workspace/projects/sjd_melos/vep/vep_output_files/melanoma/chr1.tsv.gz --input_mut /workspace/projects/sjd_melos/vep/vep_input_files/melanoma/chr1.tsv.gz --output_file /workspace/projects/sjd_melos/vep/vep_filtering_output/melanoma/chr1.tsv.gz',\n",
       " 'python3 /workspace/projects/sjd_melos/scripts/VEP_filtering_Melanoma.py --input_annot /workspace/projects/sjd_melos/vep/vep_output_files/melanoma/chr2.tsv.gz --input_mut /workspace/projects/sjd_melos/vep/vep_input_files/melanoma/chr2.tsv.gz --output_file /workspace/projects/sjd_melos/vep/vep_filtering_output/melanoma/chr2.tsv.gz',\n",
       " 'python3 /workspace/projects/sjd_melos/scripts/VEP_filtering_Melanoma.py --input_annot /workspace/projects/sjd_melos/vep/vep_output_files/melanoma/chr3.tsv.gz --input_mut /workspace/projects/sjd_melos/vep/vep_input_files/melanoma/chr3.tsv.gz --output_file /workspace/projects/sjd_melos/vep/vep_filtering_output/melanoma/chr3.tsv.gz',\n",
       " 'python3 /workspace/projects/sjd_melos/scripts/VEP_filtering_Melanoma.py --input_annot /workspace/projects/sjd_melos/vep/vep_output_files/melanoma/chr4.tsv.gz --input_mut /workspace/projects/sjd_melos/vep/vep_input_files/melanoma/chr4.tsv.gz --output_file /workspace/projects/sjd_melos/vep/vep_filtering_output/melanoma/chr4.tsv.gz',\n",
       " 'python3 /workspace/projects/sjd_melos/scripts/VEP_filtering_Melanoma.py --input_annot /workspace/projects/sjd_melos/vep/vep_output_files/melanoma/chr5.tsv.gz --input_mut /workspace/projects/sjd_melos/vep/vep_input_files/melanoma/chr5.tsv.gz --output_file /workspace/projects/sjd_melos/vep/vep_filtering_output/melanoma/chr5.tsv.gz',\n",
       " 'python3 /workspace/projects/sjd_melos/scripts/VEP_filtering_Melanoma.py --input_annot /workspace/projects/sjd_melos/vep/vep_output_files/melanoma/chr6.tsv.gz --input_mut /workspace/projects/sjd_melos/vep/vep_input_files/melanoma/chr6.tsv.gz --output_file /workspace/projects/sjd_melos/vep/vep_filtering_output/melanoma/chr6.tsv.gz',\n",
       " 'python3 /workspace/projects/sjd_melos/scripts/VEP_filtering_Melanoma.py --input_annot /workspace/projects/sjd_melos/vep/vep_output_files/melanoma/chr7.tsv.gz --input_mut /workspace/projects/sjd_melos/vep/vep_input_files/melanoma/chr7.tsv.gz --output_file /workspace/projects/sjd_melos/vep/vep_filtering_output/melanoma/chr7.tsv.gz',\n",
       " 'python3 /workspace/projects/sjd_melos/scripts/VEP_filtering_Melanoma.py --input_annot /workspace/projects/sjd_melos/vep/vep_output_files/melanoma/chr8.tsv.gz --input_mut /workspace/projects/sjd_melos/vep/vep_input_files/melanoma/chr8.tsv.gz --output_file /workspace/projects/sjd_melos/vep/vep_filtering_output/melanoma/chr8.tsv.gz',\n",
       " 'python3 /workspace/projects/sjd_melos/scripts/VEP_filtering_Melanoma.py --input_annot /workspace/projects/sjd_melos/vep/vep_output_files/melanoma/chr9.tsv.gz --input_mut /workspace/projects/sjd_melos/vep/vep_input_files/melanoma/chr9.tsv.gz --output_file /workspace/projects/sjd_melos/vep/vep_filtering_output/melanoma/chr9.tsv.gz',\n",
       " 'python3 /workspace/projects/sjd_melos/scripts/VEP_filtering_Melanoma.py --input_annot /workspace/projects/sjd_melos/vep/vep_output_files/melanoma/chr10.tsv.gz --input_mut /workspace/projects/sjd_melos/vep/vep_input_files/melanoma/chr10.tsv.gz --output_file /workspace/projects/sjd_melos/vep/vep_filtering_output/melanoma/chr10.tsv.gz',\n",
       " 'python3 /workspace/projects/sjd_melos/scripts/VEP_filtering_Melanoma.py --input_annot /workspace/projects/sjd_melos/vep/vep_output_files/melanoma/chr11.tsv.gz --input_mut /workspace/projects/sjd_melos/vep/vep_input_files/melanoma/chr11.tsv.gz --output_file /workspace/projects/sjd_melos/vep/vep_filtering_output/melanoma/chr11.tsv.gz',\n",
       " 'python3 /workspace/projects/sjd_melos/scripts/VEP_filtering_Melanoma.py --input_annot /workspace/projects/sjd_melos/vep/vep_output_files/melanoma/chr12.tsv.gz --input_mut /workspace/projects/sjd_melos/vep/vep_input_files/melanoma/chr12.tsv.gz --output_file /workspace/projects/sjd_melos/vep/vep_filtering_output/melanoma/chr12.tsv.gz',\n",
       " 'python3 /workspace/projects/sjd_melos/scripts/VEP_filtering_Melanoma.py --input_annot /workspace/projects/sjd_melos/vep/vep_output_files/melanoma/chr13.tsv.gz --input_mut /workspace/projects/sjd_melos/vep/vep_input_files/melanoma/chr13.tsv.gz --output_file /workspace/projects/sjd_melos/vep/vep_filtering_output/melanoma/chr13.tsv.gz',\n",
       " 'python3 /workspace/projects/sjd_melos/scripts/VEP_filtering_Melanoma.py --input_annot /workspace/projects/sjd_melos/vep/vep_output_files/melanoma/chr14.tsv.gz --input_mut /workspace/projects/sjd_melos/vep/vep_input_files/melanoma/chr14.tsv.gz --output_file /workspace/projects/sjd_melos/vep/vep_filtering_output/melanoma/chr14.tsv.gz',\n",
       " 'python3 /workspace/projects/sjd_melos/scripts/VEP_filtering_Melanoma.py --input_annot /workspace/projects/sjd_melos/vep/vep_output_files/melanoma/chr15.tsv.gz --input_mut /workspace/projects/sjd_melos/vep/vep_input_files/melanoma/chr15.tsv.gz --output_file /workspace/projects/sjd_melos/vep/vep_filtering_output/melanoma/chr15.tsv.gz',\n",
       " 'python3 /workspace/projects/sjd_melos/scripts/VEP_filtering_Melanoma.py --input_annot /workspace/projects/sjd_melos/vep/vep_output_files/melanoma/chr16.tsv.gz --input_mut /workspace/projects/sjd_melos/vep/vep_input_files/melanoma/chr16.tsv.gz --output_file /workspace/projects/sjd_melos/vep/vep_filtering_output/melanoma/chr16.tsv.gz',\n",
       " 'python3 /workspace/projects/sjd_melos/scripts/VEP_filtering_Melanoma.py --input_annot /workspace/projects/sjd_melos/vep/vep_output_files/melanoma/chr17.tsv.gz --input_mut /workspace/projects/sjd_melos/vep/vep_input_files/melanoma/chr17.tsv.gz --output_file /workspace/projects/sjd_melos/vep/vep_filtering_output/melanoma/chr17.tsv.gz',\n",
       " 'python3 /workspace/projects/sjd_melos/scripts/VEP_filtering_Melanoma.py --input_annot /workspace/projects/sjd_melos/vep/vep_output_files/melanoma/chr18.tsv.gz --input_mut /workspace/projects/sjd_melos/vep/vep_input_files/melanoma/chr18.tsv.gz --output_file /workspace/projects/sjd_melos/vep/vep_filtering_output/melanoma/chr18.tsv.gz',\n",
       " 'python3 /workspace/projects/sjd_melos/scripts/VEP_filtering_Melanoma.py --input_annot /workspace/projects/sjd_melos/vep/vep_output_files/melanoma/chr19.tsv.gz --input_mut /workspace/projects/sjd_melos/vep/vep_input_files/melanoma/chr19.tsv.gz --output_file /workspace/projects/sjd_melos/vep/vep_filtering_output/melanoma/chr19.tsv.gz',\n",
       " 'python3 /workspace/projects/sjd_melos/scripts/VEP_filtering_Melanoma.py --input_annot /workspace/projects/sjd_melos/vep/vep_output_files/melanoma/chr20.tsv.gz --input_mut /workspace/projects/sjd_melos/vep/vep_input_files/melanoma/chr20.tsv.gz --output_file /workspace/projects/sjd_melos/vep/vep_filtering_output/melanoma/chr20.tsv.gz',\n",
       " 'python3 /workspace/projects/sjd_melos/scripts/VEP_filtering_Melanoma.py --input_annot /workspace/projects/sjd_melos/vep/vep_output_files/melanoma/chr21.tsv.gz --input_mut /workspace/projects/sjd_melos/vep/vep_input_files/melanoma/chr21.tsv.gz --output_file /workspace/projects/sjd_melos/vep/vep_filtering_output/melanoma/chr21.tsv.gz',\n",
       " 'python3 /workspace/projects/sjd_melos/scripts/VEP_filtering_Melanoma.py --input_annot /workspace/projects/sjd_melos/vep/vep_output_files/melanoma/chr22.tsv.gz --input_mut /workspace/projects/sjd_melos/vep/vep_input_files/melanoma/chr22.tsv.gz --output_file /workspace/projects/sjd_melos/vep/vep_filtering_output/melanoma/chr22.tsv.gz',\n",
       " 'python3 /workspace/projects/sjd_melos/scripts/VEP_filtering_Melanoma.py --input_annot /workspace/projects/sjd_melos/vep/vep_output_files/melanoma/chrX.tsv.gz --input_mut /workspace/projects/sjd_melos/vep/vep_input_files/melanoma/chrX.tsv.gz --output_file /workspace/projects/sjd_melos/vep/vep_filtering_output/melanoma/chrX.tsv.gz',\n",
       " 'python3 /workspace/projects/sjd_melos/scripts/VEP_filtering_Melanoma.py --input_annot /workspace/projects/sjd_melos/vep/vep_output_files/melanoma/chrY.tsv.gz --input_mut /workspace/projects/sjd_melos/vep/vep_input_files/melanoma/chrY.tsv.gz --output_file /workspace/projects/sjd_melos/vep/vep_filtering_output/melanoma/chrY.tsv.gz']"
      ]
     },
     "execution_count": 16,
     "metadata": {},
     "output_type": "execute_result"
    }
   ],
   "source": [
    "# Now apply the code to the melanoma samples\n",
    "serie_mel = []\n",
    "for c in chrom: \n",
    "    if c in files_mel_annot: # add elements in the serie\n",
    "        serie_mel.append(command + script + param_annot + path_mel_annot + c + param_mut + path_mel_mut + c + param_out + path_mel_out + c)     \n",
    "serie_mel"
   ]
  },
  {
   "cell_type": "code",
   "execution_count": 17,
   "id": "00c6e2ef-4237-4982-9d9e-ff16a097c9c9",
   "metadata": {
    "scrolled": true
   },
   "outputs": [
    {
     "name": "stdout",
     "output_type": "stream",
     "text": [
      "python3 /workspace/projects/sjd_melos/scripts/VEP_filtering_Melanoma.py --input_annot /workspace/projects/sjd_melos/vep/vep_output_files/melanoma/chr1.tsv.gz --input_mut /workspace/projects/sjd_melos/vep/vep_input_files/melanoma/chr1.tsv.gz --output_file /workspace/projects/sjd_melos/vep/vep_filtering_output/melanoma/chr1.tsv.gz\n",
      "python3 /workspace/projects/sjd_melos/scripts/VEP_filtering_Melanoma.py --input_annot /workspace/projects/sjd_melos/vep/vep_output_files/melanoma/chr2.tsv.gz --input_mut /workspace/projects/sjd_melos/vep/vep_input_files/melanoma/chr2.tsv.gz --output_file /workspace/projects/sjd_melos/vep/vep_filtering_output/melanoma/chr2.tsv.gz\n",
      "python3 /workspace/projects/sjd_melos/scripts/VEP_filtering_Melanoma.py --input_annot /workspace/projects/sjd_melos/vep/vep_output_files/melanoma/chr3.tsv.gz --input_mut /workspace/projects/sjd_melos/vep/vep_input_files/melanoma/chr3.tsv.gz --output_file /workspace/projects/sjd_melos/vep/vep_filtering_output/melanoma/chr3.tsv.gz\n",
      "python3 /workspace/projects/sjd_melos/scripts/VEP_filtering_Melanoma.py --input_annot /workspace/projects/sjd_melos/vep/vep_output_files/melanoma/chr4.tsv.gz --input_mut /workspace/projects/sjd_melos/vep/vep_input_files/melanoma/chr4.tsv.gz --output_file /workspace/projects/sjd_melos/vep/vep_filtering_output/melanoma/chr4.tsv.gz\n",
      "python3 /workspace/projects/sjd_melos/scripts/VEP_filtering_Melanoma.py --input_annot /workspace/projects/sjd_melos/vep/vep_output_files/melanoma/chr5.tsv.gz --input_mut /workspace/projects/sjd_melos/vep/vep_input_files/melanoma/chr5.tsv.gz --output_file /workspace/projects/sjd_melos/vep/vep_filtering_output/melanoma/chr5.tsv.gz\n",
      "python3 /workspace/projects/sjd_melos/scripts/VEP_filtering_Melanoma.py --input_annot /workspace/projects/sjd_melos/vep/vep_output_files/melanoma/chr6.tsv.gz --input_mut /workspace/projects/sjd_melos/vep/vep_input_files/melanoma/chr6.tsv.gz --output_file /workspace/projects/sjd_melos/vep/vep_filtering_output/melanoma/chr6.tsv.gz\n",
      "python3 /workspace/projects/sjd_melos/scripts/VEP_filtering_Melanoma.py --input_annot /workspace/projects/sjd_melos/vep/vep_output_files/melanoma/chr7.tsv.gz --input_mut /workspace/projects/sjd_melos/vep/vep_input_files/melanoma/chr7.tsv.gz --output_file /workspace/projects/sjd_melos/vep/vep_filtering_output/melanoma/chr7.tsv.gz\n",
      "python3 /workspace/projects/sjd_melos/scripts/VEP_filtering_Melanoma.py --input_annot /workspace/projects/sjd_melos/vep/vep_output_files/melanoma/chr8.tsv.gz --input_mut /workspace/projects/sjd_melos/vep/vep_input_files/melanoma/chr8.tsv.gz --output_file /workspace/projects/sjd_melos/vep/vep_filtering_output/melanoma/chr8.tsv.gz\n",
      "python3 /workspace/projects/sjd_melos/scripts/VEP_filtering_Melanoma.py --input_annot /workspace/projects/sjd_melos/vep/vep_output_files/melanoma/chr9.tsv.gz --input_mut /workspace/projects/sjd_melos/vep/vep_input_files/melanoma/chr9.tsv.gz --output_file /workspace/projects/sjd_melos/vep/vep_filtering_output/melanoma/chr9.tsv.gz\n",
      "python3 /workspace/projects/sjd_melos/scripts/VEP_filtering_Melanoma.py --input_annot /workspace/projects/sjd_melos/vep/vep_output_files/melanoma/chr10.tsv.gz --input_mut /workspace/projects/sjd_melos/vep/vep_input_files/melanoma/chr10.tsv.gz --output_file /workspace/projects/sjd_melos/vep/vep_filtering_output/melanoma/chr10.tsv.gz\n",
      "python3 /workspace/projects/sjd_melos/scripts/VEP_filtering_Melanoma.py --input_annot /workspace/projects/sjd_melos/vep/vep_output_files/melanoma/chr11.tsv.gz --input_mut /workspace/projects/sjd_melos/vep/vep_input_files/melanoma/chr11.tsv.gz --output_file /workspace/projects/sjd_melos/vep/vep_filtering_output/melanoma/chr11.tsv.gz\n",
      "python3 /workspace/projects/sjd_melos/scripts/VEP_filtering_Melanoma.py --input_annot /workspace/projects/sjd_melos/vep/vep_output_files/melanoma/chr12.tsv.gz --input_mut /workspace/projects/sjd_melos/vep/vep_input_files/melanoma/chr12.tsv.gz --output_file /workspace/projects/sjd_melos/vep/vep_filtering_output/melanoma/chr12.tsv.gz\n",
      "python3 /workspace/projects/sjd_melos/scripts/VEP_filtering_Melanoma.py --input_annot /workspace/projects/sjd_melos/vep/vep_output_files/melanoma/chr13.tsv.gz --input_mut /workspace/projects/sjd_melos/vep/vep_input_files/melanoma/chr13.tsv.gz --output_file /workspace/projects/sjd_melos/vep/vep_filtering_output/melanoma/chr13.tsv.gz\n",
      "python3 /workspace/projects/sjd_melos/scripts/VEP_filtering_Melanoma.py --input_annot /workspace/projects/sjd_melos/vep/vep_output_files/melanoma/chr14.tsv.gz --input_mut /workspace/projects/sjd_melos/vep/vep_input_files/melanoma/chr14.tsv.gz --output_file /workspace/projects/sjd_melos/vep/vep_filtering_output/melanoma/chr14.tsv.gz\n",
      "python3 /workspace/projects/sjd_melos/scripts/VEP_filtering_Melanoma.py --input_annot /workspace/projects/sjd_melos/vep/vep_output_files/melanoma/chr15.tsv.gz --input_mut /workspace/projects/sjd_melos/vep/vep_input_files/melanoma/chr15.tsv.gz --output_file /workspace/projects/sjd_melos/vep/vep_filtering_output/melanoma/chr15.tsv.gz\n",
      "python3 /workspace/projects/sjd_melos/scripts/VEP_filtering_Melanoma.py --input_annot /workspace/projects/sjd_melos/vep/vep_output_files/melanoma/chr16.tsv.gz --input_mut /workspace/projects/sjd_melos/vep/vep_input_files/melanoma/chr16.tsv.gz --output_file /workspace/projects/sjd_melos/vep/vep_filtering_output/melanoma/chr16.tsv.gz\n",
      "python3 /workspace/projects/sjd_melos/scripts/VEP_filtering_Melanoma.py --input_annot /workspace/projects/sjd_melos/vep/vep_output_files/melanoma/chr17.tsv.gz --input_mut /workspace/projects/sjd_melos/vep/vep_input_files/melanoma/chr17.tsv.gz --output_file /workspace/projects/sjd_melos/vep/vep_filtering_output/melanoma/chr17.tsv.gz\n",
      "python3 /workspace/projects/sjd_melos/scripts/VEP_filtering_Melanoma.py --input_annot /workspace/projects/sjd_melos/vep/vep_output_files/melanoma/chr18.tsv.gz --input_mut /workspace/projects/sjd_melos/vep/vep_input_files/melanoma/chr18.tsv.gz --output_file /workspace/projects/sjd_melos/vep/vep_filtering_output/melanoma/chr18.tsv.gz\n",
      "python3 /workspace/projects/sjd_melos/scripts/VEP_filtering_Melanoma.py --input_annot /workspace/projects/sjd_melos/vep/vep_output_files/melanoma/chr19.tsv.gz --input_mut /workspace/projects/sjd_melos/vep/vep_input_files/melanoma/chr19.tsv.gz --output_file /workspace/projects/sjd_melos/vep/vep_filtering_output/melanoma/chr19.tsv.gz\n",
      "python3 /workspace/projects/sjd_melos/scripts/VEP_filtering_Melanoma.py --input_annot /workspace/projects/sjd_melos/vep/vep_output_files/melanoma/chr20.tsv.gz --input_mut /workspace/projects/sjd_melos/vep/vep_input_files/melanoma/chr20.tsv.gz --output_file /workspace/projects/sjd_melos/vep/vep_filtering_output/melanoma/chr20.tsv.gz\n",
      "python3 /workspace/projects/sjd_melos/scripts/VEP_filtering_Melanoma.py --input_annot /workspace/projects/sjd_melos/vep/vep_output_files/melanoma/chr21.tsv.gz --input_mut /workspace/projects/sjd_melos/vep/vep_input_files/melanoma/chr21.tsv.gz --output_file /workspace/projects/sjd_melos/vep/vep_filtering_output/melanoma/chr21.tsv.gz\n",
      "python3 /workspace/projects/sjd_melos/scripts/VEP_filtering_Melanoma.py --input_annot /workspace/projects/sjd_melos/vep/vep_output_files/melanoma/chr22.tsv.gz --input_mut /workspace/projects/sjd_melos/vep/vep_input_files/melanoma/chr22.tsv.gz --output_file /workspace/projects/sjd_melos/vep/vep_filtering_output/melanoma/chr22.tsv.gz\n",
      "python3 /workspace/projects/sjd_melos/scripts/VEP_filtering_Melanoma.py --input_annot /workspace/projects/sjd_melos/vep/vep_output_files/melanoma/chrX.tsv.gz --input_mut /workspace/projects/sjd_melos/vep/vep_input_files/melanoma/chrX.tsv.gz --output_file /workspace/projects/sjd_melos/vep/vep_filtering_output/melanoma/chrX.tsv.gz\n",
      "python3 /workspace/projects/sjd_melos/scripts/VEP_filtering_Melanoma.py --input_annot /workspace/projects/sjd_melos/vep/vep_output_files/melanoma/chrY.tsv.gz --input_mut /workspace/projects/sjd_melos/vep/vep_input_files/melanoma/chrY.tsv.gz --output_file /workspace/projects/sjd_melos/vep/vep_filtering_output/melanoma/chrY.tsv.gz\n"
     ]
    }
   ],
   "source": [
    "# To change the separator of the list from comma to \\n we can use join function that joins the elements of a string list\n",
    "mel_result = '\\n'.join(serie_mel)\n",
    "print(mel_result)"
   ]
  },
  {
   "cell_type": "markdown",
   "id": "2c777f00-0a3d-4a06-93df-eb6aea0afbf9",
   "metadata": {},
   "source": [
    "## Add header and join all samples"
   ]
  },
  {
   "cell_type": "code",
   "execution_count": 18,
   "id": "5dda104e-31ee-4fff-b323-65377818caf2",
   "metadata": {},
   "outputs": [
    {
     "name": "stdout",
     "output_type": "stream",
     "text": [
      "[pre] \n",
      ". /home/$USER/miniconda3/etc/profile.d/conda.sh \n",
      "conda activate melos\n",
      "[params]\n",
      "cores = 1\n",
      "memory = 8G\n",
      "[jobs]\n"
     ]
    }
   ],
   "source": [
    "# Include information of the header as a list\n",
    "header = ['[pre] \\n. /home/$USER/miniconda3/etc/profile.d/conda.sh \\nconda activate melos', '[params]', 'cores = 1', 'memory = 8G', '[jobs]']\n",
    "header = '\\n'.join(header)\n",
    "print(header)"
   ]
  },
  {
   "cell_type": "code",
   "execution_count": 13,
   "id": "d9c21d71-dbd3-43c1-902c-3944180ecf89",
   "metadata": {
    "scrolled": true
   },
   "outputs": [
    {
     "name": "stdout",
     "output_type": "stream",
     "text": [
      "[pre]\n",
      "[params]\n",
      "cores = 1\n",
      "memory = 8G\n",
      "[jobs]\n",
      "python3 /workspace/projects/sjd_melos/scripts/VEP_filtering_Melanoma.py --input_annot /workspace/projects/sjd_melos/vep/vep_output_files/melanoma/chr1.tsv.gz --input_mut /workspace/projects/sjd_melos/vep/vep_input_files/melanoma/chr1.tsv.gz --output_file /workspace/projects/sjd_melos/vep/vep_filtering_output/melanoma/chr1.tsv.gz\n",
      "python3 /workspace/projects/sjd_melos/scripts/VEP_filtering_Melanoma.py --input_annot /workspace/projects/sjd_melos/vep/vep_output_files/melanoma/chr2.tsv.gz --input_mut /workspace/projects/sjd_melos/vep/vep_input_files/melanoma/chr2.tsv.gz --output_file /workspace/projects/sjd_melos/vep/vep_filtering_output/melanoma/chr2.tsv.gz\n",
      "python3 /workspace/projects/sjd_melos/scripts/VEP_filtering_Melanoma.py --input_annot /workspace/projects/sjd_melos/vep/vep_output_files/melanoma/chr3.tsv.gz --input_mut /workspace/projects/sjd_melos/vep/vep_input_files/melanoma/chr3.tsv.gz --output_file /workspace/projects/sjd_melos/vep/vep_filtering_output/melanoma/chr3.tsv.gz\n",
      "python3 /workspace/projects/sjd_melos/scripts/VEP_filtering_Melanoma.py --input_annot /workspace/projects/sjd_melos/vep/vep_output_files/melanoma/chr4.tsv.gz --input_mut /workspace/projects/sjd_melos/vep/vep_input_files/melanoma/chr4.tsv.gz --output_file /workspace/projects/sjd_melos/vep/vep_filtering_output/melanoma/chr4.tsv.gz\n",
      "python3 /workspace/projects/sjd_melos/scripts/VEP_filtering_Melanoma.py --input_annot /workspace/projects/sjd_melos/vep/vep_output_files/melanoma/chr5.tsv.gz --input_mut /workspace/projects/sjd_melos/vep/vep_input_files/melanoma/chr5.tsv.gz --output_file /workspace/projects/sjd_melos/vep/vep_filtering_output/melanoma/chr5.tsv.gz\n",
      "python3 /workspace/projects/sjd_melos/scripts/VEP_filtering_Melanoma.py --input_annot /workspace/projects/sjd_melos/vep/vep_output_files/melanoma/chr6.tsv.gz --input_mut /workspace/projects/sjd_melos/vep/vep_input_files/melanoma/chr6.tsv.gz --output_file /workspace/projects/sjd_melos/vep/vep_filtering_output/melanoma/chr6.tsv.gz\n",
      "python3 /workspace/projects/sjd_melos/scripts/VEP_filtering_Melanoma.py --input_annot /workspace/projects/sjd_melos/vep/vep_output_files/melanoma/chr7.tsv.gz --input_mut /workspace/projects/sjd_melos/vep/vep_input_files/melanoma/chr7.tsv.gz --output_file /workspace/projects/sjd_melos/vep/vep_filtering_output/melanoma/chr7.tsv.gz\n",
      "python3 /workspace/projects/sjd_melos/scripts/VEP_filtering_Melanoma.py --input_annot /workspace/projects/sjd_melos/vep/vep_output_files/melanoma/chr8.tsv.gz --input_mut /workspace/projects/sjd_melos/vep/vep_input_files/melanoma/chr8.tsv.gz --output_file /workspace/projects/sjd_melos/vep/vep_filtering_output/melanoma/chr8.tsv.gz\n",
      "python3 /workspace/projects/sjd_melos/scripts/VEP_filtering_Melanoma.py --input_annot /workspace/projects/sjd_melos/vep/vep_output_files/melanoma/chr9.tsv.gz --input_mut /workspace/projects/sjd_melos/vep/vep_input_files/melanoma/chr9.tsv.gz --output_file /workspace/projects/sjd_melos/vep/vep_filtering_output/melanoma/chr9.tsv.gz\n",
      "python3 /workspace/projects/sjd_melos/scripts/VEP_filtering_Melanoma.py --input_annot /workspace/projects/sjd_melos/vep/vep_output_files/melanoma/chr10.tsv.gz --input_mut /workspace/projects/sjd_melos/vep/vep_input_files/melanoma/chr10.tsv.gz --output_file /workspace/projects/sjd_melos/vep/vep_filtering_output/melanoma/chr10.tsv.gz\n",
      "python3 /workspace/projects/sjd_melos/scripts/VEP_filtering_Melanoma.py --input_annot /workspace/projects/sjd_melos/vep/vep_output_files/melanoma/chr11.tsv.gz --input_mut /workspace/projects/sjd_melos/vep/vep_input_files/melanoma/chr11.tsv.gz --output_file /workspace/projects/sjd_melos/vep/vep_filtering_output/melanoma/chr11.tsv.gz\n",
      "python3 /workspace/projects/sjd_melos/scripts/VEP_filtering_Melanoma.py --input_annot /workspace/projects/sjd_melos/vep/vep_output_files/melanoma/chr12.tsv.gz --input_mut /workspace/projects/sjd_melos/vep/vep_input_files/melanoma/chr12.tsv.gz --output_file /workspace/projects/sjd_melos/vep/vep_filtering_output/melanoma/chr12.tsv.gz\n",
      "python3 /workspace/projects/sjd_melos/scripts/VEP_filtering_Melanoma.py --input_annot /workspace/projects/sjd_melos/vep/vep_output_files/melanoma/chr13.tsv.gz --input_mut /workspace/projects/sjd_melos/vep/vep_input_files/melanoma/chr13.tsv.gz --output_file /workspace/projects/sjd_melos/vep/vep_filtering_output/melanoma/chr13.tsv.gz\n",
      "python3 /workspace/projects/sjd_melos/scripts/VEP_filtering_Melanoma.py --input_annot /workspace/projects/sjd_melos/vep/vep_output_files/melanoma/chr14.tsv.gz --input_mut /workspace/projects/sjd_melos/vep/vep_input_files/melanoma/chr14.tsv.gz --output_file /workspace/projects/sjd_melos/vep/vep_filtering_output/melanoma/chr14.tsv.gz\n",
      "python3 /workspace/projects/sjd_melos/scripts/VEP_filtering_Melanoma.py --input_annot /workspace/projects/sjd_melos/vep/vep_output_files/melanoma/chr15.tsv.gz --input_mut /workspace/projects/sjd_melos/vep/vep_input_files/melanoma/chr15.tsv.gz --output_file /workspace/projects/sjd_melos/vep/vep_filtering_output/melanoma/chr15.tsv.gz\n",
      "python3 /workspace/projects/sjd_melos/scripts/VEP_filtering_Melanoma.py --input_annot /workspace/projects/sjd_melos/vep/vep_output_files/melanoma/chr16.tsv.gz --input_mut /workspace/projects/sjd_melos/vep/vep_input_files/melanoma/chr16.tsv.gz --output_file /workspace/projects/sjd_melos/vep/vep_filtering_output/melanoma/chr16.tsv.gz\n",
      "python3 /workspace/projects/sjd_melos/scripts/VEP_filtering_Melanoma.py --input_annot /workspace/projects/sjd_melos/vep/vep_output_files/melanoma/chr17.tsv.gz --input_mut /workspace/projects/sjd_melos/vep/vep_input_files/melanoma/chr17.tsv.gz --output_file /workspace/projects/sjd_melos/vep/vep_filtering_output/melanoma/chr17.tsv.gz\n",
      "python3 /workspace/projects/sjd_melos/scripts/VEP_filtering_Melanoma.py --input_annot /workspace/projects/sjd_melos/vep/vep_output_files/melanoma/chr18.tsv.gz --input_mut /workspace/projects/sjd_melos/vep/vep_input_files/melanoma/chr18.tsv.gz --output_file /workspace/projects/sjd_melos/vep/vep_filtering_output/melanoma/chr18.tsv.gz\n",
      "python3 /workspace/projects/sjd_melos/scripts/VEP_filtering_Melanoma.py --input_annot /workspace/projects/sjd_melos/vep/vep_output_files/melanoma/chr19.tsv.gz --input_mut /workspace/projects/sjd_melos/vep/vep_input_files/melanoma/chr19.tsv.gz --output_file /workspace/projects/sjd_melos/vep/vep_filtering_output/melanoma/chr19.tsv.gz\n",
      "python3 /workspace/projects/sjd_melos/scripts/VEP_filtering_Melanoma.py --input_annot /workspace/projects/sjd_melos/vep/vep_output_files/melanoma/chr20.tsv.gz --input_mut /workspace/projects/sjd_melos/vep/vep_input_files/melanoma/chr20.tsv.gz --output_file /workspace/projects/sjd_melos/vep/vep_filtering_output/melanoma/chr20.tsv.gz\n",
      "python3 /workspace/projects/sjd_melos/scripts/VEP_filtering_Melanoma.py --input_annot /workspace/projects/sjd_melos/vep/vep_output_files/melanoma/chr21.tsv.gz --input_mut /workspace/projects/sjd_melos/vep/vep_input_files/melanoma/chr21.tsv.gz --output_file /workspace/projects/sjd_melos/vep/vep_filtering_output/melanoma/chr21.tsv.gz\n",
      "python3 /workspace/projects/sjd_melos/scripts/VEP_filtering_Melanoma.py --input_annot /workspace/projects/sjd_melos/vep/vep_output_files/melanoma/chr22.tsv.gz --input_mut /workspace/projects/sjd_melos/vep/vep_input_files/melanoma/chr22.tsv.gz --output_file /workspace/projects/sjd_melos/vep/vep_filtering_output/melanoma/chr22.tsv.gz\n",
      "python3 /workspace/projects/sjd_melos/scripts/VEP_filtering_Melanoma.py --input_annot /workspace/projects/sjd_melos/vep/vep_output_files/melanoma/chrX.tsv.gz --input_mut /workspace/projects/sjd_melos/vep/vep_input_files/melanoma/chrX.tsv.gz --output_file /workspace/projects/sjd_melos/vep/vep_filtering_output/melanoma/chrX.tsv.gz\n",
      "python3 /workspace/projects/sjd_melos/scripts/VEP_filtering_Melanoma.py --input_annot /workspace/projects/sjd_melos/vep/vep_output_files/melanoma/chrY.tsv.gz --input_mut /workspace/projects/sjd_melos/vep/vep_input_files/melanoma/chrY.tsv.gz --output_file /workspace/projects/sjd_melos/vep/vep_filtering_output/melanoma/chrY.tsv.gz\n"
     ]
    }
   ],
   "source": [
    "# Add header to samples and this is the file to export\n",
    "qmap = header + '\\n' + mel_result   # adding \\n might be unnecessary if you follow the saving instructions below\n",
    "print(qmap)"
   ]
  },
  {
   "cell_type": "code",
   "execution_count": null,
   "id": "46877d7c-4261-4712-b7d0-e7dc69527f85",
   "metadata": {},
   "outputs": [],
   "source": [
    "## CHECK FORMAT, "
   ]
  },
  {
   "cell_type": "markdown",
   "id": "87cabc31-53b3-43f1-95d1-2c2710e536a7",
   "metadata": {},
   "source": [
    "## Save as a QMAP file"
   ]
  },
  {
   "cell_type": "raw",
   "id": "0a77ec1e-dbf8-42bb-8f8f-ce183300245a",
   "metadata": {},
   "source": [
    "## IMPORTANT NOTE, IF YOU WANT TO AVOID TRANSFORMING THE PREVIOUS CODE FROM \",\" TO \"\\n\" USE THIS CODE IN F.WRITE TO APPLY \\n WHILE SAVING THE CODE\n",
    "you can directly apply in f.write the transformation to \\n.  \n",
    "\n",
    "with open('/workspace/projects/sjd_melos/vep/VEP_analysis_clonalmut_melups.qmap', 'w') as f:\n",
    "    for item in qmap:\n",
    "        f.write('%s\\n' % item) # this is the modification"
   ]
  },
  {
   "cell_type": "code",
   "execution_count": 38,
   "id": "3071e110-31a3-4f3a-b125-95ddd098c3e0",
   "metadata": {},
   "outputs": [],
   "source": [
    "# with open('/workspace/projects/sjd_melos/vep/vep_filtering_output/VEP_processing_python_script_qmap.qmap', 'w') as f:\n",
    "    # for item in qmap:\n",
    "        # f.write(item) #this respects the format from previous code"
   ]
  },
  {
   "cell_type": "raw",
   "id": "230a2ceb-ac17-4a8a-8cd4-6a27bc18100d",
   "metadata": {},
   "source": [
    "## Check in bash terminal that the number of lines for each sample is correct (it should be 24, 22 for autosomal chromosomes and 2 sexual):\n",
    "%%bash\n",
    "grep -c 'chr' ./QMAP_file_filter_Melanoma.ipynb"
   ]
  }
 ],
 "metadata": {
  "kernelspec": {
   "display_name": "melos",
   "language": "python",
   "name": "melos"
  },
  "language_info": {
   "codemirror_mode": {
    "name": "ipython",
    "version": 3
   },
   "file_extension": ".py",
   "mimetype": "text/x-python",
   "name": "python",
   "nbconvert_exporter": "python",
   "pygments_lexer": "ipython3",
   "version": "3.11.5"
  }
 },
 "nbformat": 4,
 "nbformat_minor": 5
}
