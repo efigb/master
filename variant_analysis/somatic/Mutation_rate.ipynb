{
 "cells": [
  {
   "cell_type": "markdown",
   "id": "e90636ae-9001-454f-84f8-322eada044b3",
   "metadata": {},
   "source": [
    "# MUTATION RATE OF CLONAL MUTATIONS IN SAMPLES"
   ]
  },
  {
   "cell_type": "code",
   "execution_count": 2,
   "id": "04e6e6f4-d34f-430c-8210-337a8126d593",
   "metadata": {},
   "outputs": [],
   "source": [
    "import matplotlib.pyplot as plt\n",
    "import seaborn as sns\n",
    "import pandas as pd\n",
    "from tqdm import tqdm_notebook\n",
    "from tqdm.notebook import tqdm_notebook\n",
    "tqdm_notebook.pandas()\n",
    "from tqdm.notebook import tqdm\n",
    "tqdm.pandas()\n",
    "from tqdm.notebook import tqdm_notebook\n",
    "tqdm_notebook.pandas()"
   ]
  },
  {
   "cell_type": "code",
   "execution_count": 3,
   "id": "9b75aad3-ee58-4794-8a93-bec143f2c268",
   "metadata": {},
   "outputs": [],
   "source": [
    "# Import filtered mutation files \n",
    "genome = pd.read_csv('/workspace/datasets/transfer/ferran_to_bet/hg38_mappable_genome.tsv.gz', sep=\"\\t\", header=0)"
   ]
  },
  {
   "cell_type": "code",
   "execution_count": 4,
   "id": "01714617-d377-433d-aab1-abc5fa8589e7",
   "metadata": {},
   "outputs": [],
   "source": [
    "# Import the list of common mutations that are CLONAL in the compendium of the three callers in each tumor. Note that all melanoma mutations are considered clonal!!\n",
    "\n",
    "mel_clmut_df = pd.read_csv('/workspace/projects/sjd_melos/MAFs_tables/Mel_CCF_Purple_common_mutations.tsv.gz', sep=\"\\t\", header=0) #same data as mel_mut_df\n",
    "sar_clmut_df = pd.read_csv('/workspace/projects/sjd_melos/MAFs_tables/Sar_CCF_Purple_clonal_mutations.tsv.gz', sep=\"\\t\", header=0)\n",
    "lung_clmut_df = pd.read_csv('/workspace/projects/sjd_melos/MAFs_tables/Lung_CCF_Purple_clonal_mutations.tsv.gz', sep=\"\\t\", header=0)"
   ]
  },
  {
   "cell_type": "code",
   "execution_count": 5,
   "id": "0b8aee5d-03e1-4443-b593-13b1f39d2f8a",
   "metadata": {},
   "outputs": [
    {
     "data": {
      "text/html": [
       "<div>\n",
       "<style scoped>\n",
       "    .dataframe tbody tr th:only-of-type {\n",
       "        vertical-align: middle;\n",
       "    }\n",
       "\n",
       "    .dataframe tbody tr th {\n",
       "        vertical-align: top;\n",
       "    }\n",
       "\n",
       "    .dataframe thead th {\n",
       "        text-align: right;\n",
       "    }\n",
       "</style>\n",
       "<table border=\"1\" class=\"dataframe\">\n",
       "  <thead>\n",
       "    <tr style=\"text-align: right;\">\n",
       "      <th></th>\n",
       "      <th>CHR</th>\n",
       "      <th>START</th>\n",
       "      <th>END</th>\n",
       "    </tr>\n",
       "  </thead>\n",
       "  <tbody>\n",
       "    <tr>\n",
       "      <th>0</th>\n",
       "      <td>chr1</td>\n",
       "      <td>54721</td>\n",
       "      <td>54723</td>\n",
       "    </tr>\n",
       "    <tr>\n",
       "      <th>1</th>\n",
       "      <td>chr1</td>\n",
       "      <td>54725</td>\n",
       "      <td>54754</td>\n",
       "    </tr>\n",
       "    <tr>\n",
       "      <th>2</th>\n",
       "      <td>chr1</td>\n",
       "      <td>66227</td>\n",
       "      <td>66230</td>\n",
       "    </tr>\n",
       "    <tr>\n",
       "      <th>3</th>\n",
       "      <td>chr1</td>\n",
       "      <td>66232</td>\n",
       "      <td>66235</td>\n",
       "    </tr>\n",
       "    <tr>\n",
       "      <th>4</th>\n",
       "      <td>chr1</td>\n",
       "      <td>66237</td>\n",
       "      <td>66237</td>\n",
       "    </tr>\n",
       "  </tbody>\n",
       "</table>\n",
       "</div>"
      ],
      "text/plain": [
       "    CHR  START    END\n",
       "0  chr1  54721  54723\n",
       "1  chr1  54725  54754\n",
       "2  chr1  66227  66230\n",
       "3  chr1  66232  66235\n",
       "4  chr1  66237  66237"
      ]
     },
     "execution_count": 5,
     "metadata": {},
     "output_type": "execute_result"
    }
   ],
   "source": [
    "genome.head()"
   ]
  },
  {
   "cell_type": "code",
   "execution_count": 6,
   "id": "c0a314ae-958c-4d18-be9a-67a8fcb7466f",
   "metadata": {},
   "outputs": [
    {
     "data": {
      "text/plain": [
       "CHR      object\n",
       "START     int64\n",
       "END       int64\n",
       "dtype: object"
      ]
     },
     "execution_count": 6,
     "metadata": {},
     "output_type": "execute_result"
    }
   ],
   "source": [
    "# Check object type of columns to operate\n",
    "genome.dtypes"
   ]
  },
  {
   "cell_type": "code",
   "execution_count": 7,
   "id": "283e92cd-43a4-4212-8e1f-57b9e01f8221",
   "metadata": {},
   "outputs": [
    {
     "name": "stderr",
     "output_type": "stream",
     "text": [
      "/tmp/jobs/efiguerola/9368478/ipykernel_48220/2353978974.py:5: SettingWithCopyWarning: \n",
      "A value is trying to be set on a copy of a slice from a DataFrame.\n",
      "Try using .loc[row_indexer,col_indexer] = value instead\n",
      "\n",
      "See the caveats in the documentation: https://pandas.pydata.org/pandas-docs/stable/user_guide/indexing.html#returning-a-view-versus-a-copy\n",
      "  prova['diff'] = prova.apply(lambda row: row['END'] - row['START'], axis=1) # calculate the mappable length per region and create new column\n"
     ]
    },
    {
     "data": {
      "text/plain": [
       "37"
      ]
     },
     "execution_count": 7,
     "metadata": {},
     "output_type": "execute_result"
    }
   ],
   "source": [
    "# Try the code first with less rows\n",
    "prova = genome[0:5]\n",
    "prova\n",
    "\n",
    "prova['diff'] = prova.apply(lambda row: row['END'] - row['START'], axis=1) # calculate the mappable length per region and create new column\n",
    "suma = prova['diff'].sum() # sum all the mappable regions to obtain the mappable region\n",
    "suma"
   ]
  },
  {
   "cell_type": "code",
   "execution_count": 8,
   "id": "4d7befe3-ab8a-4d7f-b451-0a32d26aa1eb",
   "metadata": {},
   "outputs": [
    {
     "data": {
      "application/vnd.jupyter.widget-view+json": {
       "model_id": "7bc4df082d1c4b3ba340b637143d6c42",
       "version_major": 2,
       "version_minor": 0
      },
      "text/plain": [
       "  0%|          | 0/14626864 [00:00<?, ?it/s]"
      ]
     },
     "metadata": {},
     "output_type": "display_data"
    },
    {
     "data": {
      "text/plain": [
       "2516670238"
      ]
     },
     "execution_count": 8,
     "metadata": {},
     "output_type": "execute_result"
    }
   ],
   "source": [
    "# Now apply it to actual code to obtain the number of bases of the mappable hg38 genome\n",
    "genome['diff'] = genome.progress_apply(lambda row: row['END'] - row['START'], axis=1)\n",
    "mappable = genome['diff'].sum() \n",
    "mappable"
   ]
  },
  {
   "cell_type": "code",
   "execution_count": 9,
   "id": "a13ec52a-49a0-4657-ab63-6ea2dfd3a120",
   "metadata": {},
   "outputs": [
    {
     "data": {
      "text/plain": [
       "2516.670238"
      ]
     },
     "execution_count": 9,
     "metadata": {},
     "output_type": "execute_result"
    }
   ],
   "source": [
    "# Calculate the mappable region\n",
    "mappable = mappable / 1000000 # convert to bases to Mb\n",
    "mappable"
   ]
  },
  {
   "cell_type": "code",
   "execution_count": 10,
   "id": "d2d62842-f9f5-4874-b3cf-fd79dbdd0625",
   "metadata": {},
   "outputs": [],
   "source": [
    "# Extract the number of clonal mutations from each sample\n",
    "mel_clmut = mel_clmut_df['mut'].tolist()\n",
    "sar_clmut = sar_clmut_df['mut'].tolist()\n",
    "lung_clmut = lung_clmut_df['mut'].tolist()\n",
    "\n",
    "mel_clmut = len(mel_clmut)\n",
    "sar_clmut = len(sar_clmut)\n",
    "lung_clmut = len(lung_clmut)"
   ]
  },
  {
   "cell_type": "code",
   "execution_count": 11,
   "id": "705d9e5b-25d3-4505-bff5-1bfee0165170",
   "metadata": {},
   "outputs": [
    {
     "name": "stdout",
     "output_type": "stream",
     "text": [
      "1062273 19595 19501\n"
     ]
    }
   ],
   "source": [
    "print(mel_clmut, sar_clmut, lung_clmut)"
   ]
  },
  {
   "cell_type": "code",
   "execution_count": 12,
   "id": "68afcec0-3def-4efa-938b-95312e189768",
   "metadata": {},
   "outputs": [
    {
     "name": "stdout",
     "output_type": "stream",
     "text": [
      "422.0946328050469 7.786081666214705 7.748730725840927\n"
     ]
    }
   ],
   "source": [
    "# Calculate the clonal mutation rate of each sample\n",
    "mel_mut_rate = mel_clmut / mappable\n",
    "sar_mut_rate = sar_clmut / mappable\n",
    "lung_mut_rate = lung_clmut / mappable\n",
    "\n",
    "print(mel_mut_rate,sar_mut_rate,lung_mut_rate)"
   ]
  },
  {
   "cell_type": "code",
   "execution_count": 13,
   "id": "6b318ac0-40ab-41da-a737-7a039435754e",
   "metadata": {},
   "outputs": [
    {
     "name": "stdout",
     "output_type": "stream",
     "text": [
      "422.0946 7.7861 7.7487\n"
     ]
    }
   ],
   "source": [
    "from decimal import Decimal\n",
    "import decimal\n",
    "mel_mut_rate = round(Decimal(mel_mut_rate), 4)\n",
    "sar_mut_rate = round(Decimal(sar_mut_rate), 4)\n",
    "lung_mut_rate = round(Decimal(lung_mut_rate), 4)\n",
    "print(mel_mut_rate,sar_mut_rate,lung_mut_rate)"
   ]
  },
  {
   "cell_type": "code",
   "execution_count": 14,
   "id": "e3595162-1e0d-49bb-80df-f633da8c6729",
   "metadata": {},
   "outputs": [
    {
     "data": {
      "image/png": "[encoded data removed]",
      "text/plain": [
       "<Figure size 640x480 with 2 Axes>"
      ]
     },
     "metadata": {},
     "output_type": "display_data"
    }
   ],
   "source": [
    "# Representation in one single bar plot graph\n",
    "# Make a dataframe to represent data\n",
    "mut_ratio = ({\n",
    "    'Tumor type':['Melanoma', 'Sarcoma', 'Sarcoma-Metastasis'],\n",
    "    'Mutation rate': [mel_mut_rate, sar_mut_rate, lung_mut_rate]\n",
    "})\n",
    "\n",
    "# Create two subplots to divide y-axis\n",
    "f, (ax, ay) = plt.subplots(ncols=1, nrows=2, sharey=False)\n",
    "ax = sns.barplot(x='Tumor type', y='Mutation rate', hue='Mutation rate', data=mut_ratio, palette=['coral', 'orange', 'dodgerblue'],ax=ax)\n",
    "ay = sns.barplot(x='Tumor type', y='Mutation rate', hue='Mutation rate', data=mut_ratio, palette=['coral', 'orange', 'dodgerblue'],ax=ay)\n",
    "\n",
    "ax.set_ylim(400, 425)\n",
    "ay.set_ylim(0,19)  \n",
    "\n",
    "# Hide legend\n",
    "ax.legend([],[], frameon=False)\n",
    "ay.legend([],[], frameon=False)\n",
    "\n",
    "# Hide\n",
    "ax.set(xlabel=None)\n",
    "ay.set(ylabel=None)\n",
    "\n",
    "ax.tick_params(labelsize=12)\n",
    "ay.tick_params(labelsize=12)\n",
    "ay.set_xlabel('Tumor type',fontsize=14)\n",
    "ax.set(xlabel=None)\n",
    "ax.set(ylabel=None)\n",
    "ax.axes.set_title(\"Mutation rate (mut/Mb)\",fontsize=16)\n",
    "\n",
    "# Show the plot\n",
    "plt.subplots_adjust(wspace=0.05, hspace=0.05)\n",
    "plt.show()"
   ]
  },
  {
   "cell_type": "code",
   "execution_count": 15,
   "id": "56c2bacb-5127-47fb-8f8c-a42e6aa6755d",
   "metadata": {},
   "outputs": [
    {
     "data": {
      "image/png": "[encoded data removed]",
      "text/plain": [
       "<Figure size 640x480 with 2 Axes>"
      ]
     },
     "metadata": {},
     "output_type": "display_data"
    }
   ],
   "source": [
    "# Representation in one single bar plot graph\n",
    "# Make a dataframe to represent data\n",
    "mut_ratio = ({\n",
    "    'Tipo de tumor':['Melanoma', 'Sarcoma', 'Sarcoma-Metastasis'],\n",
    "    'Ratio de mutaciones': [mel_mut_rate, sar_mut_rate, lung_mut_rate]\n",
    "})\n",
    "\n",
    "# Create two subplots to divide y-axis\n",
    "f, (ax, ay) = plt.subplots(ncols=1, nrows=2, sharey=False)\n",
    "ax = sns.barplot(x='Tipo de tumor', y='Ratio de mutaciones', hue='Ratio de mutaciones', data=mut_ratio, palette=['coral', 'orange', 'dodgerblue'],ax=ax) #above graph\n",
    "ay = sns.barplot(x='Tipo de tumor', y='Ratio de mutaciones', hue='Ratio de mutaciones', data=mut_ratio, palette=['coral', 'orange', 'dodgerblue'],ax=ay) #below graph\n",
    "\n",
    "ax.set_ylim(400, 425)\n",
    "ay.set_ylim(0,19)  \n",
    "\n",
    "# Hide legend\n",
    "ax.legend([],[], frameon=False)\n",
    "ay.legend([],[], frameon=False)\n",
    "\n",
    "# Hide elements in graphs\n",
    "ax.set(xlabel=None)\n",
    "ay.set(ylabel=None)\n",
    "ax.tick_params(labelsize=12)\n",
    "ay.tick_params(labelsize=12)\n",
    "ay.set_xlabel('Tipo de tumor',fontsize=14)\n",
    "ax.set_xticks([])\n",
    "ax.set(xlabel=None)\n",
    "ax.set(ylabel=None)\n",
    "ax.axes.set_title(\"Ratio de mutaciones\",fontsize=16)\n",
    "\n",
    "# Show the plot\n",
    "plt.subplots_adjust(wspace=0.05, hspace=0.05)\n",
    "\n",
    "# Save figure first then show\n",
    "plt.savefig('/workspace/projects/sjd_melos/exports_images/ratio_mutaciones.png',dpi=300,transparent=True, format='png')\n",
    "\n",
    "plt.show()"
   ]
  },
  {
   "cell_type": "markdown",
   "id": "4925c026-9946-4953-bda7-83088902be80",
   "metadata": {},
   "source": [
    "## Mutation rate of coding regions"
   ]
  }
 ],
 "metadata": {
  "kernelspec": {
   "display_name": "melos",
   "language": "python",
   "name": "melos"
  },
  "language_info": {
   "codemirror_mode": {
    "name": "ipython",
    "version": 3
   },
   "file_extension": ".py",
   "mimetype": "text/x-python",
   "name": "python",
   "nbconvert_exporter": "python",
   "pygments_lexer": "ipython3",
   "version": "3.11.5"
  }
 },
 "nbformat": 4,
 "nbformat_minor": 5
}
