{
 "cells": [
  {
   "cell_type": "markdown",
   "id": "001868d1-ced8-46c0-a22a-a09667f538fb",
   "metadata": {},
   "source": [
    "# SAMPLES COMPARISON AND PHILOGENETIC TREE"
   ]
  },
  {
   "cell_type": "code",
   "execution_count": 1,
   "id": "c814e7c5-c6df-46db-b52a-e76532168ce9",
   "metadata": {},
   "outputs": [],
   "source": [
    "# Needed basic packages\n",
    "import pandas as pd\n",
    "import matplotlib.pyplot as plt\n",
    "import numpy as np\n",
    "import seaborn as sns\n",
    "from tqdm.notebook import tqdm\n",
    "from matplotlib_venn import venn2\n",
    "from matplotlib_venn import venn3\n",
    "from tqdm.notebook import tqdm_notebook\n",
    "tqdm_notebook.pandas()"
   ]
  },
  {
   "cell_type": "code",
   "execution_count": 2,
   "id": "372183af-f8c8-41ad-91ba-55309244f3a1",
   "metadata": {},
   "outputs": [],
   "source": [
    "# Import the list of common mutations that are CLONAL in the compendium of the three callers in each tumor. Note that all melanoma mutations are considered clonal!!\n",
    "\n",
    "mel_clmut_df = pd.read_csv('/workspace/projects/sjd_melos/MAFs_tables/Mel_CCF_Purple_common_mutations.tsv.gz', sep=\"\\t\", header=0) #same data as mel_mut_df\n",
    "sar_clmut_df = pd.read_csv('/workspace/projects/sjd_melos/MAFs_tables/Sar_CCF_Purple_clonal_mutations.tsv.gz', sep=\"\\t\", header=0)\n",
    "lung_clmut_df = pd.read_csv('/workspace/projects/sjd_melos/MAFs_tables/Lung_CCF_Purple_clonal_mutations.tsv.gz', sep=\"\\t\", header=0)"
   ]
  },
  {
   "cell_type": "code",
   "execution_count": 3,
   "id": "b8622200-9061-45bb-a29e-3d26f37d082b",
   "metadata": {},
   "outputs": [
    {
     "data": {
      "text/plain": [
       "(1062273, 26, 19595, 27, 19501, 27)"
      ]
     },
     "execution_count": 3,
     "metadata": {},
     "output_type": "execute_result"
    }
   ],
   "source": [
    "mel_clmut_df.shape + sar_clmut_df.shape + lung_clmut_df.shape"
   ]
  },
  {
   "cell_type": "markdown",
   "id": "d5407837-0faf-47dc-af07-ab59999ef791",
   "metadata": {},
   "source": [
    "## 1. CLONAL MUTATION COMPARISON BETWEEN SAMPLES"
   ]
  },
  {
   "cell_type": "markdown",
   "id": "836b6fef-e187-4805-a5eb-ad090d86937c",
   "metadata": {},
   "source": [
    "### a. With inner merge"
   ]
  },
  {
   "cell_type": "code",
   "execution_count": 4,
   "id": "4b6e7eac-310f-4a97-ad28-c374ba416cc0",
   "metadata": {},
   "outputs": [],
   "source": [
    "# Now merge based on \"mut\" column, in two-by-two comparisons since we want the common mutations in a minimum of two callers (how=inner)\n",
    "mel_sar_cl_df = pd.merge(mel_clmut_df, sar_clmut_df, how =\"inner\", on=['mut'], suffixes=['_Mel','_Sar'])\n",
    "sar_lung_cl_df = pd.merge(sar_clmut_df, lung_clmut_df, how =\"inner\", on=['mut'], suffixes=['_Sar','_Lung'])\n",
    "mel_lung_cl_df = pd.merge(mel_clmut_df, lung_clmut_df, how =\"inner\", on=['mut'], suffixes=['_Sar','_Lung'])"
   ]
  },
  {
   "cell_type": "code",
   "execution_count": 5,
   "id": "be9473ca-184f-4ee3-8fd7-afe22135f2b9",
   "metadata": {},
   "outputs": [
    {
     "data": {
      "text/plain": [
       "(1, 52, 17965, 53, 2, 52)"
      ]
     },
     "execution_count": 5,
     "metadata": {},
     "output_type": "execute_result"
    }
   ],
   "source": [
    "mel_sar_cl_df.shape + sar_lung_cl_df.shape + mel_lung_cl_df.shape"
   ]
  },
  {
   "cell_type": "code",
   "execution_count": 6,
   "id": "7f5f8f17-4bcd-4b9b-858d-dc95aa8aa078",
   "metadata": {},
   "outputs": [],
   "source": [
    "common_cl_df = pd.merge(mel_sar_cl_df, lung_clmut_df, how =\"inner\", on=['mut']) # inner to check only in the three groups"
   ]
  },
  {
   "cell_type": "code",
   "execution_count": 7,
   "id": "3e5d859d-b12f-44ad-9f7f-bf156b529ef6",
   "metadata": {},
   "outputs": [
    {
     "data": {
      "text/html": [
       "<div>\n",
       "<style scoped>\n",
       "    .dataframe tbody tr th:only-of-type {\n",
       "        vertical-align: middle;\n",
       "    }\n",
       "\n",
       "    .dataframe tbody tr th {\n",
       "        vertical-align: top;\n",
       "    }\n",
       "\n",
       "    .dataframe thead th {\n",
       "        text-align: right;\n",
       "    }\n",
       "</style>\n",
       "<table border=\"1\" class=\"dataframe\">\n",
       "  <thead>\n",
       "    <tr style=\"text-align: right;\">\n",
       "      <th></th>\n",
       "      <th>CHROM_Mel</th>\n",
       "      <th>POS_Mel</th>\n",
       "      <th>ID_Mel</th>\n",
       "      <th>REF_Mel</th>\n",
       "      <th>ALT_Mel</th>\n",
       "      <th>QUAL_Mel</th>\n",
       "      <th>FILTER_Mel</th>\n",
       "      <th>INFO_Mel</th>\n",
       "      <th>FORMAT_Mel</th>\n",
       "      <th>NORMAL_Mel</th>\n",
       "      <th>...</th>\n",
       "      <th>n_alt_reads</th>\n",
       "      <th>t_ref_reads</th>\n",
       "      <th>n_ref_reads</th>\n",
       "      <th>VAF</th>\n",
       "      <th>mut_type</th>\n",
       "      <th>Caller_intersec</th>\n",
       "      <th>SAMPLE</th>\n",
       "      <th>CN</th>\n",
       "      <th>CCF</th>\n",
       "      <th>clonality_y</th>\n",
       "    </tr>\n",
       "  </thead>\n",
       "  <tbody>\n",
       "    <tr>\n",
       "      <th>0</th>\n",
       "      <td>chr2</td>\n",
       "      <td>223246091</td>\n",
       "      <td>.</td>\n",
       "      <td>G</td>\n",
       "      <td>A</td>\n",
       "      <td>.</td>\n",
       "      <td>PASS</td>\n",
       "      <td>AS_FilterStatus=SITE;AS_SB_TABLE=125,130|10,9;...</td>\n",
       "      <td>GT:AD:AF:DP:F1R2:F2R1:FAD:SB</td>\n",
       "      <td>0/0:131,0:7.537e-03:131:61,0:67,0:130,0:61,70,0,0</td>\n",
       "      <td>...</td>\n",
       "      <td>0</td>\n",
       "      <td>33</td>\n",
       "      <td>131</td>\n",
       "      <td>0.663265</td>\n",
       "      <td>SNV</td>\n",
       "      <td>Mutect_Strelka</td>\n",
       "      <td>sarcoma_lung</td>\n",
       "      <td>0.9976</td>\n",
       "      <td>0.993306</td>\n",
       "      <td>clonal</td>\n",
       "    </tr>\n",
       "  </tbody>\n",
       "</table>\n",
       "<p>1 rows × 78 columns</p>\n",
       "</div>"
      ],
      "text/plain": [
       "  CHROM_Mel    POS_Mel ID_Mel REF_Mel ALT_Mel QUAL_Mel FILTER_Mel  \\\n",
       "0      chr2  223246091      .       G       A        .       PASS   \n",
       "\n",
       "                                            INFO_Mel  \\\n",
       "0  AS_FilterStatus=SITE;AS_SB_TABLE=125,130|10,9;...   \n",
       "\n",
       "                     FORMAT_Mel  \\\n",
       "0  GT:AD:AF:DP:F1R2:F2R1:FAD:SB   \n",
       "\n",
       "                                          NORMAL_Mel  ... n_alt_reads  \\\n",
       "0  0/0:131,0:7.537e-03:131:61,0:67,0:130,0:61,70,0,0  ...           0   \n",
       "\n",
       "   t_ref_reads  n_ref_reads       VAF  mut_type  Caller_intersec  \\\n",
       "0           33          131  0.663265       SNV   Mutect_Strelka   \n",
       "\n",
       "         SAMPLE      CN       CCF  clonality_y  \n",
       "0  sarcoma_lung  0.9976  0.993306       clonal  \n",
       "\n",
       "[1 rows x 78 columns]"
      ]
     },
     "execution_count": 7,
     "metadata": {},
     "output_type": "execute_result"
    }
   ],
   "source": [
    "common_cl_df"
   ]
  },
  {
   "cell_type": "code",
   "execution_count": 8,
   "id": "086d7159-ecba-435a-8302-83b4fa2904b4",
   "metadata": {},
   "outputs": [
    {
     "data": {
      "text/plain": [
       "(1, 78)"
      ]
     },
     "execution_count": 8,
     "metadata": {},
     "output_type": "execute_result"
    }
   ],
   "source": [
    "common_cl_df.shape"
   ]
  },
  {
   "cell_type": "markdown",
   "id": "6d1fe06a-344d-4a16-9330-b831a01ce62c",
   "metadata": {},
   "source": [
    "### b. With outer merge (same result, but useful for outsider values in venn)"
   ]
  },
  {
   "cell_type": "raw",
   "id": "e3baaee9-3fe3-46dd-9a3a-bae728869e1a",
   "metadata": {},
   "source": [
    "## Important note: when using how=outer we have all groups of the venn, so .groupby and .count methods are useful to see number of items in each group. It will create a merge column that indicates \"both\", \"left_only\" or \"right_only\" that will be useful for that.\n",
    "\n",
    "## Examples:\n",
    "mutstr_common_df.groupby('_merge').count() # counts the number of individuals in each group\n",
    "## Extract \"both\" values of the merge_vaf_strelka which are the Mutect2 and Strelka common mutations that passed filters\n",
    "#group1 = merged_df1.groupby(\"_merge\") # extracts both values in the merge column."
   ]
  },
  {
   "cell_type": "code",
   "execution_count": 9,
   "id": "c610a5dd-6f0a-4f07-8eb9-fe34fdea5f18",
   "metadata": {},
   "outputs": [
    {
     "name": "stdout",
     "output_type": "stream",
     "text": [
      "Index(['CHROM_Mel', 'POS_Mel', 'ID_Mel', 'REF_Mel', 'ALT_Mel', 'QUAL_Mel',\n",
      "       'FILTER_Mel', 'INFO_Mel', 'FORMAT_Mel', 'NORMAL_Mel', 'TUMOR_Mel',\n",
      "       't_AF_Mel', 'n_AF_Mel', 't_DP_Mel', 'n_DP_Mel', 't_alt_reads_Mel',\n",
      "       'n_alt_reads_Mel', 't_ref_reads_Mel', 'n_ref_reads_Mel', 'VAF_Mel',\n",
      "       'mut_type_Mel', 'Caller_intersec_Mel', 'SAMPLE_Mel', 'mut', 'CN_Mel',\n",
      "       'CCF_Mel', 'CHROM_Sar', 'POS_Sar', 'ID_Sar', 'REF_Sar', 'ALT_Sar',\n",
      "       'QUAL_Sar', 'FILTER_Sar', 'INFO_Sar', 'FORMAT_Sar', 'NORMAL_Sar',\n",
      "       'TUMOR_Sar', 't_AF_Sar', 'n_AF_Sar', 't_DP_Sar', 'n_DP_Sar',\n",
      "       't_alt_reads_Sar', 'n_alt_reads_Sar', 't_ref_reads_Sar',\n",
      "       'n_ref_reads_Sar', 'VAF_Sar', 'mut_type_Sar', 'Caller_intersec_Sar',\n",
      "       'SAMPLE_Sar', 'CN_Sar', 'CCF_Sar', 'clonality', '_merge'],\n",
      "      dtype='object')\n"
     ]
    }
   ],
   "source": [
    "# Merge inner and use indicator to add a merge column\n",
    "mel_sar_cl_df2 = pd.merge(mel_clmut_df, sar_clmut_df, how =\"outer\", on=['mut'], suffixes=['_Mel','_Sar'], indicator = True)\n",
    "print(mel_sar_cl_df2.columns) # note that _merge column has been added\n",
    "sar_lung_cl_df2 = pd.merge(sar_clmut_df, lung_clmut_df, how =\"outer\", on=['mut'], suffixes=['_Sar','_Lung'], indicator = True)\n",
    "mel_lung_cl_df2 = pd.merge(mel_clmut_df, lung_clmut_df, how =\"outer\", on=['mut'], suffixes=['_Mel','_Lung'], indicator = True)"
   ]
  },
  {
   "cell_type": "code",
   "execution_count": 10,
   "id": "0f3fb188-fe44-4b96-9a43-b2f98bdbb26e",
   "metadata": {},
   "outputs": [],
   "source": [
    "# Extract only both from mel_sar\n",
    "mel_sar_cl_df2 = mel_sar_cl_df2[mel_sar_cl_df2['_merge'] == 'both']\n",
    "\n",
    "# Merge common mel-sar with lung to obtain the common mutation in all groups \n",
    "\n",
    "common_cl2 = pd.merge(mel_sar_cl_df2, lung_clmut_df, how =\"inner\", on=['mut']) # note here that we use inner to only know those common mutations and skip repeated column names problem"
   ]
  },
  {
   "cell_type": "code",
   "execution_count": 11,
   "id": "8477e8d0-530e-4f3d-9a3e-daa2ee4879d2",
   "metadata": {},
   "outputs": [
    {
     "data": {
      "text/html": [
       "<div>\n",
       "<style scoped>\n",
       "    .dataframe tbody tr th:only-of-type {\n",
       "        vertical-align: middle;\n",
       "    }\n",
       "\n",
       "    .dataframe tbody tr th {\n",
       "        vertical-align: top;\n",
       "    }\n",
       "\n",
       "    .dataframe thead th {\n",
       "        text-align: right;\n",
       "    }\n",
       "</style>\n",
       "<table border=\"1\" class=\"dataframe\">\n",
       "  <thead>\n",
       "    <tr style=\"text-align: right;\">\n",
       "      <th></th>\n",
       "      <th>CHROM_Mel</th>\n",
       "      <th>POS_Mel</th>\n",
       "      <th>ID_Mel</th>\n",
       "      <th>REF_Mel</th>\n",
       "      <th>ALT_Mel</th>\n",
       "      <th>QUAL_Mel</th>\n",
       "      <th>FILTER_Mel</th>\n",
       "      <th>INFO_Mel</th>\n",
       "      <th>FORMAT_Mel</th>\n",
       "      <th>NORMAL_Mel</th>\n",
       "      <th>...</th>\n",
       "      <th>n_alt_reads</th>\n",
       "      <th>t_ref_reads</th>\n",
       "      <th>n_ref_reads</th>\n",
       "      <th>VAF</th>\n",
       "      <th>mut_type</th>\n",
       "      <th>Caller_intersec</th>\n",
       "      <th>SAMPLE</th>\n",
       "      <th>CN</th>\n",
       "      <th>CCF</th>\n",
       "      <th>clonality_y</th>\n",
       "    </tr>\n",
       "  </thead>\n",
       "  <tbody>\n",
       "    <tr>\n",
       "      <th>0</th>\n",
       "      <td>chr2</td>\n",
       "      <td>223246091.0</td>\n",
       "      <td>.</td>\n",
       "      <td>G</td>\n",
       "      <td>A</td>\n",
       "      <td>.</td>\n",
       "      <td>PASS</td>\n",
       "      <td>AS_FilterStatus=SITE;AS_SB_TABLE=125,130|10,9;...</td>\n",
       "      <td>GT:AD:AF:DP:F1R2:F2R1:FAD:SB</td>\n",
       "      <td>0/0:131,0:7.537e-03:131:61,0:67,0:130,0:61,70,0,0</td>\n",
       "      <td>...</td>\n",
       "      <td>0</td>\n",
       "      <td>33</td>\n",
       "      <td>131</td>\n",
       "      <td>0.663265</td>\n",
       "      <td>SNV</td>\n",
       "      <td>Mutect_Strelka</td>\n",
       "      <td>sarcoma_lung</td>\n",
       "      <td>0.9976</td>\n",
       "      <td>0.993306</td>\n",
       "      <td>clonal</td>\n",
       "    </tr>\n",
       "  </tbody>\n",
       "</table>\n",
       "<p>1 rows × 79 columns</p>\n",
       "</div>"
      ],
      "text/plain": [
       "  CHROM_Mel      POS_Mel ID_Mel REF_Mel ALT_Mel QUAL_Mel FILTER_Mel  \\\n",
       "0      chr2  223246091.0      .       G       A        .       PASS   \n",
       "\n",
       "                                            INFO_Mel  \\\n",
       "0  AS_FilterStatus=SITE;AS_SB_TABLE=125,130|10,9;...   \n",
       "\n",
       "                     FORMAT_Mel  \\\n",
       "0  GT:AD:AF:DP:F1R2:F2R1:FAD:SB   \n",
       "\n",
       "                                          NORMAL_Mel  ... n_alt_reads  \\\n",
       "0  0/0:131,0:7.537e-03:131:61,0:67,0:130,0:61,70,0,0  ...           0   \n",
       "\n",
       "   t_ref_reads  n_ref_reads       VAF  mut_type  Caller_intersec  \\\n",
       "0           33          131  0.663265       SNV   Mutect_Strelka   \n",
       "\n",
       "         SAMPLE      CN       CCF  clonality_y  \n",
       "0  sarcoma_lung  0.9976  0.993306       clonal  \n",
       "\n",
       "[1 rows x 79 columns]"
      ]
     },
     "execution_count": 11,
     "metadata": {},
     "output_type": "execute_result"
    }
   ],
   "source": [
    "common_cl2"
   ]
  },
  {
   "cell_type": "code",
   "execution_count": 12,
   "id": "2aa1a854-d80a-4241-aec2-8be8f612cb3b",
   "metadata": {},
   "outputs": [
    {
     "name": "stderr",
     "output_type": "stream",
     "text": [
      "/tmp/jobs/efiguerola/9960593/ipykernel_1577070/1286828068.py:1: FutureWarning: The default of observed=False is deprecated and will be changed to True in a future version of pandas. Pass observed=False to retain current behavior or observed=True to adopt the future default and silence this warning.\n",
      "  mel_sar_cl_df2.groupby('_merge').size()\n"
     ]
    },
    {
     "data": {
      "text/plain": [
       "_merge\n",
       "left_only     0\n",
       "right_only    0\n",
       "both          1\n",
       "dtype: int64"
      ]
     },
     "execution_count": 12,
     "metadata": {},
     "output_type": "execute_result"
    }
   ],
   "source": [
    "mel_sar_cl_df2.groupby('_merge').size()"
   ]
  },
  {
   "cell_type": "code",
   "execution_count": 13,
   "id": "008767b2-7a58-4480-adb5-d78dbdfcdeeb",
   "metadata": {},
   "outputs": [
    {
     "name": "stderr",
     "output_type": "stream",
     "text": [
      "/tmp/jobs/efiguerola/9960593/ipykernel_1577070/3914489256.py:1: FutureWarning: The default of observed=False is deprecated and will be changed to True in a future version of pandas. Pass observed=False to retain current behavior or observed=True to adopt the future default and silence this warning.\n",
      "  sar_lung_cl_df2.groupby('_merge').size()\n"
     ]
    },
    {
     "data": {
      "text/plain": [
       "_merge\n",
       "left_only      1630\n",
       "right_only     1536\n",
       "both          17965\n",
       "dtype: int64"
      ]
     },
     "execution_count": 13,
     "metadata": {},
     "output_type": "execute_result"
    }
   ],
   "source": [
    "sar_lung_cl_df2.groupby('_merge').size()"
   ]
  },
  {
   "cell_type": "code",
   "execution_count": 14,
   "id": "d0bf4374-223f-479b-a3e2-3c96aec5e4c6",
   "metadata": {},
   "outputs": [
    {
     "name": "stderr",
     "output_type": "stream",
     "text": [
      "/tmp/jobs/efiguerola/9960593/ipykernel_1577070/2686326275.py:1: FutureWarning: The default of observed=False is deprecated and will be changed to True in a future version of pandas. Pass observed=False to retain current behavior or observed=True to adopt the future default and silence this warning.\n",
      "  mel_lung_cl_df2.groupby('_merge').size()\n"
     ]
    },
    {
     "data": {
      "text/plain": [
       "_merge\n",
       "left_only     1062271\n",
       "right_only      19499\n",
       "both                2\n",
       "dtype: int64"
      ]
     },
     "execution_count": 14,
     "metadata": {},
     "output_type": "execute_result"
    }
   ],
   "source": [
    "mel_lung_cl_df2.groupby('_merge').size()"
   ]
  },
  {
   "cell_type": "code",
   "execution_count": 15,
   "id": "b1008408-187a-446d-9a73-85c5b8cb2cc9",
   "metadata": {},
   "outputs": [
    {
     "name": "stderr",
     "output_type": "stream",
     "text": [
      "/tmp/jobs/efiguerola/9960593/ipykernel_1577070/3919453321.py:1: FutureWarning: The default of observed=False is deprecated and will be changed to True in a future version of pandas. Pass observed=False to retain current behavior or observed=True to adopt the future default and silence this warning.\n",
      "  common_cl2.groupby('_merge').size()\n"
     ]
    },
    {
     "data": {
      "text/plain": [
       "_merge\n",
       "left_only     0\n",
       "right_only    0\n",
       "both          1\n",
       "dtype: int64"
      ]
     },
     "execution_count": 15,
     "metadata": {},
     "output_type": "execute_result"
    }
   ],
   "source": [
    "common_cl2.groupby('_merge').size()"
   ]
  },
  {
   "cell_type": "markdown",
   "id": "0af30bd4-ec25-4101-85d6-8827a604f953",
   "metadata": {},
   "source": [
    "### Venn diagrams from inner merge"
   ]
  },
  {
   "cell_type": "code",
   "execution_count": 16,
   "id": "88b63527-07b6-4531-98cd-450b1cd0e452",
   "metadata": {},
   "outputs": [],
   "source": [
    "# Check dimensions of these lists of mutations\n",
    "len(mel_clmut_df)\n",
    "len(sar_clmut_df)\n",
    "len(lung_clmut_df)\n",
    "len(common_cl_df)\n",
    "# Convert mutations to lists:\n",
    "\n",
    "mel_clmut_df= mel_clmut_df['mut'].tolist()\n",
    "sar_clmut_df= sar_clmut_df['mut'].tolist()\n",
    "lung_clmut_df= lung_clmut_df['mut'].tolist()"
   ]
  },
  {
   "cell_type": "code",
   "execution_count": 17,
   "id": "78302be5-eecf-4446-a95c-7a4750c1ca9e",
   "metadata": {},
   "outputs": [],
   "source": [
    "set_mel2 = set(mel_clmut_df)\n",
    "set_sar2 = set(sar_clmut_df)\n",
    "set_lung2 = set(lung_clmut_df)"
   ]
  },
  {
   "cell_type": "code",
   "execution_count": 18,
   "id": "f6fa0805-93cd-4158-bb63-c480b12695bb",
   "metadata": {},
   "outputs": [
    {
     "data": {
      "text/plain": [
       "Text(0.5, 1.0, 'Clonal mutation comparison between samples')"
      ]
     },
     "execution_count": 18,
     "metadata": {},
     "output_type": "execute_result"
    },
    {
     "data": {
      "image/png": "[encoded data removed]",
      "text/plain": [
       "<Figure size 640x480 with 1 Axes>"
      ]
     },
     "metadata": {},
     "output_type": "display_data"
    }
   ],
   "source": [
    "venn3([set_mel2,set_sar2, set_lung2],set_labels=['Melanoma','Sarcoma','Lung'], set_colors=(\"blue\", \"red\", \"green\"))\n",
    "plt.title('Clonal mutation comparison between samples')"
   ]
  },
  {
   "cell_type": "code",
   "execution_count": 19,
   "id": "ecf164e0-9a39-4d29-b887-7f44cf652f20",
   "metadata": {},
   "outputs": [],
   "source": [
    "# Obtain the list of mutations shared between samples\n",
    "mel_sar_list =set_mel2.intersection(set_sar2) \n",
    "sar_lung_list = set_sar2.intersection(set_lung2)\n",
    "mel_lung_list = set_mel2.intersection(set_lung2)\n",
    "mel_sar_lung_list = mel_sar_list.intersection(set_lung2)"
   ]
  },
  {
   "cell_type": "code",
   "execution_count": 20,
   "id": "a0eac581-43bd-477a-bf0b-6e986953a0a3",
   "metadata": {},
   "outputs": [
    {
     "name": "stdout",
     "output_type": "stream",
     "text": [
      "{'chr2_223246091_G_A'}\n"
     ]
    }
   ],
   "source": [
    "print(mel_sar_lung_list)"
   ]
  },
  {
   "cell_type": "code",
   "execution_count": 21,
   "id": "9eead8c0-d79b-4a33-99bc-2cf1908f6699",
   "metadata": {},
   "outputs": [],
   "source": [
    "# Since there is one common mutation in all samples, we should substract this mutation to samples\n",
    "mel_sar_number = len(mel_sar_list) - len(common_cl2)\n",
    "sar_lung_number = len(sar_lung_list) - len(common_cl2)\n",
    "mel_lung_number = len(mel_lung_list)- len(common_cl2)\n",
    "common_number = len(common_cl2)\n",
    "\n",
    "# Safe in a new variable the unique mutations for each sample\n",
    "sar_only_number = len(sar_clmut_df) - common_number - sar_lung_number\n",
    "mel_only_number = len(mel_clmut_df) - common_number - mel_lung_number\n",
    "lung_only_number = len(lung_clmut_df) - common_number - sar_lung_number - mel_lung_number"
   ]
  },
  {
   "cell_type": "code",
   "execution_count": 22,
   "id": "6786ea9b-f27e-4941-8041-350c6372ed0f",
   "metadata": {},
   "outputs": [
    {
     "name": "stdout",
     "output_type": "stream",
     "text": [
      "Exclusive common mutations in sarcoma-melanoma samples: 0\n",
      "Exclusive common mutations in sarcoma-lung samples: 17964\n",
      "Exclusive common mutations in melanoma-lung samples: 1\n",
      "Exclusive common mutations in melanoma-sarcoma-lung samples: 1\n"
     ]
    }
   ],
   "source": [
    "print('Exclusive common mutations in sarcoma-melanoma samples:',mel_sar_number)\n",
    "print('Exclusive common mutations in sarcoma-lung samples:', sar_lung_number)\n",
    "print('Exclusive common mutations in melanoma-lung samples:', mel_lung_number)\n",
    "print('Exclusive common mutations in melanoma-sarcoma-lung samples:',common_number)"
   ]
  },
  {
   "cell_type": "code",
   "execution_count": 23,
   "id": "872a2998-999b-430f-a8e1-b53ad97a97f0",
   "metadata": {},
   "outputs": [
    {
     "name": "stdout",
     "output_type": "stream",
     "text": [
      "Numbers for Melanoma are correct\n",
      "Numbers for Sarcoma are correct\n",
      "Numbers for Lung are correct\n"
     ]
    }
   ],
   "source": [
    "# Check if each value is correct in each sample\n",
    "if len(mel_clmut_df) == mel_sar_number + common_number + mel_only_number + mel_lung_number:\n",
    "    print('Numbers for Melanoma are correct')\n",
    "else:\n",
    "    print('Error in Melanoma values')\n",
    "\n",
    "if len(sar_clmut_df) == sar_lung_number + common_number + sar_only_number + mel_sar_number:\n",
    "    print('Numbers for Sarcoma are correct')\n",
    "else:\n",
    "    print('Error in Sarcoma values')\n",
    "\n",
    "if len(lung_clmut_df) == sar_lung_number + common_number + lung_only_number + mel_lung_number:\n",
    "    print('Numbers for Lung are correct')\n",
    "else:\n",
    "    print('Error in Lung values')\n"
   ]
  },
  {
   "cell_type": "markdown",
   "id": "e3bc01f6-145f-4675-aedf-4cd1efae2a14",
   "metadata": {},
   "source": [
    "## 2. CONSTRUCTION OF THE PHILOGENETIC TREE"
   ]
  },
  {
   "cell_type": "code",
   "execution_count": 24,
   "id": "daafa4fe-d583-4e91-beb7-44bbda0b323a",
   "metadata": {},
   "outputs": [],
   "source": [
    "import numpy as np\n",
    "import matplotlib.pyplot as plt\n",
    "import seaborn as sns\n",
    "%matplotlib inline\n",
    "\n",
    "import numpy as np\n",
    "from scipy.cluster import hierarchy\n",
    "import matplotlib.pyplot as plt"
   ]
  },
  {
   "cell_type": "code",
   "execution_count": 25,
   "id": "4db98776-f409-4504-b9b4-8bbcdbb6807d",
   "metadata": {},
   "outputs": [
    {
     "data": {
      "text/plain": [
       "(-1062271, -1, -17964, -1630, -1535)"
      ]
     },
     "execution_count": 25,
     "metadata": {},
     "output_type": "execute_result"
    }
   ],
   "source": [
    "-mel_only_number, -common_number, -sar_lung_number, -sar_only_number, -lung_only_number"
   ]
  },
  {
   "cell_type": "code",
   "execution_count": 26,
   "id": "10c8592c-429c-48a6-92f6-37ce927035aa",
   "metadata": {},
   "outputs": [
    {
     "data": {
      "image/png": "[encoded data removed]",
      "text/plain": [
       "<Figure size 640x480 with 1 Axes>"
      ]
     },
     "metadata": {},
     "output_type": "display_data"
    }
   ],
   "source": [
    "# Given x and y data\n",
    "x1 = [0,0,0]\n",
    "y1 = [0, mel_only_number,0]\n",
    "\n",
    "x2 = [0,1,1,2]\n",
    "y2 = [mel_only_number, mel_only_number, mel_only_number+common_number,mel_only_number]\n",
    "x3 = [2, 2,1,3] \n",
    "y3 = [mel_only_number, sar_lung_number,sar_lung_number,sar_lung_number]\n",
    "x4 = [1,1] \n",
    "y4 = [sar_only_number,sar_lung_number]\n",
    "x5 = [3,3]\n",
    "y5 = [sar_lung_number, lung_only_number]\n",
    "      \n",
    "# line colour is blue \n",
    "plt.plot(x1,y1, color = 'dodgerblue') \n",
    "\n",
    "# line colour is green \n",
    "plt.plot(x2,y2, color = 'black') \n",
    "\n",
    "# line colour is green \n",
    "plt.plot(x3,y3, color = 'coral' ) \n",
    "\n",
    "# line colour is green \n",
    "plt.plot(x4,y4, color = 'purple') \n",
    "\n",
    "# line colour is green \n",
    "plt.plot(x5,y5, color = 'green', ) \n",
    "\n",
    "# # line colour is green \n",
    "# plt.plot(x6,y6, color = 'dodgerblue', linestyle = '--') \n",
    "plt.yscale('log')\n",
    "  \n",
    "# # line colour is red \n",
    "# plt.axhline(y = 2, color = 'r', linestyle = 'dashed')     \n",
    "\n",
    "# # plt.plot(x,y)\n",
    "# plt.gca()\n",
    "\n",
    "plt.xticks(visible=False)\n",
    "\n",
    "plt.yticks(fontsize=12)\n",
    "plt.text(0.35, 100000, mel_only_number, horizontalalignment='center', verticalalignment='center', color='dodgerblue',fontsize=12, weight='bold')\n",
    "plt.text(1, 1230000, common_number, horizontalalignment='center', verticalalignment='center', color='black',fontsize=12, weight='bold')\n",
    "plt.text(2.24, 100000, sar_lung_number, horizontalalignment='center', verticalalignment='center', color='coral',fontsize=12, weight='bold')\n",
    "plt.text(0.8, 10000, sar_only_number, horizontalalignment='center', verticalalignment='center', color='purple',fontsize=12, weight='bold')\n",
    "plt.text(2.8, 10000, lung_only_number, horizontalalignment='center', verticalalignment='center', color='green',fontsize=12, weight='bold')\n",
    "\n",
    "plt.show()"
   ]
  },
  {
   "cell_type": "code",
   "execution_count": 27,
   "id": "2b8fc4a6-0e87-4933-81d3-a151c4ad95a9",
   "metadata": {},
   "outputs": [],
   "source": [
    "# # Import the list of common mutations (clonal and subclonal) in the compendium of the three callers in each tumor\n",
    "# mel_mut_df = pd.read_csv('/workspace/projects/sjd_melos/MAFs_tables/Mel_List_common_mutations_callers.tsv.gz', sep=\"\\t\", header=0)\n",
    "# sar_mut_df = pd.read_csv('/workspace/projects/sjd_melos/MAFs_tables/Sar_List_common_mutations_callers.tsv.gz', sep=\"\\t\", header=0)\n",
    "# lung_mut_df = pd.read_csv('/workspace/projects/sjd_melos/MAFs_tables/Lung_List_common_mutations_callers.tsv.gz', sep=\"\\t\", header=0)"
   ]
  },
  {
   "cell_type": "code",
   "execution_count": 28,
   "id": "2780d161-68ca-4ff1-8813-1afd184576f5",
   "metadata": {},
   "outputs": [],
   "source": [
    "# mel_mut_df.shape + sar_mut_df.shape + lung_mut_df.shape"
   ]
  },
  {
   "cell_type": "markdown",
   "id": "4a7a881f-8a5c-48cf-87c5-43ae61341d87",
   "metadata": {},
   "source": [
    "## 3. CALCULATE % OF MUTATION REDUCTION UPON CLONAL MUTATION FILTER"
   ]
  },
  {
   "cell_type": "code",
   "execution_count": 29,
   "id": "17aaa6ba-f9a6-4e20-b923-c1defb185678",
   "metadata": {},
   "outputs": [
    {
     "name": "stdout",
     "output_type": "stream",
     "text": [
      "1123957.6666666667 24603.0 22512.333333333332\n"
     ]
    }
   ],
   "source": [
    "# Calculate the mean mutation rate in each sample with the three callers\n",
    "mean_mel = (1079488 + 1279052 + 1013333)/3\n",
    "mean_sar = (25860 + 26140 + 21809)/3\n",
    "mean_lung = (23011 + 24072 + 20454)/3 \n",
    "print(mean_mel, mean_sar, mean_lung)"
   ]
  },
  {
   "cell_type": "code",
   "execution_count": 30,
   "id": "e5a8c02c-698d-4625-9165-ffca239ec81e",
   "metadata": {},
   "outputs": [
    {
     "name": "stdout",
     "output_type": "stream",
     "text": [
      "61684.666666666744 308.0 387.3333333333321\n"
     ]
    }
   ],
   "source": [
    "# Calculate the number of targets that are reduced upon caller filter (at least mutation has to be in 2 of the 3 callers)\n",
    "mel_red = mean_mel - 1062273\n",
    "sar_red = mean_sar - 24295\n",
    "lung_red = mean_lung - 22125\n",
    "print(mel_red, sar_red, lung_red)"
   ]
  },
  {
   "cell_type": "code",
   "execution_count": 31,
   "id": "2743a23e-e288-4b2d-9d72-a94e04343a53",
   "metadata": {},
   "outputs": [],
   "source": [
    "percent_mel = mel_red * 100 /mean_mel\n",
    "percent_sar = sar_red * 100 / mean_sar\n",
    "percent_lung = lung_red * 100 / mean_lung"
   ]
  },
  {
   "cell_type": "code",
   "execution_count": 32,
   "id": "a811e3e1-a947-455e-ba9f-3f4fc65a9630",
   "metadata": {},
   "outputs": [],
   "source": [
    "from decimal import Decimal\n",
    "import decimal\n",
    "\n",
    "percent_mel = round(Decimal(percent_mel), 3)\n",
    "percent_sar = round(Decimal(percent_sar),3)\n",
    "percent_lung = round(Decimal(percent_lung),3)  "
   ]
  },
  {
   "cell_type": "code",
   "execution_count": 33,
   "id": "a959e54d-ff59-4bd4-b3d5-2b393e3ac376",
   "metadata": {},
   "outputs": [
    {
     "name": "stdout",
     "output_type": "stream",
     "text": [
      "5.488 1.252 1.721\n"
     ]
    }
   ],
   "source": [
    "print(percent_mel, percent_sar, percent_lung)"
   ]
  }
 ],
 "metadata": {
  "kernelspec": {
   "display_name": "melos",
   "language": "python",
   "name": "melos"
  },
  "language_info": {
   "codemirror_mode": {
    "name": "ipython",
    "version": 3
   },
   "file_extension": ".py",
   "mimetype": "text/x-python",
   "name": "python",
   "nbconvert_exporter": "python",
   "pygments_lexer": "ipython3",
   "version": "3.11.5"
  }
 },
 "nbformat": 4,
 "nbformat_minor": 5
}
