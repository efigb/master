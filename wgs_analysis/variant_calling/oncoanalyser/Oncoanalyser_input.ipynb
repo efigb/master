{
 "cells": [
  {
   "cell_type": "markdown",
   "id": "c519e404-a3cf-4950-a48e-a452f86a1fd4",
   "metadata": {},
   "source": [
    "# CREATE A CSV FILE FOR ONCOANALYSER PIPELINE so it contains this structure: "
   ]
  },
  {
   "cell_type": "raw",
   "id": "5b597e7e-22ce-484c-847c-16d11fcfa814",
   "metadata": {},
   "source": [
    "group_id,subject_id,sample_id,sample_type,sequence_type,filetype,filepath\n",
    "patient1_grp1,patient1,AB9766,normal,dna,bam,/workspace/nobackup/sjd_seq/melos/sarek_results/preprocessing/recalibrated/AB9766/AB9766.recal.bam\n",
    "patient1_grp1,patient1,AB9767,tumor,dna,bam,/workspace/nobackup/sjd_seq/melos/sarek_results/preprocessing/recalibrated/AB9767/AB9767.recal.bam\n",
    "patient1_grp2,patient1,AB9766,normal,dna,bam,/workspace/nobackup/sjd_seq/melos/sarek_results/preprocessing/recalibrated/AB9766/AB9766.recal.bam\n",
    "patient1_grp2,patient1,AX4967,tumor,dna,bam,/workspace/nobackup/sjd_seq/melos/sarek_results/preprocessing/recalibrated/AX4967/AX4967.recal.bam"
   ]
  },
  {
   "cell_type": "markdown",
   "id": "00d069f4-04d1-4793-805c-5d5046bc0555",
   "metadata": {},
   "source": [
    "## 1) For the melanoma and sarcoma samples"
   ]
  },
  {
   "cell_type": "code",
   "execution_count": 5,
   "id": "fe0448a4-e5db-4725-b429-354538f89f25",
   "metadata": {},
   "outputs": [],
   "source": [
    "bam_blood = \"/workspace/projects/sjd_melos/var_call_output/sarek_results/preprocessing/recalibrated/AB9766/AB9766.recal.bam\"\n",
    "bam_mel = \"/workspace/projects/sjd_melos/var_call_output/sarek_results/preprocessing/recalibrated/AB9767/AB9767.recal.bam\"\n",
    "bam_sar = \"/workspace/projects/sjd_melos/var_call_output/sarek_results/preprocessing/recalibrated/AX4967/AX4967.recal.bam\"\n",
    "import pandas as pd"
   ]
  },
  {
   "cell_type": "code",
   "execution_count": 4,
   "id": "ad7de396-e20f-4e40-b1db-153b32fb0e77",
   "metadata": {},
   "outputs": [
    {
     "data": {
      "text/html": [
       "<div>\n",
       "<style scoped>\n",
       "    .dataframe tbody tr th:only-of-type {\n",
       "        vertical-align: middle;\n",
       "    }\n",
       "\n",
       "    .dataframe tbody tr th {\n",
       "        vertical-align: top;\n",
       "    }\n",
       "\n",
       "    .dataframe thead th {\n",
       "        text-align: right;\n",
       "    }\n",
       "</style>\n",
       "<table border=\"1\" class=\"dataframe\">\n",
       "  <thead>\n",
       "    <tr style=\"text-align: right;\">\n",
       "      <th></th>\n",
       "      <th>group_id</th>\n",
       "      <th>subject_id</th>\n",
       "      <th>sample_id</th>\n",
       "      <th>sample_type</th>\n",
       "      <th>sequence_type</th>\n",
       "      <th>filetype</th>\n",
       "      <th>filepath</th>\n",
       "    </tr>\n",
       "  </thead>\n",
       "  <tbody>\n",
       "    <tr>\n",
       "      <th>0</th>\n",
       "      <td>patient1_grp1</td>\n",
       "      <td>patient1</td>\n",
       "      <td>AB9766</td>\n",
       "      <td>normal</td>\n",
       "      <td>dna</td>\n",
       "      <td>bam</td>\n",
       "      <td>/workspace/projects/sjd_melos/var_call_output/...</td>\n",
       "    </tr>\n",
       "    <tr>\n",
       "      <th>1</th>\n",
       "      <td>patient1_grp1</td>\n",
       "      <td>patient1</td>\n",
       "      <td>AB9767</td>\n",
       "      <td>tumor</td>\n",
       "      <td>dna</td>\n",
       "      <td>bam</td>\n",
       "      <td>/workspace/projects/sjd_melos/var_call_output/...</td>\n",
       "    </tr>\n",
       "    <tr>\n",
       "      <th>2</th>\n",
       "      <td>patient1_grp2</td>\n",
       "      <td>patient1</td>\n",
       "      <td>AB9766</td>\n",
       "      <td>normal</td>\n",
       "      <td>dna</td>\n",
       "      <td>bam</td>\n",
       "      <td>/workspace/projects/sjd_melos/var_call_output/...</td>\n",
       "    </tr>\n",
       "    <tr>\n",
       "      <th>3</th>\n",
       "      <td>patient1_grp2</td>\n",
       "      <td>patient1</td>\n",
       "      <td>AX4967</td>\n",
       "      <td>tumor</td>\n",
       "      <td>dna</td>\n",
       "      <td>bam</td>\n",
       "      <td>/workspace/projects/sjd_melos/var_call_output/...</td>\n",
       "    </tr>\n",
       "  </tbody>\n",
       "</table>\n",
       "</div>"
      ],
      "text/plain": [
       "        group_id subject_id sample_id sample_type sequence_type filetype  \\\n",
       "0  patient1_grp1   patient1    AB9766      normal           dna      bam   \n",
       "1  patient1_grp1   patient1    AB9767       tumor           dna      bam   \n",
       "2  patient1_grp2   patient1    AB9766      normal           dna      bam   \n",
       "3  patient1_grp2   patient1    AX4967       tumor           dna      bam   \n",
       "\n",
       "                                            filepath  \n",
       "0  /workspace/projects/sjd_melos/var_call_output/...  \n",
       "1  /workspace/projects/sjd_melos/var_call_output/...  \n",
       "2  /workspace/projects/sjd_melos/var_call_output/...  \n",
       "3  /workspace/projects/sjd_melos/var_call_output/...  "
      ]
     },
     "execution_count": 4,
     "metadata": {},
     "output_type": "execute_result"
    }
   ],
   "source": [
    "data = [['patient1_grp1','patient1','AB9766','normal', 'dna', 'bam', bam_blood], ['patient1_grp1','patient1','AB9767','tumor', 'dna', 'bam', bam_mel], ['patient1_grp2','patient1','AB9766','normal', 'dna', 'bam', bam_blood],['patient1_grp2','patient1','AX4967','tumor', 'dna', 'bam', bam_sar]]\n",
    "\n",
    "input_df = pd.DataFrame(data, columns=['group_id', 'subject_id','sample_id','sample_type','sequence_type','filetype','filepath'])\n",
    "input_df"
   ]
  },
  {
   "cell_type": "code",
   "execution_count": null,
   "id": "68accf66-2a15-4b0c-827a-1f0b5af08511",
   "metadata": {},
   "outputs": [],
   "source": [
    "# Export to CSV\n",
    "input_df.to_csv('/workspace/nobackup/sjd_seq/melos/oncoanalyser_results/input.csv',index=False) "
   ]
  },
  {
   "cell_type": "markdown",
   "id": "122cf1eb-a0a0-4555-9cc9-88b70bfc1f41",
   "metadata": {},
   "source": [
    "## 2) For the lung sample"
   ]
  },
  {
   "cell_type": "code",
   "execution_count": 1,
   "id": "2e906c75-4b32-4085-91d8-e701215da52e",
   "metadata": {},
   "outputs": [],
   "source": [
    "bam_lung = \"/workspace/projects/sjd_melos/var_call_output/sarek_results/preprocessing/recalibrated/AX4941/AX4941.recal.bam\""
   ]
  },
  {
   "cell_type": "code",
   "execution_count": 6,
   "id": "26ece111-e4be-4d60-9a0b-d88bc9dd0ab2",
   "metadata": {},
   "outputs": [
    {
     "data": {
      "text/html": [
       "<div>\n",
       "<style scoped>\n",
       "    .dataframe tbody tr th:only-of-type {\n",
       "        vertical-align: middle;\n",
       "    }\n",
       "\n",
       "    .dataframe tbody tr th {\n",
       "        vertical-align: top;\n",
       "    }\n",
       "\n",
       "    .dataframe thead th {\n",
       "        text-align: right;\n",
       "    }\n",
       "</style>\n",
       "<table border=\"1\" class=\"dataframe\">\n",
       "  <thead>\n",
       "    <tr style=\"text-align: right;\">\n",
       "      <th></th>\n",
       "      <th>group_id</th>\n",
       "      <th>subject_id</th>\n",
       "      <th>sample_id</th>\n",
       "      <th>sample_type</th>\n",
       "      <th>sequence_type</th>\n",
       "      <th>filetype</th>\n",
       "      <th>filepath</th>\n",
       "    </tr>\n",
       "  </thead>\n",
       "  <tbody>\n",
       "    <tr>\n",
       "      <th>0</th>\n",
       "      <td>patient1_grp3</td>\n",
       "      <td>patient1</td>\n",
       "      <td>AB9766</td>\n",
       "      <td>normal</td>\n",
       "      <td>dna</td>\n",
       "      <td>bam</td>\n",
       "      <td>/workspace/projects/sjd_melos/var_call_output/...</td>\n",
       "    </tr>\n",
       "    <tr>\n",
       "      <th>1</th>\n",
       "      <td>patient1_grp3</td>\n",
       "      <td>patient1</td>\n",
       "      <td>AX4941</td>\n",
       "      <td>tumor</td>\n",
       "      <td>dna</td>\n",
       "      <td>bam</td>\n",
       "      <td>/workspace/projects/sjd_melos/var_call_output/...</td>\n",
       "    </tr>\n",
       "  </tbody>\n",
       "</table>\n",
       "</div>"
      ],
      "text/plain": [
       "        group_id subject_id sample_id sample_type sequence_type filetype  \\\n",
       "0  patient1_grp3   patient1    AB9766      normal           dna      bam   \n",
       "1  patient1_grp3   patient1    AX4941       tumor           dna      bam   \n",
       "\n",
       "                                            filepath  \n",
       "0  /workspace/projects/sjd_melos/var_call_output/...  \n",
       "1  /workspace/projects/sjd_melos/var_call_output/...  "
      ]
     },
     "execution_count": 6,
     "metadata": {},
     "output_type": "execute_result"
    }
   ],
   "source": [
    "data2 = [['patient1_grp3','patient1','AB9766','normal', 'dna', 'bam', bam_blood], ['patient1_grp3','patient1','AX4941','tumor', 'dna', 'bam', bam_lung]]\n",
    "\n",
    "input2_df = pd.DataFrame(data2, columns=['group_id', 'subject_id','sample_id','sample_type','sequence_type','filetype','filepath'])\n",
    "input2_df"
   ]
  },
  {
   "cell_type": "code",
   "execution_count": 9,
   "id": "53fe0626-4729-47ed-a3ab-1770add32934",
   "metadata": {},
   "outputs": [],
   "source": [
    "# Export to CSV\n",
    "input2_df.to_csv('/workspace/nobackup/melups/input_2.csv',index=False) "
   ]
  }
 ],
 "metadata": {
  "kernelspec": {
   "display_name": "melos",
   "language": "python",
   "name": "melos"
  },
  "language_info": {
   "codemirror_mode": {
    "name": "ipython",
    "version": 3
   },
   "file_extension": ".py",
   "mimetype": "text/x-python",
   "name": "python",
   "nbconvert_exporter": "python",
   "pygments_lexer": "ipython3",
   "version": "3.11.5"
  }
 },
 "nbformat": 4,
 "nbformat_minor": 5
}
