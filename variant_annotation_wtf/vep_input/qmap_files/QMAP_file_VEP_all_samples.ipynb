{
 "cells": [
  {
   "cell_type": "markdown",
   "id": "e3cc6a05-b980-4430-8117-d3e8427d8808",
   "metadata": {},
   "source": [
    "# Create QMAP file from all chromosomes in samples"
   ]
  },
  {
   "cell_type": "code",
   "execution_count": 1,
   "id": "eff53a68-9c00-4083-9b08-06f3f58788f8",
   "metadata": {},
   "outputs": [],
   "source": [
    "## With the clonal mutations that we have obtained "
   ]
  },
  {
   "cell_type": "code",
   "execution_count": 2,
   "id": "d8d4fd04-b6b4-4cd3-b351-41bf1960bdae",
   "metadata": {},
   "outputs": [],
   "source": [
    "# Create a file with this information for all samples"
   ]
  },
  {
   "cell_type": "raw",
   "id": "fc1df405-9ed5-4f3d-a574-8f4af1276959",
   "metadata": {},
   "source": [
    "[pre]\n",
    "[params]\n",
    "cores = 1\n",
    "memory = 8G\n",
    "[jobs]\n",
    "\n",
    "/workspace/datasets/vep/homo_sapiens/ensembl-vep_111.0.sif vep --dir /workspace/datasets/vep/ -i /workspace/projects/sjd_melos/vep/vep_input_files/melanoma/chr1.tsv.gz --format vcf -o /workspace/projects/sjd_melos/vep/vep_output_files/melanoma/chr1.tsv -tab --assembly GRCh38 --no_stats --cache --symbol --protein --canonical --mane --offline --af_1kg --custom /workspace/datasets/gnomad/data/v4.0/hg38/gnomad.genomes.v4.0.sites.chr1.vcf.bgz,gnomADg,vcf,exact,0,AF,NFE"
   ]
  },
  {
   "cell_type": "raw",
   "id": "824208eb-9f0b-44b1-88ab-5885a9ea769e",
   "metadata": {},
   "source": [
    "!!! Note that qmap has to be run with an interactive and that jobs do NOT include te singularity exec command on each job because it has been configured as a global variable in .bashrc "
   ]
  },
  {
   "cell_type": "code",
   "execution_count": 3,
   "id": "8c269282-6904-486f-b901-bc0636ebedf4",
   "metadata": {},
   "outputs": [
    {
     "data": {
      "text/plain": [
       "['chr1.tsv.gz',\n",
       " 'chr2.tsv.gz',\n",
       " 'chr3.tsv.gz',\n",
       " 'chr4.tsv.gz',\n",
       " 'chr5.tsv.gz',\n",
       " 'chr6.tsv.gz',\n",
       " 'chr7.tsv.gz',\n",
       " 'chr8.tsv.gz',\n",
       " 'chr9.tsv.gz',\n",
       " 'chr10.tsv.gz',\n",
       " 'chr11.tsv.gz',\n",
       " 'chr12.tsv.gz',\n",
       " 'chr13.tsv.gz',\n",
       " 'chr14.tsv.gz',\n",
       " 'chr15.tsv.gz',\n",
       " 'chr16.tsv.gz',\n",
       " 'chr17.tsv.gz',\n",
       " 'chr18.tsv.gz',\n",
       " 'chr19.tsv.gz',\n",
       " 'chr20.tsv.gz',\n",
       " 'chr21.tsv.gz',\n",
       " 'chr22.tsv.gz',\n",
       " 'chrX.tsv.gz',\n",
       " 'chrY.tsv.gz']"
      ]
     },
     "execution_count": 3,
     "metadata": {},
     "output_type": "execute_result"
    }
   ],
   "source": [
    "import os, sys\n",
    "\n",
    "# Paths from VEP input directories\n",
    "path_germ = \"/workspace/projects/sjd_melos/vep/vep_input_files/germline/\"\n",
    "path_mel = \"/workspace/projects/sjd_melos/vep/vep_input_files/melanoma/\"\n",
    "path_sar = \"/workspace/projects/sjd_melos/vep/vep_input_files/sarcoma/\"\n",
    "path_lung = \"/workspace/projects/sjd_melos/vep/vep_input_files/lung/\"\n",
    "\n",
    "# listdir from os permits displaying all files from a specific directory\n",
    "files_germ = os.listdir(path_germ)\n",
    "files_mel = os.listdir(path_mel)\n",
    "files_sar = os.listdir(path_sar)\n",
    "files_lung = os.listdir(path_lung)\n",
    "\n",
    "files_sar # show one of the directories"
   ]
  },
  {
   "cell_type": "code",
   "execution_count": 4,
   "id": "63ff5667-2edb-4344-bc49-170515753d45",
   "metadata": {},
   "outputs": [],
   "source": [
    "# Output path to be created with VEP\n",
    "path_germ_out = \"/workspace/projects/sjd_melos/vep/vep_output_files/germline/\"\n",
    "path_mel_out = \"/workspace/projects/sjd_melos/vep/vep_output_files/melanoma/\"\n",
    "path_sar_out = \"/workspace/projects/sjd_melos/vep/vep_output_files/sarcoma/\"\n",
    "path_lung_out = \"/workspace/projects/sjd_melos/vep/vep_output_files/lung/\""
   ]
  },
  {
   "cell_type": "code",
   "execution_count": 5,
   "id": "8b71002f-6a0c-4ee6-b534-5f9e3a9f7a45",
   "metadata": {},
   "outputs": [],
   "source": [
    "# Parameters to be aggregated (check in: https://www.ensembl.org/info/docs/tools/vep/script/vep_options.html) \n",
    "\n",
    "params = \" -tab --assembly GRCh38 --no_stats --cache --symbol --protein --canonical --mane --offline --af_1kg \"\n",
    "vep_dir = \"/workspace/datasets/vep/\"\n",
    "gnomad = \"--custom /workspace/datasets/gnomad/data/v4.0/hg38/gnomad.genomes.v4.0.sites.\"\n",
    "params2 = \" --format vcf\"\n",
    "\n",
    "command = \"/workspace/datasets/vep/homo_sapiens/ensembl-vep_111.0.sif vep \""
   ]
  },
  {
   "cell_type": "code",
   "execution_count": 6,
   "id": "c6a64ac4-e265-49dd-9ed4-94984ebc0aef",
   "metadata": {},
   "outputs": [
    {
     "data": {
      "text/plain": [
       "['chr1.tsv.gz',\n",
       " 'chr2.tsv.gz',\n",
       " 'chr3.tsv.gz',\n",
       " 'chr4.tsv.gz',\n",
       " 'chr5.tsv.gz',\n",
       " 'chr6.tsv.gz',\n",
       " 'chr7.tsv.gz',\n",
       " 'chr8.tsv.gz',\n",
       " 'chr9.tsv.gz',\n",
       " 'chr10.tsv.gz',\n",
       " 'chr11.tsv.gz',\n",
       " 'chr12.tsv.gz',\n",
       " 'chr13.tsv.gz',\n",
       " 'chr14.tsv.gz',\n",
       " 'chr15.tsv.gz',\n",
       " 'chr16.tsv.gz',\n",
       " 'chr17.tsv.gz',\n",
       " 'chr18.tsv.gz',\n",
       " 'chr19.tsv.gz',\n",
       " 'chr20.tsv.gz',\n",
       " 'chr21.tsv.gz',\n",
       " 'chr22.tsv.gz',\n",
       " 'chrX.tsv.gz',\n",
       " 'chrY.tsv.gz']"
      ]
     },
     "execution_count": 6,
     "metadata": {},
     "output_type": "execute_result"
    }
   ],
   "source": [
    "# Make a list of chromosomes ending with file extension\n",
    "chrom = []\n",
    "for c in range(1,23): \n",
    "    chrom.append('chr' + str(c) + '.tsv.gz')\n",
    "chrom.append('chrX' + '.tsv.gz')\n",
    "chrom.append('chrY' + '.tsv.gz')\n",
    "chrom"
   ]
  },
  {
   "cell_type": "raw",
   "id": "0ae4843f-610b-40a5-8dcd-5bc1ce381a22",
   "metadata": {},
   "source": [
    "# First prove code: \n",
    "prova = files_mel[0:2]\n",
    "serie = []\n",
    "for c in chrom: \n",
    "    if c in prova: # add elements in the serie based on chromosome file names\n",
    "        serie.append(command + str('--dir ') + vep_dir  + str(' -i ') + path_mel + c + params2 + str(' -o ') + path_mel_out + c + str ('CHANGE') + params + gnomad + c + str('.vcf.bgz') + str(',gnomADg,vcf,exact,0,AF,NFE'))\n",
    "\n",
    "# Substitute tsv.gz.vcf.bgz for vcf.bgz in the series\n",
    "serie = list(map(lambda x: x.replace(\"tsv.gz.vcf.bgz\", \"vcf.bgz\"), serie))\n",
    "serie = list(map(lambda x: x.replace(\"tsv.gzCHANGE\", \"tsv\"), serie))\n",
    "serie"
   ]
  },
  {
   "cell_type": "markdown",
   "id": "8f50fcfd-215e-4aa1-a642-859ee2818f1b",
   "metadata": {},
   "source": [
    "## Melanoma VEP input files"
   ]
  },
  {
   "cell_type": "code",
   "execution_count": 27,
   "id": "126f3879-3b5d-4c8c-807d-558b6a403eb2",
   "metadata": {},
   "outputs": [
    {
     "data": {
      "text/plain": [
       "['/workspace/datasets/vep/homo_sapiens/ensembl-vep_111.0.sif vep --dir /workspace/datasets/vep/ -i /workspace/projects/sjd_melos/vep/vep_input_files/melanoma/chr1.tsv.gz --format vcf -o /workspace/projects/sjd_melos/vep/vep_output_files/melanoma/chr1.tsv -tab --assembly GRCh38 --no_stats --cache --symbol --protein --canonical --mane --offline --af_1kg --custom /workspace/datasets/gnomad/data/v4.0/hg38/gnomad.genomes.v4.0.sites.chr1.vcf.bgz,gnomADg,vcf,exact,0,AF,NFE',\n",
       " '/workspace/datasets/vep/homo_sapiens/ensembl-vep_111.0.sif vep --dir /workspace/datasets/vep/ -i /workspace/projects/sjd_melos/vep/vep_input_files/melanoma/chr2.tsv.gz --format vcf -o /workspace/projects/sjd_melos/vep/vep_output_files/melanoma/chr2.tsv -tab --assembly GRCh38 --no_stats --cache --symbol --protein --canonical --mane --offline --af_1kg --custom /workspace/datasets/gnomad/data/v4.0/hg38/gnomad.genomes.v4.0.sites.chr2.vcf.bgz,gnomADg,vcf,exact,0,AF,NFE']"
      ]
     },
     "execution_count": 27,
     "metadata": {},
     "output_type": "execute_result"
    }
   ],
   "source": [
    "serie_mel = []\n",
    "for c in chrom: \n",
    "    if c in files_mel: # add elements in the serie based on chromosome file names\n",
    "        serie_mel.append(command + str('--dir ') + vep_dir  + str(' -i ') + path_mel + c + params2 + str(' -o ') + path_mel_out + c + str ('CHANGE') + params + gnomad + c + str('.vcf.bgz') + str(',gnomADg,vcf,exact,0,AF,NFE'))\n",
    "\n",
    "# Substitute tsv.gz.vcf.bgz for vcf.bgz in the series\n",
    "serie_mel = list(map(lambda x: x.replace(\"tsv.gz.vcf.bgz\", \"vcf.bgz\"), serie_mel))\n",
    "serie_mel = list(map(lambda x: x.replace(\"tsv.gzCHANGE\", \"tsv\"), serie_mel))\n",
    "serie_mel[0:2]"
   ]
  },
  {
   "cell_type": "code",
   "execution_count": 18,
   "id": "d696fef0-e0a5-4202-8f15-72812ea6594f",
   "metadata": {
    "scrolled": true
   },
   "outputs": [
    {
     "name": "stdout",
     "output_type": "stream",
     "text": [
      "/workspace/datasets/vep/homo_sapiens/ensembl-vep_111.0.sif vep --dir /workspace/datasets/vep/ -i /workspace/projects/sjd_melos/vep/vep_input_files/melanoma/chr1.tsv.gz --format vcf -o /workspace/projects/sjd_melos/vep/vep_output_files/melanoma/chr1.tsv -tab --assembly GRCh38 --no_stats --cache --symbol --protein --canonical --mane --offline --af_1kg --custom /workspace/datasets/gnomad/data/v4.0/hg38/gnomad.genomes.v4.0.sites.chr1.vcf.bgz,gnomADg,vcf,exact,0,AF,NFE\n",
      "/workspace/datasets/vep/homo_sapiens/ensembl-vep_111.0.sif vep --dir /workspace/datasets/vep/ -i /workspace/projects/sjd_melos/vep/vep_input_files/melanoma/chr2.tsv.gz --format vcf -o /workspace/projects/sjd_melos/vep/vep_output_files/melanoma/chr2.tsv -tab --assembly GRCh38 --no_stats --cache --symbol --protein --canonical --mane --offline --af_1kg --custom /workspace/datasets/gnomad/data/v4.0/hg38/gnomad.genomes.v4.0.sites.chr2.vcf.bgz,gnomADg,vcf,exact,0,AF,NFE\n",
      "/workspace/datasets/vep/homo_sapiens/ensembl-vep_111.0.sif vep --dir /workspace/datasets/vep/ -i /workspace/projects/sjd_melos/vep/vep_input_files/melanoma/chr3.tsv.gz --format vcf -o /workspace/projects/sjd_melos/vep/vep_output_files/melanoma/chr3.tsv -tab --assembly GRCh38 --no_stats --cache --symbol --protein --canonical --mane --offline --af_1kg --custom /workspace/datasets/gnomad/data/v4.0/hg38/gnomad.genomes.v4.0.sites.chr3.vcf.bgz,gnomADg,vcf,exact,0,AF,NFE\n",
      "/workspace/datasets/vep/homo_sapiens/ensembl-vep_111.0.sif vep --dir /workspace/datasets/vep/ -i /workspace/projects/sjd_melos/vep/vep_input_files/melanoma/chr4.tsv.gz --format vcf -o /workspace/projects/sjd_melos/vep/vep_output_files/melanoma/chr4.tsv -tab --assembly GRCh38 --no_stats --cache --symbol --protein --canonical --mane --offline --af_1kg --custom /workspace/datasets/gnomad/data/v4.0/hg38/gnomad.genomes.v4.0.sites.chr4.vcf.bgz,gnomADg,vcf,exact,0,AF,NFE\n",
      "/workspace/datasets/vep/homo_sapiens/ensembl-vep_111.0.sif vep --dir /workspace/datasets/vep/ -i /workspace/projects/sjd_melos/vep/vep_input_files/melanoma/chr5.tsv.gz --format vcf -o /workspace/projects/sjd_melos/vep/vep_output_files/melanoma/chr5.tsv -tab --assembly GRCh38 --no_stats --cache --symbol --protein --canonical --mane --offline --af_1kg --custom /workspace/datasets/gnomad/data/v4.0/hg38/gnomad.genomes.v4.0.sites.chr5.vcf.bgz,gnomADg,vcf,exact,0,AF,NFE\n",
      "/workspace/datasets/vep/homo_sapiens/ensembl-vep_111.0.sif vep --dir /workspace/datasets/vep/ -i /workspace/projects/sjd_melos/vep/vep_input_files/melanoma/chr6.tsv.gz --format vcf -o /workspace/projects/sjd_melos/vep/vep_output_files/melanoma/chr6.tsv -tab --assembly GRCh38 --no_stats --cache --symbol --protein --canonical --mane --offline --af_1kg --custom /workspace/datasets/gnomad/data/v4.0/hg38/gnomad.genomes.v4.0.sites.chr6.vcf.bgz,gnomADg,vcf,exact,0,AF,NFE\n",
      "/workspace/datasets/vep/homo_sapiens/ensembl-vep_111.0.sif vep --dir /workspace/datasets/vep/ -i /workspace/projects/sjd_melos/vep/vep_input_files/melanoma/chr7.tsv.gz --format vcf -o /workspace/projects/sjd_melos/vep/vep_output_files/melanoma/chr7.tsv -tab --assembly GRCh38 --no_stats --cache --symbol --protein --canonical --mane --offline --af_1kg --custom /workspace/datasets/gnomad/data/v4.0/hg38/gnomad.genomes.v4.0.sites.chr7.vcf.bgz,gnomADg,vcf,exact,0,AF,NFE\n",
      "/workspace/datasets/vep/homo_sapiens/ensembl-vep_111.0.sif vep --dir /workspace/datasets/vep/ -i /workspace/projects/sjd_melos/vep/vep_input_files/melanoma/chr8.tsv.gz --format vcf -o /workspace/projects/sjd_melos/vep/vep_output_files/melanoma/chr8.tsv -tab --assembly GRCh38 --no_stats --cache --symbol --protein --canonical --mane --offline --af_1kg --custom /workspace/datasets/gnomad/data/v4.0/hg38/gnomad.genomes.v4.0.sites.chr8.vcf.bgz,gnomADg,vcf,exact,0,AF,NFE\n",
      "/workspace/datasets/vep/homo_sapiens/ensembl-vep_111.0.sif vep --dir /workspace/datasets/vep/ -i /workspace/projects/sjd_melos/vep/vep_input_files/melanoma/chr9.tsv.gz --format vcf -o /workspace/projects/sjd_melos/vep/vep_output_files/melanoma/chr9.tsv -tab --assembly GRCh38 --no_stats --cache --symbol --protein --canonical --mane --offline --af_1kg --custom /workspace/datasets/gnomad/data/v4.0/hg38/gnomad.genomes.v4.0.sites.chr9.vcf.bgz,gnomADg,vcf,exact,0,AF,NFE\n",
      "/workspace/datasets/vep/homo_sapiens/ensembl-vep_111.0.sif vep --dir /workspace/datasets/vep/ -i /workspace/projects/sjd_melos/vep/vep_input_files/melanoma/chr10.tsv.gz --format vcf -o /workspace/projects/sjd_melos/vep/vep_output_files/melanoma/chr10.tsv -tab --assembly GRCh38 --no_stats --cache --symbol --protein --canonical --mane --offline --af_1kg --custom /workspace/datasets/gnomad/data/v4.0/hg38/gnomad.genomes.v4.0.sites.chr10.vcf.bgz,gnomADg,vcf,exact,0,AF,NFE\n",
      "/workspace/datasets/vep/homo_sapiens/ensembl-vep_111.0.sif vep --dir /workspace/datasets/vep/ -i /workspace/projects/sjd_melos/vep/vep_input_files/melanoma/chr11.tsv.gz --format vcf -o /workspace/projects/sjd_melos/vep/vep_output_files/melanoma/chr11.tsv -tab --assembly GRCh38 --no_stats --cache --symbol --protein --canonical --mane --offline --af_1kg --custom /workspace/datasets/gnomad/data/v4.0/hg38/gnomad.genomes.v4.0.sites.chr11.vcf.bgz,gnomADg,vcf,exact,0,AF,NFE\n",
      "/workspace/datasets/vep/homo_sapiens/ensembl-vep_111.0.sif vep --dir /workspace/datasets/vep/ -i /workspace/projects/sjd_melos/vep/vep_input_files/melanoma/chr12.tsv.gz --format vcf -o /workspace/projects/sjd_melos/vep/vep_output_files/melanoma/chr12.tsv -tab --assembly GRCh38 --no_stats --cache --symbol --protein --canonical --mane --offline --af_1kg --custom /workspace/datasets/gnomad/data/v4.0/hg38/gnomad.genomes.v4.0.sites.chr12.vcf.bgz,gnomADg,vcf,exact,0,AF,NFE\n",
      "/workspace/datasets/vep/homo_sapiens/ensembl-vep_111.0.sif vep --dir /workspace/datasets/vep/ -i /workspace/projects/sjd_melos/vep/vep_input_files/melanoma/chr13.tsv.gz --format vcf -o /workspace/projects/sjd_melos/vep/vep_output_files/melanoma/chr13.tsv -tab --assembly GRCh38 --no_stats --cache --symbol --protein --canonical --mane --offline --af_1kg --custom /workspace/datasets/gnomad/data/v4.0/hg38/gnomad.genomes.v4.0.sites.chr13.vcf.bgz,gnomADg,vcf,exact,0,AF,NFE\n",
      "/workspace/datasets/vep/homo_sapiens/ensembl-vep_111.0.sif vep --dir /workspace/datasets/vep/ -i /workspace/projects/sjd_melos/vep/vep_input_files/melanoma/chr14.tsv.gz --format vcf -o /workspace/projects/sjd_melos/vep/vep_output_files/melanoma/chr14.tsv -tab --assembly GRCh38 --no_stats --cache --symbol --protein --canonical --mane --offline --af_1kg --custom /workspace/datasets/gnomad/data/v4.0/hg38/gnomad.genomes.v4.0.sites.chr14.vcf.bgz,gnomADg,vcf,exact,0,AF,NFE\n",
      "/workspace/datasets/vep/homo_sapiens/ensembl-vep_111.0.sif vep --dir /workspace/datasets/vep/ -i /workspace/projects/sjd_melos/vep/vep_input_files/melanoma/chr15.tsv.gz --format vcf -o /workspace/projects/sjd_melos/vep/vep_output_files/melanoma/chr15.tsv -tab --assembly GRCh38 --no_stats --cache --symbol --protein --canonical --mane --offline --af_1kg --custom /workspace/datasets/gnomad/data/v4.0/hg38/gnomad.genomes.v4.0.sites.chr15.vcf.bgz,gnomADg,vcf,exact,0,AF,NFE\n",
      "/workspace/datasets/vep/homo_sapiens/ensembl-vep_111.0.sif vep --dir /workspace/datasets/vep/ -i /workspace/projects/sjd_melos/vep/vep_input_files/melanoma/chr16.tsv.gz --format vcf -o /workspace/projects/sjd_melos/vep/vep_output_files/melanoma/chr16.tsv -tab --assembly GRCh38 --no_stats --cache --symbol --protein --canonical --mane --offline --af_1kg --custom /workspace/datasets/gnomad/data/v4.0/hg38/gnomad.genomes.v4.0.sites.chr16.vcf.bgz,gnomADg,vcf,exact,0,AF,NFE\n",
      "/workspace/datasets/vep/homo_sapiens/ensembl-vep_111.0.sif vep --dir /workspace/datasets/vep/ -i /workspace/projects/sjd_melos/vep/vep_input_files/melanoma/chr17.tsv.gz --format vcf -o /workspace/projects/sjd_melos/vep/vep_output_files/melanoma/chr17.tsv -tab --assembly GRCh38 --no_stats --cache --symbol --protein --canonical --mane --offline --af_1kg --custom /workspace/datasets/gnomad/data/v4.0/hg38/gnomad.genomes.v4.0.sites.chr17.vcf.bgz,gnomADg,vcf,exact,0,AF,NFE\n",
      "/workspace/datasets/vep/homo_sapiens/ensembl-vep_111.0.sif vep --dir /workspace/datasets/vep/ -i /workspace/projects/sjd_melos/vep/vep_input_files/melanoma/chr18.tsv.gz --format vcf -o /workspace/projects/sjd_melos/vep/vep_output_files/melanoma/chr18.tsv -tab --assembly GRCh38 --no_stats --cache --symbol --protein --canonical --mane --offline --af_1kg --custom /workspace/datasets/gnomad/data/v4.0/hg38/gnomad.genomes.v4.0.sites.chr18.vcf.bgz,gnomADg,vcf,exact,0,AF,NFE\n",
      "/workspace/datasets/vep/homo_sapiens/ensembl-vep_111.0.sif vep --dir /workspace/datasets/vep/ -i /workspace/projects/sjd_melos/vep/vep_input_files/melanoma/chr19.tsv.gz --format vcf -o /workspace/projects/sjd_melos/vep/vep_output_files/melanoma/chr19.tsv -tab --assembly GRCh38 --no_stats --cache --symbol --protein --canonical --mane --offline --af_1kg --custom /workspace/datasets/gnomad/data/v4.0/hg38/gnomad.genomes.v4.0.sites.chr19.vcf.bgz,gnomADg,vcf,exact,0,AF,NFE\n",
      "/workspace/datasets/vep/homo_sapiens/ensembl-vep_111.0.sif vep --dir /workspace/datasets/vep/ -i /workspace/projects/sjd_melos/vep/vep_input_files/melanoma/chr20.tsv.gz --format vcf -o /workspace/projects/sjd_melos/vep/vep_output_files/melanoma/chr20.tsv -tab --assembly GRCh38 --no_stats --cache --symbol --protein --canonical --mane --offline --af_1kg --custom /workspace/datasets/gnomad/data/v4.0/hg38/gnomad.genomes.v4.0.sites.chr20.vcf.bgz,gnomADg,vcf,exact,0,AF,NFE\n",
      "/workspace/datasets/vep/homo_sapiens/ensembl-vep_111.0.sif vep --dir /workspace/datasets/vep/ -i /workspace/projects/sjd_melos/vep/vep_input_files/melanoma/chr21.tsv.gz --format vcf -o /workspace/projects/sjd_melos/vep/vep_output_files/melanoma/chr21.tsv -tab --assembly GRCh38 --no_stats --cache --symbol --protein --canonical --mane --offline --af_1kg --custom /workspace/datasets/gnomad/data/v4.0/hg38/gnomad.genomes.v4.0.sites.chr21.vcf.bgz,gnomADg,vcf,exact,0,AF,NFE\n",
      "/workspace/datasets/vep/homo_sapiens/ensembl-vep_111.0.sif vep --dir /workspace/datasets/vep/ -i /workspace/projects/sjd_melos/vep/vep_input_files/melanoma/chr22.tsv.gz --format vcf -o /workspace/projects/sjd_melos/vep/vep_output_files/melanoma/chr22.tsv -tab --assembly GRCh38 --no_stats --cache --symbol --protein --canonical --mane --offline --af_1kg --custom /workspace/datasets/gnomad/data/v4.0/hg38/gnomad.genomes.v4.0.sites.chr22.vcf.bgz,gnomADg,vcf,exact,0,AF,NFE\n",
      "/workspace/datasets/vep/homo_sapiens/ensembl-vep_111.0.sif vep --dir /workspace/datasets/vep/ -i /workspace/projects/sjd_melos/vep/vep_input_files/melanoma/chrX.tsv.gz --format vcf -o /workspace/projects/sjd_melos/vep/vep_output_files/melanoma/chrX.tsv -tab --assembly GRCh38 --no_stats --cache --symbol --protein --canonical --mane --offline --af_1kg --custom /workspace/datasets/gnomad/data/v4.0/hg38/gnomad.genomes.v4.0.sites.chrX.vcf.bgz,gnomADg,vcf,exact,0,AF,NFE\n",
      "/workspace/datasets/vep/homo_sapiens/ensembl-vep_111.0.sif vep --dir /workspace/datasets/vep/ -i /workspace/projects/sjd_melos/vep/vep_input_files/melanoma/chrY.tsv.gz --format vcf -o /workspace/projects/sjd_melos/vep/vep_output_files/melanoma/chrY.tsv -tab --assembly GRCh38 --no_stats --cache --symbol --protein --canonical --mane --offline --af_1kg --custom /workspace/datasets/gnomad/data/v4.0/hg38/gnomad.genomes.v4.0.sites.chrY.vcf.bgz,gnomADg,vcf,exact,0,AF,NFE\n"
     ]
    }
   ],
   "source": [
    "# To change the separator of the list from comma to \\n we can use join function that joins the elements of a string list\n",
    "mel_result = '\\n'.join(serie_mel)\n",
    "print(mel_result)"
   ]
  },
  {
   "cell_type": "markdown",
   "id": "a5dd191a-76eb-4ad2-9532-6d6f6f486c1f",
   "metadata": {},
   "source": [
    "## Sarcoma VEP input files"
   ]
  },
  {
   "cell_type": "code",
   "execution_count": 28,
   "id": "f88ca1f6-7464-4bd9-a2e9-e303866c65b3",
   "metadata": {},
   "outputs": [
    {
     "data": {
      "text/plain": [
       "['/workspace/datasets/vep/homo_sapiens/ensembl-vep_111.0.sif vep --dir /workspace/datasets/vep/ -i /workspace/projects/sjd_melos/vep/vep_input_files/sarcoma/chr1.tsv.gz --format vcf -o /workspace/projects/sjd_melos/vep/vep_output_files/sarcoma/chr1.tsv -tab --assembly GRCh38 --no_stats --cache --symbol --protein --canonical --mane --offline --af_1kg --custom /workspace/datasets/gnomad/data/v4.0/hg38/gnomad.genomes.v4.0.sites.chr1.vcf.bgz,gnomADg,vcf,exact,0,AF,NFE',\n",
       " '/workspace/datasets/vep/homo_sapiens/ensembl-vep_111.0.sif vep --dir /workspace/datasets/vep/ -i /workspace/projects/sjd_melos/vep/vep_input_files/sarcoma/chr2.tsv.gz --format vcf -o /workspace/projects/sjd_melos/vep/vep_output_files/sarcoma/chr2.tsv -tab --assembly GRCh38 --no_stats --cache --symbol --protein --canonical --mane --offline --af_1kg --custom /workspace/datasets/gnomad/data/v4.0/hg38/gnomad.genomes.v4.0.sites.chr2.vcf.bgz,gnomADg,vcf,exact,0,AF,NFE']"
      ]
     },
     "execution_count": 28,
     "metadata": {},
     "output_type": "execute_result"
    }
   ],
   "source": [
    "# Now apply the code to the sarcoma input samples\n",
    "serie_sar = []\n",
    "for c in chrom: \n",
    "    if c in files_sar: # add elements in the serie based on chromosome file names\n",
    "        serie_sar.append(command + str('--dir ') + vep_dir  + str(' -i ') + path_sar + c + params2 + str(' -o ') + path_sar_out + c + str ('CHANGE') + params + gnomad + c + str('.vcf.bgz') + str(',gnomADg,vcf,exact,0,AF,NFE'))\n",
    "\n",
    "# Substitute tsv.gz.vcf.bgz for vcf.bgz in the series\n",
    "serie_sar = list(map(lambda x: x.replace(\"tsv.gz.vcf.bgz\", \"vcf.bgz\"), serie_sar))\n",
    "serie_sar = list(map(lambda x: x.replace(\"tsv.gzCHANGE\", \"tsv\"), serie_sar))\n",
    "serie_sar[0:2]"
   ]
  },
  {
   "cell_type": "code",
   "execution_count": 21,
   "id": "e55f3a28-de1b-454c-872c-d9f54a7dcf51",
   "metadata": {
    "scrolled": true
   },
   "outputs": [
    {
     "name": "stdout",
     "output_type": "stream",
     "text": [
      "/workspace/datasets/vep/homo_sapiens/ensembl-vep_111.0.sif vep --dir /workspace/datasets/vep/ -i /workspace/projects/sjd_melos/vep/vep_input_files/sarcoma/chr1.tsv.gz --format vcf -o /workspace/projects/sjd_melos/vep/vep_output_files/sarcoma/chr1.tsv -tab --assembly GRCh38 --no_stats --cache --symbol --protein --canonical --mane --offline --af_1kg --custom /workspace/datasets/gnomad/data/v4.0/hg38/gnomad.genomes.v4.0.sites.chr1.vcf.bgz,gnomADg,vcf,exact,0,AF,NFE\n",
      "/workspace/datasets/vep/homo_sapiens/ensembl-vep_111.0.sif vep --dir /workspace/datasets/vep/ -i /workspace/projects/sjd_melos/vep/vep_input_files/sarcoma/chr2.tsv.gz --format vcf -o /workspace/projects/sjd_melos/vep/vep_output_files/sarcoma/chr2.tsv -tab --assembly GRCh38 --no_stats --cache --symbol --protein --canonical --mane --offline --af_1kg --custom /workspace/datasets/gnomad/data/v4.0/hg38/gnomad.genomes.v4.0.sites.chr2.vcf.bgz,gnomADg,vcf,exact,0,AF,NFE\n",
      "/workspace/datasets/vep/homo_sapiens/ensembl-vep_111.0.sif vep --dir /workspace/datasets/vep/ -i /workspace/projects/sjd_melos/vep/vep_input_files/sarcoma/chr3.tsv.gz --format vcf -o /workspace/projects/sjd_melos/vep/vep_output_files/sarcoma/chr3.tsv -tab --assembly GRCh38 --no_stats --cache --symbol --protein --canonical --mane --offline --af_1kg --custom /workspace/datasets/gnomad/data/v4.0/hg38/gnomad.genomes.v4.0.sites.chr3.vcf.bgz,gnomADg,vcf,exact,0,AF,NFE\n",
      "/workspace/datasets/vep/homo_sapiens/ensembl-vep_111.0.sif vep --dir /workspace/datasets/vep/ -i /workspace/projects/sjd_melos/vep/vep_input_files/sarcoma/chr4.tsv.gz --format vcf -o /workspace/projects/sjd_melos/vep/vep_output_files/sarcoma/chr4.tsv -tab --assembly GRCh38 --no_stats --cache --symbol --protein --canonical --mane --offline --af_1kg --custom /workspace/datasets/gnomad/data/v4.0/hg38/gnomad.genomes.v4.0.sites.chr4.vcf.bgz,gnomADg,vcf,exact,0,AF,NFE\n",
      "/workspace/datasets/vep/homo_sapiens/ensembl-vep_111.0.sif vep --dir /workspace/datasets/vep/ -i /workspace/projects/sjd_melos/vep/vep_input_files/sarcoma/chr5.tsv.gz --format vcf -o /workspace/projects/sjd_melos/vep/vep_output_files/sarcoma/chr5.tsv -tab --assembly GRCh38 --no_stats --cache --symbol --protein --canonical --mane --offline --af_1kg --custom /workspace/datasets/gnomad/data/v4.0/hg38/gnomad.genomes.v4.0.sites.chr5.vcf.bgz,gnomADg,vcf,exact,0,AF,NFE\n",
      "/workspace/datasets/vep/homo_sapiens/ensembl-vep_111.0.sif vep --dir /workspace/datasets/vep/ -i /workspace/projects/sjd_melos/vep/vep_input_files/sarcoma/chr6.tsv.gz --format vcf -o /workspace/projects/sjd_melos/vep/vep_output_files/sarcoma/chr6.tsv -tab --assembly GRCh38 --no_stats --cache --symbol --protein --canonical --mane --offline --af_1kg --custom /workspace/datasets/gnomad/data/v4.0/hg38/gnomad.genomes.v4.0.sites.chr6.vcf.bgz,gnomADg,vcf,exact,0,AF,NFE\n",
      "/workspace/datasets/vep/homo_sapiens/ensembl-vep_111.0.sif vep --dir /workspace/datasets/vep/ -i /workspace/projects/sjd_melos/vep/vep_input_files/sarcoma/chr7.tsv.gz --format vcf -o /workspace/projects/sjd_melos/vep/vep_output_files/sarcoma/chr7.tsv -tab --assembly GRCh38 --no_stats --cache --symbol --protein --canonical --mane --offline --af_1kg --custom /workspace/datasets/gnomad/data/v4.0/hg38/gnomad.genomes.v4.0.sites.chr7.vcf.bgz,gnomADg,vcf,exact,0,AF,NFE\n",
      "/workspace/datasets/vep/homo_sapiens/ensembl-vep_111.0.sif vep --dir /workspace/datasets/vep/ -i /workspace/projects/sjd_melos/vep/vep_input_files/sarcoma/chr8.tsv.gz --format vcf -o /workspace/projects/sjd_melos/vep/vep_output_files/sarcoma/chr8.tsv -tab --assembly GRCh38 --no_stats --cache --symbol --protein --canonical --mane --offline --af_1kg --custom /workspace/datasets/gnomad/data/v4.0/hg38/gnomad.genomes.v4.0.sites.chr8.vcf.bgz,gnomADg,vcf,exact,0,AF,NFE\n",
      "/workspace/datasets/vep/homo_sapiens/ensembl-vep_111.0.sif vep --dir /workspace/datasets/vep/ -i /workspace/projects/sjd_melos/vep/vep_input_files/sarcoma/chr9.tsv.gz --format vcf -o /workspace/projects/sjd_melos/vep/vep_output_files/sarcoma/chr9.tsv -tab --assembly GRCh38 --no_stats --cache --symbol --protein --canonical --mane --offline --af_1kg --custom /workspace/datasets/gnomad/data/v4.0/hg38/gnomad.genomes.v4.0.sites.chr9.vcf.bgz,gnomADg,vcf,exact,0,AF,NFE\n",
      "/workspace/datasets/vep/homo_sapiens/ensembl-vep_111.0.sif vep --dir /workspace/datasets/vep/ -i /workspace/projects/sjd_melos/vep/vep_input_files/sarcoma/chr10.tsv.gz --format vcf -o /workspace/projects/sjd_melos/vep/vep_output_files/sarcoma/chr10.tsv -tab --assembly GRCh38 --no_stats --cache --symbol --protein --canonical --mane --offline --af_1kg --custom /workspace/datasets/gnomad/data/v4.0/hg38/gnomad.genomes.v4.0.sites.chr10.vcf.bgz,gnomADg,vcf,exact,0,AF,NFE\n",
      "/workspace/datasets/vep/homo_sapiens/ensembl-vep_111.0.sif vep --dir /workspace/datasets/vep/ -i /workspace/projects/sjd_melos/vep/vep_input_files/sarcoma/chr11.tsv.gz --format vcf -o /workspace/projects/sjd_melos/vep/vep_output_files/sarcoma/chr11.tsv -tab --assembly GRCh38 --no_stats --cache --symbol --protein --canonical --mane --offline --af_1kg --custom /workspace/datasets/gnomad/data/v4.0/hg38/gnomad.genomes.v4.0.sites.chr11.vcf.bgz,gnomADg,vcf,exact,0,AF,NFE\n",
      "/workspace/datasets/vep/homo_sapiens/ensembl-vep_111.0.sif vep --dir /workspace/datasets/vep/ -i /workspace/projects/sjd_melos/vep/vep_input_files/sarcoma/chr12.tsv.gz --format vcf -o /workspace/projects/sjd_melos/vep/vep_output_files/sarcoma/chr12.tsv -tab --assembly GRCh38 --no_stats --cache --symbol --protein --canonical --mane --offline --af_1kg --custom /workspace/datasets/gnomad/data/v4.0/hg38/gnomad.genomes.v4.0.sites.chr12.vcf.bgz,gnomADg,vcf,exact,0,AF,NFE\n",
      "/workspace/datasets/vep/homo_sapiens/ensembl-vep_111.0.sif vep --dir /workspace/datasets/vep/ -i /workspace/projects/sjd_melos/vep/vep_input_files/sarcoma/chr13.tsv.gz --format vcf -o /workspace/projects/sjd_melos/vep/vep_output_files/sarcoma/chr13.tsv -tab --assembly GRCh38 --no_stats --cache --symbol --protein --canonical --mane --offline --af_1kg --custom /workspace/datasets/gnomad/data/v4.0/hg38/gnomad.genomes.v4.0.sites.chr13.vcf.bgz,gnomADg,vcf,exact,0,AF,NFE\n",
      "/workspace/datasets/vep/homo_sapiens/ensembl-vep_111.0.sif vep --dir /workspace/datasets/vep/ -i /workspace/projects/sjd_melos/vep/vep_input_files/sarcoma/chr14.tsv.gz --format vcf -o /workspace/projects/sjd_melos/vep/vep_output_files/sarcoma/chr14.tsv -tab --assembly GRCh38 --no_stats --cache --symbol --protein --canonical --mane --offline --af_1kg --custom /workspace/datasets/gnomad/data/v4.0/hg38/gnomad.genomes.v4.0.sites.chr14.vcf.bgz,gnomADg,vcf,exact,0,AF,NFE\n",
      "/workspace/datasets/vep/homo_sapiens/ensembl-vep_111.0.sif vep --dir /workspace/datasets/vep/ -i /workspace/projects/sjd_melos/vep/vep_input_files/sarcoma/chr15.tsv.gz --format vcf -o /workspace/projects/sjd_melos/vep/vep_output_files/sarcoma/chr15.tsv -tab --assembly GRCh38 --no_stats --cache --symbol --protein --canonical --mane --offline --af_1kg --custom /workspace/datasets/gnomad/data/v4.0/hg38/gnomad.genomes.v4.0.sites.chr15.vcf.bgz,gnomADg,vcf,exact,0,AF,NFE\n",
      "/workspace/datasets/vep/homo_sapiens/ensembl-vep_111.0.sif vep --dir /workspace/datasets/vep/ -i /workspace/projects/sjd_melos/vep/vep_input_files/sarcoma/chr16.tsv.gz --format vcf -o /workspace/projects/sjd_melos/vep/vep_output_files/sarcoma/chr16.tsv -tab --assembly GRCh38 --no_stats --cache --symbol --protein --canonical --mane --offline --af_1kg --custom /workspace/datasets/gnomad/data/v4.0/hg38/gnomad.genomes.v4.0.sites.chr16.vcf.bgz,gnomADg,vcf,exact,0,AF,NFE\n",
      "/workspace/datasets/vep/homo_sapiens/ensembl-vep_111.0.sif vep --dir /workspace/datasets/vep/ -i /workspace/projects/sjd_melos/vep/vep_input_files/sarcoma/chr17.tsv.gz --format vcf -o /workspace/projects/sjd_melos/vep/vep_output_files/sarcoma/chr17.tsv -tab --assembly GRCh38 --no_stats --cache --symbol --protein --canonical --mane --offline --af_1kg --custom /workspace/datasets/gnomad/data/v4.0/hg38/gnomad.genomes.v4.0.sites.chr17.vcf.bgz,gnomADg,vcf,exact,0,AF,NFE\n",
      "/workspace/datasets/vep/homo_sapiens/ensembl-vep_111.0.sif vep --dir /workspace/datasets/vep/ -i /workspace/projects/sjd_melos/vep/vep_input_files/sarcoma/chr18.tsv.gz --format vcf -o /workspace/projects/sjd_melos/vep/vep_output_files/sarcoma/chr18.tsv -tab --assembly GRCh38 --no_stats --cache --symbol --protein --canonical --mane --offline --af_1kg --custom /workspace/datasets/gnomad/data/v4.0/hg38/gnomad.genomes.v4.0.sites.chr18.vcf.bgz,gnomADg,vcf,exact,0,AF,NFE\n",
      "/workspace/datasets/vep/homo_sapiens/ensembl-vep_111.0.sif vep --dir /workspace/datasets/vep/ -i /workspace/projects/sjd_melos/vep/vep_input_files/sarcoma/chr19.tsv.gz --format vcf -o /workspace/projects/sjd_melos/vep/vep_output_files/sarcoma/chr19.tsv -tab --assembly GRCh38 --no_stats --cache --symbol --protein --canonical --mane --offline --af_1kg --custom /workspace/datasets/gnomad/data/v4.0/hg38/gnomad.genomes.v4.0.sites.chr19.vcf.bgz,gnomADg,vcf,exact,0,AF,NFE\n",
      "/workspace/datasets/vep/homo_sapiens/ensembl-vep_111.0.sif vep --dir /workspace/datasets/vep/ -i /workspace/projects/sjd_melos/vep/vep_input_files/sarcoma/chr20.tsv.gz --format vcf -o /workspace/projects/sjd_melos/vep/vep_output_files/sarcoma/chr20.tsv -tab --assembly GRCh38 --no_stats --cache --symbol --protein --canonical --mane --offline --af_1kg --custom /workspace/datasets/gnomad/data/v4.0/hg38/gnomad.genomes.v4.0.sites.chr20.vcf.bgz,gnomADg,vcf,exact,0,AF,NFE\n",
      "/workspace/datasets/vep/homo_sapiens/ensembl-vep_111.0.sif vep --dir /workspace/datasets/vep/ -i /workspace/projects/sjd_melos/vep/vep_input_files/sarcoma/chr21.tsv.gz --format vcf -o /workspace/projects/sjd_melos/vep/vep_output_files/sarcoma/chr21.tsv -tab --assembly GRCh38 --no_stats --cache --symbol --protein --canonical --mane --offline --af_1kg --custom /workspace/datasets/gnomad/data/v4.0/hg38/gnomad.genomes.v4.0.sites.chr21.vcf.bgz,gnomADg,vcf,exact,0,AF,NFE\n",
      "/workspace/datasets/vep/homo_sapiens/ensembl-vep_111.0.sif vep --dir /workspace/datasets/vep/ -i /workspace/projects/sjd_melos/vep/vep_input_files/sarcoma/chr22.tsv.gz --format vcf -o /workspace/projects/sjd_melos/vep/vep_output_files/sarcoma/chr22.tsv -tab --assembly GRCh38 --no_stats --cache --symbol --protein --canonical --mane --offline --af_1kg --custom /workspace/datasets/gnomad/data/v4.0/hg38/gnomad.genomes.v4.0.sites.chr22.vcf.bgz,gnomADg,vcf,exact,0,AF,NFE\n",
      "/workspace/datasets/vep/homo_sapiens/ensembl-vep_111.0.sif vep --dir /workspace/datasets/vep/ -i /workspace/projects/sjd_melos/vep/vep_input_files/sarcoma/chrX.tsv.gz --format vcf -o /workspace/projects/sjd_melos/vep/vep_output_files/sarcoma/chrX.tsv -tab --assembly GRCh38 --no_stats --cache --symbol --protein --canonical --mane --offline --af_1kg --custom /workspace/datasets/gnomad/data/v4.0/hg38/gnomad.genomes.v4.0.sites.chrX.vcf.bgz,gnomADg,vcf,exact,0,AF,NFE\n",
      "/workspace/datasets/vep/homo_sapiens/ensembl-vep_111.0.sif vep --dir /workspace/datasets/vep/ -i /workspace/projects/sjd_melos/vep/vep_input_files/sarcoma/chrY.tsv.gz --format vcf -o /workspace/projects/sjd_melos/vep/vep_output_files/sarcoma/chrY.tsv -tab --assembly GRCh38 --no_stats --cache --symbol --protein --canonical --mane --offline --af_1kg --custom /workspace/datasets/gnomad/data/v4.0/hg38/gnomad.genomes.v4.0.sites.chrY.vcf.bgz,gnomADg,vcf,exact,0,AF,NFE\n"
     ]
    }
   ],
   "source": [
    "# To change the separator of the list from comma to \\n we can use join function that joins the elements of a string list\n",
    "sar_result = '\\n'.join(serie_sar)\n",
    "print(sar_result)"
   ]
  },
  {
   "cell_type": "markdown",
   "id": "c39e3e01-5885-445f-8304-5a7ed06ef3d2",
   "metadata": {},
   "source": [
    "## Lung VEP input files"
   ]
  },
  {
   "cell_type": "code",
   "execution_count": 29,
   "id": "2926a9c0-b393-448f-ad23-9421e24d0195",
   "metadata": {},
   "outputs": [
    {
     "data": {
      "text/plain": [
       "['/workspace/datasets/vep/homo_sapiens/ensembl-vep_111.0.sif vep --dir /workspace/datasets/vep/ -i /workspace/projects/sjd_melos/vep/vep_input_files/lung/chr1.tsv.gz --format vcf -o /workspace/projects/sjd_melos/vep/vep_output_files/lung/chr1.tsv -tab --assembly GRCh38 --no_stats --cache --symbol --protein --canonical --mane --offline --af_1kg --custom /workspace/datasets/gnomad/data/v4.0/hg38/gnomad.genomes.v4.0.sites.chr1.vcf.bgz,gnomADg,vcf,exact,0,AF,NFE',\n",
       " '/workspace/datasets/vep/homo_sapiens/ensembl-vep_111.0.sif vep --dir /workspace/datasets/vep/ -i /workspace/projects/sjd_melos/vep/vep_input_files/lung/chr2.tsv.gz --format vcf -o /workspace/projects/sjd_melos/vep/vep_output_files/lung/chr2.tsv -tab --assembly GRCh38 --no_stats --cache --symbol --protein --canonical --mane --offline --af_1kg --custom /workspace/datasets/gnomad/data/v4.0/hg38/gnomad.genomes.v4.0.sites.chr2.vcf.bgz,gnomADg,vcf,exact,0,AF,NFE']"
      ]
     },
     "execution_count": 29,
     "metadata": {},
     "output_type": "execute_result"
    }
   ],
   "source": [
    "# Now apply the code to the lung input samples\n",
    "serie_lung = []\n",
    "for c in chrom: \n",
    "    if c in files_lung: # add elements in the serie based on chromosome file names\n",
    "        serie_lung.append(command + str('--dir ') + vep_dir  + str(' -i ') + path_lung + c + params2 + str(' -o ') + path_lung_out + c + str ('CHANGE') + params + gnomad + c + str('.vcf.bgz') + str(',gnomADg,vcf,exact,0,AF,NFE'))\n",
    "\n",
    "# Substitute tsv.gz.vcf.bgz for vcf.bgz in the series\n",
    "serie_lung = list(map(lambda x: x.replace(\"tsv.gz.vcf.bgz\", \"vcf.bgz\"), serie_lung))\n",
    "serie_lung = list(map(lambda x: x.replace(\"tsv.gzCHANGE\", \"tsv\"), serie_lung))\n",
    "serie_lung[0:2]"
   ]
  },
  {
   "cell_type": "code",
   "execution_count": 24,
   "id": "af92e92c-f4ff-4e56-ba30-ce3d69586f8c",
   "metadata": {},
   "outputs": [
    {
     "name": "stdout",
     "output_type": "stream",
     "text": [
      "/workspace/datasets/vep/homo_sapiens/ensembl-vep_111.0.sif vep --dir /workspace/datasets/vep/ -i /workspace/projects/sjd_melos/vep/vep_input_files/lung/chr1.tsv.gz --format vcf -o /workspace/projects/sjd_melos/vep/vep_output_files/lung/chr1.tsv -tab --assembly GRCh38 --no_stats --cache --symbol --protein --canonical --mane --offline --af_1kg --custom /workspace/datasets/gnomad/data/v4.0/hg38/gnomad.genomes.v4.0.sites.chr1.vcf.bgz,gnomADg,vcf,exact,0,AF,NFE\n",
      "/workspace/datasets/vep/homo_sapiens/ensembl-vep_111.0.sif vep --dir /workspace/datasets/vep/ -i /workspace/projects/sjd_melos/vep/vep_input_files/lung/chr2.tsv.gz --format vcf -o /workspace/projects/sjd_melos/vep/vep_output_files/lung/chr2.tsv -tab --assembly GRCh38 --no_stats --cache --symbol --protein --canonical --mane --offline --af_1kg --custom /workspace/datasets/gnomad/data/v4.0/hg38/gnomad.genomes.v4.0.sites.chr2.vcf.bgz,gnomADg,vcf,exact,0,AF,NFE\n",
      "/workspace/datasets/vep/homo_sapiens/ensembl-vep_111.0.sif vep --dir /workspace/datasets/vep/ -i /workspace/projects/sjd_melos/vep/vep_input_files/lung/chr3.tsv.gz --format vcf -o /workspace/projects/sjd_melos/vep/vep_output_files/lung/chr3.tsv -tab --assembly GRCh38 --no_stats --cache --symbol --protein --canonical --mane --offline --af_1kg --custom /workspace/datasets/gnomad/data/v4.0/hg38/gnomad.genomes.v4.0.sites.chr3.vcf.bgz,gnomADg,vcf,exact,0,AF,NFE\n",
      "/workspace/datasets/vep/homo_sapiens/ensembl-vep_111.0.sif vep --dir /workspace/datasets/vep/ -i /workspace/projects/sjd_melos/vep/vep_input_files/lung/chr4.tsv.gz --format vcf -o /workspace/projects/sjd_melos/vep/vep_output_files/lung/chr4.tsv -tab --assembly GRCh38 --no_stats --cache --symbol --protein --canonical --mane --offline --af_1kg --custom /workspace/datasets/gnomad/data/v4.0/hg38/gnomad.genomes.v4.0.sites.chr4.vcf.bgz,gnomADg,vcf,exact,0,AF,NFE\n",
      "/workspace/datasets/vep/homo_sapiens/ensembl-vep_111.0.sif vep --dir /workspace/datasets/vep/ -i /workspace/projects/sjd_melos/vep/vep_input_files/lung/chr5.tsv.gz --format vcf -o /workspace/projects/sjd_melos/vep/vep_output_files/lung/chr5.tsv -tab --assembly GRCh38 --no_stats --cache --symbol --protein --canonical --mane --offline --af_1kg --custom /workspace/datasets/gnomad/data/v4.0/hg38/gnomad.genomes.v4.0.sites.chr5.vcf.bgz,gnomADg,vcf,exact,0,AF,NFE\n",
      "/workspace/datasets/vep/homo_sapiens/ensembl-vep_111.0.sif vep --dir /workspace/datasets/vep/ -i /workspace/projects/sjd_melos/vep/vep_input_files/lung/chr6.tsv.gz --format vcf -o /workspace/projects/sjd_melos/vep/vep_output_files/lung/chr6.tsv -tab --assembly GRCh38 --no_stats --cache --symbol --protein --canonical --mane --offline --af_1kg --custom /workspace/datasets/gnomad/data/v4.0/hg38/gnomad.genomes.v4.0.sites.chr6.vcf.bgz,gnomADg,vcf,exact,0,AF,NFE\n",
      "/workspace/datasets/vep/homo_sapiens/ensembl-vep_111.0.sif vep --dir /workspace/datasets/vep/ -i /workspace/projects/sjd_melos/vep/vep_input_files/lung/chr7.tsv.gz --format vcf -o /workspace/projects/sjd_melos/vep/vep_output_files/lung/chr7.tsv -tab --assembly GRCh38 --no_stats --cache --symbol --protein --canonical --mane --offline --af_1kg --custom /workspace/datasets/gnomad/data/v4.0/hg38/gnomad.genomes.v4.0.sites.chr7.vcf.bgz,gnomADg,vcf,exact,0,AF,NFE\n",
      "/workspace/datasets/vep/homo_sapiens/ensembl-vep_111.0.sif vep --dir /workspace/datasets/vep/ -i /workspace/projects/sjd_melos/vep/vep_input_files/lung/chr8.tsv.gz --format vcf -o /workspace/projects/sjd_melos/vep/vep_output_files/lung/chr8.tsv -tab --assembly GRCh38 --no_stats --cache --symbol --protein --canonical --mane --offline --af_1kg --custom /workspace/datasets/gnomad/data/v4.0/hg38/gnomad.genomes.v4.0.sites.chr8.vcf.bgz,gnomADg,vcf,exact,0,AF,NFE\n",
      "/workspace/datasets/vep/homo_sapiens/ensembl-vep_111.0.sif vep --dir /workspace/datasets/vep/ -i /workspace/projects/sjd_melos/vep/vep_input_files/lung/chr9.tsv.gz --format vcf -o /workspace/projects/sjd_melos/vep/vep_output_files/lung/chr9.tsv -tab --assembly GRCh38 --no_stats --cache --symbol --protein --canonical --mane --offline --af_1kg --custom /workspace/datasets/gnomad/data/v4.0/hg38/gnomad.genomes.v4.0.sites.chr9.vcf.bgz,gnomADg,vcf,exact,0,AF,NFE\n",
      "/workspace/datasets/vep/homo_sapiens/ensembl-vep_111.0.sif vep --dir /workspace/datasets/vep/ -i /workspace/projects/sjd_melos/vep/vep_input_files/lung/chr10.tsv.gz --format vcf -o /workspace/projects/sjd_melos/vep/vep_output_files/lung/chr10.tsv -tab --assembly GRCh38 --no_stats --cache --symbol --protein --canonical --mane --offline --af_1kg --custom /workspace/datasets/gnomad/data/v4.0/hg38/gnomad.genomes.v4.0.sites.chr10.vcf.bgz,gnomADg,vcf,exact,0,AF,NFE\n",
      "/workspace/datasets/vep/homo_sapiens/ensembl-vep_111.0.sif vep --dir /workspace/datasets/vep/ -i /workspace/projects/sjd_melos/vep/vep_input_files/lung/chr11.tsv.gz --format vcf -o /workspace/projects/sjd_melos/vep/vep_output_files/lung/chr11.tsv -tab --assembly GRCh38 --no_stats --cache --symbol --protein --canonical --mane --offline --af_1kg --custom /workspace/datasets/gnomad/data/v4.0/hg38/gnomad.genomes.v4.0.sites.chr11.vcf.bgz,gnomADg,vcf,exact,0,AF,NFE\n",
      "/workspace/datasets/vep/homo_sapiens/ensembl-vep_111.0.sif vep --dir /workspace/datasets/vep/ -i /workspace/projects/sjd_melos/vep/vep_input_files/lung/chr12.tsv.gz --format vcf -o /workspace/projects/sjd_melos/vep/vep_output_files/lung/chr12.tsv -tab --assembly GRCh38 --no_stats --cache --symbol --protein --canonical --mane --offline --af_1kg --custom /workspace/datasets/gnomad/data/v4.0/hg38/gnomad.genomes.v4.0.sites.chr12.vcf.bgz,gnomADg,vcf,exact,0,AF,NFE\n",
      "/workspace/datasets/vep/homo_sapiens/ensembl-vep_111.0.sif vep --dir /workspace/datasets/vep/ -i /workspace/projects/sjd_melos/vep/vep_input_files/lung/chr13.tsv.gz --format vcf -o /workspace/projects/sjd_melos/vep/vep_output_files/lung/chr13.tsv -tab --assembly GRCh38 --no_stats --cache --symbol --protein --canonical --mane --offline --af_1kg --custom /workspace/datasets/gnomad/data/v4.0/hg38/gnomad.genomes.v4.0.sites.chr13.vcf.bgz,gnomADg,vcf,exact,0,AF,NFE\n",
      "/workspace/datasets/vep/homo_sapiens/ensembl-vep_111.0.sif vep --dir /workspace/datasets/vep/ -i /workspace/projects/sjd_melos/vep/vep_input_files/lung/chr14.tsv.gz --format vcf -o /workspace/projects/sjd_melos/vep/vep_output_files/lung/chr14.tsv -tab --assembly GRCh38 --no_stats --cache --symbol --protein --canonical --mane --offline --af_1kg --custom /workspace/datasets/gnomad/data/v4.0/hg38/gnomad.genomes.v4.0.sites.chr14.vcf.bgz,gnomADg,vcf,exact,0,AF,NFE\n",
      "/workspace/datasets/vep/homo_sapiens/ensembl-vep_111.0.sif vep --dir /workspace/datasets/vep/ -i /workspace/projects/sjd_melos/vep/vep_input_files/lung/chr15.tsv.gz --format vcf -o /workspace/projects/sjd_melos/vep/vep_output_files/lung/chr15.tsv -tab --assembly GRCh38 --no_stats --cache --symbol --protein --canonical --mane --offline --af_1kg --custom /workspace/datasets/gnomad/data/v4.0/hg38/gnomad.genomes.v4.0.sites.chr15.vcf.bgz,gnomADg,vcf,exact,0,AF,NFE\n",
      "/workspace/datasets/vep/homo_sapiens/ensembl-vep_111.0.sif vep --dir /workspace/datasets/vep/ -i /workspace/projects/sjd_melos/vep/vep_input_files/lung/chr16.tsv.gz --format vcf -o /workspace/projects/sjd_melos/vep/vep_output_files/lung/chr16.tsv -tab --assembly GRCh38 --no_stats --cache --symbol --protein --canonical --mane --offline --af_1kg --custom /workspace/datasets/gnomad/data/v4.0/hg38/gnomad.genomes.v4.0.sites.chr16.vcf.bgz,gnomADg,vcf,exact,0,AF,NFE\n",
      "/workspace/datasets/vep/homo_sapiens/ensembl-vep_111.0.sif vep --dir /workspace/datasets/vep/ -i /workspace/projects/sjd_melos/vep/vep_input_files/lung/chr17.tsv.gz --format vcf -o /workspace/projects/sjd_melos/vep/vep_output_files/lung/chr17.tsv -tab --assembly GRCh38 --no_stats --cache --symbol --protein --canonical --mane --offline --af_1kg --custom /workspace/datasets/gnomad/data/v4.0/hg38/gnomad.genomes.v4.0.sites.chr17.vcf.bgz,gnomADg,vcf,exact,0,AF,NFE\n",
      "/workspace/datasets/vep/homo_sapiens/ensembl-vep_111.0.sif vep --dir /workspace/datasets/vep/ -i /workspace/projects/sjd_melos/vep/vep_input_files/lung/chr18.tsv.gz --format vcf -o /workspace/projects/sjd_melos/vep/vep_output_files/lung/chr18.tsv -tab --assembly GRCh38 --no_stats --cache --symbol --protein --canonical --mane --offline --af_1kg --custom /workspace/datasets/gnomad/data/v4.0/hg38/gnomad.genomes.v4.0.sites.chr18.vcf.bgz,gnomADg,vcf,exact,0,AF,NFE\n",
      "/workspace/datasets/vep/homo_sapiens/ensembl-vep_111.0.sif vep --dir /workspace/datasets/vep/ -i /workspace/projects/sjd_melos/vep/vep_input_files/lung/chr19.tsv.gz --format vcf -o /workspace/projects/sjd_melos/vep/vep_output_files/lung/chr19.tsv -tab --assembly GRCh38 --no_stats --cache --symbol --protein --canonical --mane --offline --af_1kg --custom /workspace/datasets/gnomad/data/v4.0/hg38/gnomad.genomes.v4.0.sites.chr19.vcf.bgz,gnomADg,vcf,exact,0,AF,NFE\n",
      "/workspace/datasets/vep/homo_sapiens/ensembl-vep_111.0.sif vep --dir /workspace/datasets/vep/ -i /workspace/projects/sjd_melos/vep/vep_input_files/lung/chr20.tsv.gz --format vcf -o /workspace/projects/sjd_melos/vep/vep_output_files/lung/chr20.tsv -tab --assembly GRCh38 --no_stats --cache --symbol --protein --canonical --mane --offline --af_1kg --custom /workspace/datasets/gnomad/data/v4.0/hg38/gnomad.genomes.v4.0.sites.chr20.vcf.bgz,gnomADg,vcf,exact,0,AF,NFE\n",
      "/workspace/datasets/vep/homo_sapiens/ensembl-vep_111.0.sif vep --dir /workspace/datasets/vep/ -i /workspace/projects/sjd_melos/vep/vep_input_files/lung/chr21.tsv.gz --format vcf -o /workspace/projects/sjd_melos/vep/vep_output_files/lung/chr21.tsv -tab --assembly GRCh38 --no_stats --cache --symbol --protein --canonical --mane --offline --af_1kg --custom /workspace/datasets/gnomad/data/v4.0/hg38/gnomad.genomes.v4.0.sites.chr21.vcf.bgz,gnomADg,vcf,exact,0,AF,NFE\n",
      "/workspace/datasets/vep/homo_sapiens/ensembl-vep_111.0.sif vep --dir /workspace/datasets/vep/ -i /workspace/projects/sjd_melos/vep/vep_input_files/lung/chr22.tsv.gz --format vcf -o /workspace/projects/sjd_melos/vep/vep_output_files/lung/chr22.tsv -tab --assembly GRCh38 --no_stats --cache --symbol --protein --canonical --mane --offline --af_1kg --custom /workspace/datasets/gnomad/data/v4.0/hg38/gnomad.genomes.v4.0.sites.chr22.vcf.bgz,gnomADg,vcf,exact,0,AF,NFE\n",
      "/workspace/datasets/vep/homo_sapiens/ensembl-vep_111.0.sif vep --dir /workspace/datasets/vep/ -i /workspace/projects/sjd_melos/vep/vep_input_files/lung/chrX.tsv.gz --format vcf -o /workspace/projects/sjd_melos/vep/vep_output_files/lung/chrX.tsv -tab --assembly GRCh38 --no_stats --cache --symbol --protein --canonical --mane --offline --af_1kg --custom /workspace/datasets/gnomad/data/v4.0/hg38/gnomad.genomes.v4.0.sites.chrX.vcf.bgz,gnomADg,vcf,exact,0,AF,NFE\n",
      "/workspace/datasets/vep/homo_sapiens/ensembl-vep_111.0.sif vep --dir /workspace/datasets/vep/ -i /workspace/projects/sjd_melos/vep/vep_input_files/lung/chrY.tsv.gz --format vcf -o /workspace/projects/sjd_melos/vep/vep_output_files/lung/chrY.tsv -tab --assembly GRCh38 --no_stats --cache --symbol --protein --canonical --mane --offline --af_1kg --custom /workspace/datasets/gnomad/data/v4.0/hg38/gnomad.genomes.v4.0.sites.chrY.vcf.bgz,gnomADg,vcf,exact,0,AF,NFE\n"
     ]
    }
   ],
   "source": [
    "# To change the separator of the list from comma to \\n we can use join function that joins the elements of a string list\n",
    "lung_result = '\\n'.join(serie_lung)\n",
    "print(lung_result)"
   ]
  },
  {
   "cell_type": "markdown",
   "id": "90bfac86-69c8-4d96-9df2-b5975eb44806",
   "metadata": {},
   "source": [
    "## Germline VEP input files"
   ]
  },
  {
   "cell_type": "code",
   "execution_count": 30,
   "id": "ae4311fb-f0ee-4a14-ae03-9e84e1fb0449",
   "metadata": {},
   "outputs": [
    {
     "data": {
      "text/plain": [
       "['/workspace/datasets/vep/homo_sapiens/ensembl-vep_111.0.sif vep --dir /workspace/datasets/vep/ -i /workspace/projects/sjd_melos/vep/vep_input_files/germline/chr1.tsv.gz --format vcf -o /workspace/projects/sjd_melos/vep/vep_output_files/germline/chr1.tsv -tab --assembly GRCh38 --no_stats --cache --symbol --protein --canonical --mane --offline --af_1kg --custom /workspace/datasets/gnomad/data/v4.0/hg38/gnomad.genomes.v4.0.sites.chr1.vcf.bgz,gnomADg,vcf,exact,0,AF,NFE',\n",
       " '/workspace/datasets/vep/homo_sapiens/ensembl-vep_111.0.sif vep --dir /workspace/datasets/vep/ -i /workspace/projects/sjd_melos/vep/vep_input_files/germline/chr2.tsv.gz --format vcf -o /workspace/projects/sjd_melos/vep/vep_output_files/germline/chr2.tsv -tab --assembly GRCh38 --no_stats --cache --symbol --protein --canonical --mane --offline --af_1kg --custom /workspace/datasets/gnomad/data/v4.0/hg38/gnomad.genomes.v4.0.sites.chr2.vcf.bgz,gnomADg,vcf,exact,0,AF,NFE']"
      ]
     },
     "execution_count": 30,
     "metadata": {},
     "output_type": "execute_result"
    }
   ],
   "source": [
    "# Now apply the code to the germline input samples\n",
    "serie_germ = []\n",
    "for c in chrom: \n",
    "    if c in files_germ: # add elements in the serie based on chromosome file names\n",
    "        serie_germ.append(command + str('--dir ') + vep_dir  + str(' -i ') + path_germ + c + params2 + str(' -o ') + path_germ_out + c + str ('CHANGE') + params + gnomad + c + str('.vcf.bgz') + str(',gnomADg,vcf,exact,0,AF,NFE'))\n",
    "\n",
    "# Substitute tsv.gz.vcf.bgz for vcf.bgz in the series\n",
    "serie_germ = list(map(lambda x: x.replace(\"tsv.gz.vcf.bgz\", \"vcf.bgz\"), serie_germ))\n",
    "serie_germ = list(map(lambda x: x.replace(\"tsv.gzCHANGE\", \"tsv\"), serie_germ))\n",
    "serie_germ[0:2]"
   ]
  },
  {
   "cell_type": "code",
   "execution_count": 31,
   "id": "39a691c7-334e-462a-8be0-4327f5813917",
   "metadata": {},
   "outputs": [
    {
     "name": "stdout",
     "output_type": "stream",
     "text": [
      "/workspace/datasets/vep/homo_sapiens/ensembl-vep_111.0.sif vep --dir /workspace/datasets/vep/ -i /workspace/projects/sjd_melos/vep/vep_input_files/germline/chr1.tsv.gz --format vcf -o /workspace/projects/sjd_melos/vep/vep_output_files/germline/chr1.tsv -tab --assembly GRCh38 --no_stats --cache --symbol --protein --canonical --mane --offline --af_1kg --custom /workspace/datasets/gnomad/data/v4.0/hg38/gnomad.genomes.v4.0.sites.chr1.vcf.bgz,gnomADg,vcf,exact,0,AF,NFE\n",
      "/workspace/datasets/vep/homo_sapiens/ensembl-vep_111.0.sif vep --dir /workspace/datasets/vep/ -i /workspace/projects/sjd_melos/vep/vep_input_files/germline/chr2.tsv.gz --format vcf -o /workspace/projects/sjd_melos/vep/vep_output_files/germline/chr2.tsv -tab --assembly GRCh38 --no_stats --cache --symbol --protein --canonical --mane --offline --af_1kg --custom /workspace/datasets/gnomad/data/v4.0/hg38/gnomad.genomes.v4.0.sites.chr2.vcf.bgz,gnomADg,vcf,exact,0,AF,NFE\n",
      "/workspace/datasets/vep/homo_sapiens/ensembl-vep_111.0.sif vep --dir /workspace/datasets/vep/ -i /workspace/projects/sjd_melos/vep/vep_input_files/germline/chr3.tsv.gz --format vcf -o /workspace/projects/sjd_melos/vep/vep_output_files/germline/chr3.tsv -tab --assembly GRCh38 --no_stats --cache --symbol --protein --canonical --mane --offline --af_1kg --custom /workspace/datasets/gnomad/data/v4.0/hg38/gnomad.genomes.v4.0.sites.chr3.vcf.bgz,gnomADg,vcf,exact,0,AF,NFE\n",
      "/workspace/datasets/vep/homo_sapiens/ensembl-vep_111.0.sif vep --dir /workspace/datasets/vep/ -i /workspace/projects/sjd_melos/vep/vep_input_files/germline/chr4.tsv.gz --format vcf -o /workspace/projects/sjd_melos/vep/vep_output_files/germline/chr4.tsv -tab --assembly GRCh38 --no_stats --cache --symbol --protein --canonical --mane --offline --af_1kg --custom /workspace/datasets/gnomad/data/v4.0/hg38/gnomad.genomes.v4.0.sites.chr4.vcf.bgz,gnomADg,vcf,exact,0,AF,NFE\n",
      "/workspace/datasets/vep/homo_sapiens/ensembl-vep_111.0.sif vep --dir /workspace/datasets/vep/ -i /workspace/projects/sjd_melos/vep/vep_input_files/germline/chr5.tsv.gz --format vcf -o /workspace/projects/sjd_melos/vep/vep_output_files/germline/chr5.tsv -tab --assembly GRCh38 --no_stats --cache --symbol --protein --canonical --mane --offline --af_1kg --custom /workspace/datasets/gnomad/data/v4.0/hg38/gnomad.genomes.v4.0.sites.chr5.vcf.bgz,gnomADg,vcf,exact,0,AF,NFE\n",
      "/workspace/datasets/vep/homo_sapiens/ensembl-vep_111.0.sif vep --dir /workspace/datasets/vep/ -i /workspace/projects/sjd_melos/vep/vep_input_files/germline/chr6.tsv.gz --format vcf -o /workspace/projects/sjd_melos/vep/vep_output_files/germline/chr6.tsv -tab --assembly GRCh38 --no_stats --cache --symbol --protein --canonical --mane --offline --af_1kg --custom /workspace/datasets/gnomad/data/v4.0/hg38/gnomad.genomes.v4.0.sites.chr6.vcf.bgz,gnomADg,vcf,exact,0,AF,NFE\n",
      "/workspace/datasets/vep/homo_sapiens/ensembl-vep_111.0.sif vep --dir /workspace/datasets/vep/ -i /workspace/projects/sjd_melos/vep/vep_input_files/germline/chr7.tsv.gz --format vcf -o /workspace/projects/sjd_melos/vep/vep_output_files/germline/chr7.tsv -tab --assembly GRCh38 --no_stats --cache --symbol --protein --canonical --mane --offline --af_1kg --custom /workspace/datasets/gnomad/data/v4.0/hg38/gnomad.genomes.v4.0.sites.chr7.vcf.bgz,gnomADg,vcf,exact,0,AF,NFE\n",
      "/workspace/datasets/vep/homo_sapiens/ensembl-vep_111.0.sif vep --dir /workspace/datasets/vep/ -i /workspace/projects/sjd_melos/vep/vep_input_files/germline/chr8.tsv.gz --format vcf -o /workspace/projects/sjd_melos/vep/vep_output_files/germline/chr8.tsv -tab --assembly GRCh38 --no_stats --cache --symbol --protein --canonical --mane --offline --af_1kg --custom /workspace/datasets/gnomad/data/v4.0/hg38/gnomad.genomes.v4.0.sites.chr8.vcf.bgz,gnomADg,vcf,exact,0,AF,NFE\n",
      "/workspace/datasets/vep/homo_sapiens/ensembl-vep_111.0.sif vep --dir /workspace/datasets/vep/ -i /workspace/projects/sjd_melos/vep/vep_input_files/germline/chr9.tsv.gz --format vcf -o /workspace/projects/sjd_melos/vep/vep_output_files/germline/chr9.tsv -tab --assembly GRCh38 --no_stats --cache --symbol --protein --canonical --mane --offline --af_1kg --custom /workspace/datasets/gnomad/data/v4.0/hg38/gnomad.genomes.v4.0.sites.chr9.vcf.bgz,gnomADg,vcf,exact,0,AF,NFE\n",
      "/workspace/datasets/vep/homo_sapiens/ensembl-vep_111.0.sif vep --dir /workspace/datasets/vep/ -i /workspace/projects/sjd_melos/vep/vep_input_files/germline/chr10.tsv.gz --format vcf -o /workspace/projects/sjd_melos/vep/vep_output_files/germline/chr10.tsv -tab --assembly GRCh38 --no_stats --cache --symbol --protein --canonical --mane --offline --af_1kg --custom /workspace/datasets/gnomad/data/v4.0/hg38/gnomad.genomes.v4.0.sites.chr10.vcf.bgz,gnomADg,vcf,exact,0,AF,NFE\n",
      "/workspace/datasets/vep/homo_sapiens/ensembl-vep_111.0.sif vep --dir /workspace/datasets/vep/ -i /workspace/projects/sjd_melos/vep/vep_input_files/germline/chr11.tsv.gz --format vcf -o /workspace/projects/sjd_melos/vep/vep_output_files/germline/chr11.tsv -tab --assembly GRCh38 --no_stats --cache --symbol --protein --canonical --mane --offline --af_1kg --custom /workspace/datasets/gnomad/data/v4.0/hg38/gnomad.genomes.v4.0.sites.chr11.vcf.bgz,gnomADg,vcf,exact,0,AF,NFE\n",
      "/workspace/datasets/vep/homo_sapiens/ensembl-vep_111.0.sif vep --dir /workspace/datasets/vep/ -i /workspace/projects/sjd_melos/vep/vep_input_files/germline/chr12.tsv.gz --format vcf -o /workspace/projects/sjd_melos/vep/vep_output_files/germline/chr12.tsv -tab --assembly GRCh38 --no_stats --cache --symbol --protein --canonical --mane --offline --af_1kg --custom /workspace/datasets/gnomad/data/v4.0/hg38/gnomad.genomes.v4.0.sites.chr12.vcf.bgz,gnomADg,vcf,exact,0,AF,NFE\n",
      "/workspace/datasets/vep/homo_sapiens/ensembl-vep_111.0.sif vep --dir /workspace/datasets/vep/ -i /workspace/projects/sjd_melos/vep/vep_input_files/germline/chr13.tsv.gz --format vcf -o /workspace/projects/sjd_melos/vep/vep_output_files/germline/chr13.tsv -tab --assembly GRCh38 --no_stats --cache --symbol --protein --canonical --mane --offline --af_1kg --custom /workspace/datasets/gnomad/data/v4.0/hg38/gnomad.genomes.v4.0.sites.chr13.vcf.bgz,gnomADg,vcf,exact,0,AF,NFE\n",
      "/workspace/datasets/vep/homo_sapiens/ensembl-vep_111.0.sif vep --dir /workspace/datasets/vep/ -i /workspace/projects/sjd_melos/vep/vep_input_files/germline/chr14.tsv.gz --format vcf -o /workspace/projects/sjd_melos/vep/vep_output_files/germline/chr14.tsv -tab --assembly GRCh38 --no_stats --cache --symbol --protein --canonical --mane --offline --af_1kg --custom /workspace/datasets/gnomad/data/v4.0/hg38/gnomad.genomes.v4.0.sites.chr14.vcf.bgz,gnomADg,vcf,exact,0,AF,NFE\n",
      "/workspace/datasets/vep/homo_sapiens/ensembl-vep_111.0.sif vep --dir /workspace/datasets/vep/ -i /workspace/projects/sjd_melos/vep/vep_input_files/germline/chr15.tsv.gz --format vcf -o /workspace/projects/sjd_melos/vep/vep_output_files/germline/chr15.tsv -tab --assembly GRCh38 --no_stats --cache --symbol --protein --canonical --mane --offline --af_1kg --custom /workspace/datasets/gnomad/data/v4.0/hg38/gnomad.genomes.v4.0.sites.chr15.vcf.bgz,gnomADg,vcf,exact,0,AF,NFE\n",
      "/workspace/datasets/vep/homo_sapiens/ensembl-vep_111.0.sif vep --dir /workspace/datasets/vep/ -i /workspace/projects/sjd_melos/vep/vep_input_files/germline/chr16.tsv.gz --format vcf -o /workspace/projects/sjd_melos/vep/vep_output_files/germline/chr16.tsv -tab --assembly GRCh38 --no_stats --cache --symbol --protein --canonical --mane --offline --af_1kg --custom /workspace/datasets/gnomad/data/v4.0/hg38/gnomad.genomes.v4.0.sites.chr16.vcf.bgz,gnomADg,vcf,exact,0,AF,NFE\n",
      "/workspace/datasets/vep/homo_sapiens/ensembl-vep_111.0.sif vep --dir /workspace/datasets/vep/ -i /workspace/projects/sjd_melos/vep/vep_input_files/germline/chr17.tsv.gz --format vcf -o /workspace/projects/sjd_melos/vep/vep_output_files/germline/chr17.tsv -tab --assembly GRCh38 --no_stats --cache --symbol --protein --canonical --mane --offline --af_1kg --custom /workspace/datasets/gnomad/data/v4.0/hg38/gnomad.genomes.v4.0.sites.chr17.vcf.bgz,gnomADg,vcf,exact,0,AF,NFE\n",
      "/workspace/datasets/vep/homo_sapiens/ensembl-vep_111.0.sif vep --dir /workspace/datasets/vep/ -i /workspace/projects/sjd_melos/vep/vep_input_files/germline/chr18.tsv.gz --format vcf -o /workspace/projects/sjd_melos/vep/vep_output_files/germline/chr18.tsv -tab --assembly GRCh38 --no_stats --cache --symbol --protein --canonical --mane --offline --af_1kg --custom /workspace/datasets/gnomad/data/v4.0/hg38/gnomad.genomes.v4.0.sites.chr18.vcf.bgz,gnomADg,vcf,exact,0,AF,NFE\n",
      "/workspace/datasets/vep/homo_sapiens/ensembl-vep_111.0.sif vep --dir /workspace/datasets/vep/ -i /workspace/projects/sjd_melos/vep/vep_input_files/germline/chr19.tsv.gz --format vcf -o /workspace/projects/sjd_melos/vep/vep_output_files/germline/chr19.tsv -tab --assembly GRCh38 --no_stats --cache --symbol --protein --canonical --mane --offline --af_1kg --custom /workspace/datasets/gnomad/data/v4.0/hg38/gnomad.genomes.v4.0.sites.chr19.vcf.bgz,gnomADg,vcf,exact,0,AF,NFE\n",
      "/workspace/datasets/vep/homo_sapiens/ensembl-vep_111.0.sif vep --dir /workspace/datasets/vep/ -i /workspace/projects/sjd_melos/vep/vep_input_files/germline/chr20.tsv.gz --format vcf -o /workspace/projects/sjd_melos/vep/vep_output_files/germline/chr20.tsv -tab --assembly GRCh38 --no_stats --cache --symbol --protein --canonical --mane --offline --af_1kg --custom /workspace/datasets/gnomad/data/v4.0/hg38/gnomad.genomes.v4.0.sites.chr20.vcf.bgz,gnomADg,vcf,exact,0,AF,NFE\n",
      "/workspace/datasets/vep/homo_sapiens/ensembl-vep_111.0.sif vep --dir /workspace/datasets/vep/ -i /workspace/projects/sjd_melos/vep/vep_input_files/germline/chr21.tsv.gz --format vcf -o /workspace/projects/sjd_melos/vep/vep_output_files/germline/chr21.tsv -tab --assembly GRCh38 --no_stats --cache --symbol --protein --canonical --mane --offline --af_1kg --custom /workspace/datasets/gnomad/data/v4.0/hg38/gnomad.genomes.v4.0.sites.chr21.vcf.bgz,gnomADg,vcf,exact,0,AF,NFE\n",
      "/workspace/datasets/vep/homo_sapiens/ensembl-vep_111.0.sif vep --dir /workspace/datasets/vep/ -i /workspace/projects/sjd_melos/vep/vep_input_files/germline/chr22.tsv.gz --format vcf -o /workspace/projects/sjd_melos/vep/vep_output_files/germline/chr22.tsv -tab --assembly GRCh38 --no_stats --cache --symbol --protein --canonical --mane --offline --af_1kg --custom /workspace/datasets/gnomad/data/v4.0/hg38/gnomad.genomes.v4.0.sites.chr22.vcf.bgz,gnomADg,vcf,exact,0,AF,NFE\n",
      "/workspace/datasets/vep/homo_sapiens/ensembl-vep_111.0.sif vep --dir /workspace/datasets/vep/ -i /workspace/projects/sjd_melos/vep/vep_input_files/germline/chrX.tsv.gz --format vcf -o /workspace/projects/sjd_melos/vep/vep_output_files/germline/chrX.tsv -tab --assembly GRCh38 --no_stats --cache --symbol --protein --canonical --mane --offline --af_1kg --custom /workspace/datasets/gnomad/data/v4.0/hg38/gnomad.genomes.v4.0.sites.chrX.vcf.bgz,gnomADg,vcf,exact,0,AF,NFE\n",
      "/workspace/datasets/vep/homo_sapiens/ensembl-vep_111.0.sif vep --dir /workspace/datasets/vep/ -i /workspace/projects/sjd_melos/vep/vep_input_files/germline/chrY.tsv.gz --format vcf -o /workspace/projects/sjd_melos/vep/vep_output_files/germline/chrY.tsv -tab --assembly GRCh38 --no_stats --cache --symbol --protein --canonical --mane --offline --af_1kg --custom /workspace/datasets/gnomad/data/v4.0/hg38/gnomad.genomes.v4.0.sites.chrY.vcf.bgz,gnomADg,vcf,exact,0,AF,NFE\n"
     ]
    }
   ],
   "source": [
    "# To change the separator of the list from comma to \\n we can use join function that joins the elements of a string list\n",
    "germ_result = '\\n'.join(serie_germ)\n",
    "print(germ_result)"
   ]
  },
  {
   "cell_type": "markdown",
   "id": "2c777f00-0a3d-4a06-93df-eb6aea0afbf9",
   "metadata": {},
   "source": [
    "## Add header and join all samples"
   ]
  },
  {
   "cell_type": "code",
   "execution_count": 32,
   "id": "5dda104e-31ee-4fff-b323-65377818caf2",
   "metadata": {},
   "outputs": [
    {
     "name": "stdout",
     "output_type": "stream",
     "text": [
      "[pre]\n",
      "[params]\n",
      "cores = 1\n",
      "memory = 8G\n",
      "[jobs]\n"
     ]
    }
   ],
   "source": [
    "# Include information of the header as a list\n",
    "header = ['[pre]', '[params]', 'cores = 1', 'memory = 8G', '[jobs]']\n",
    "header = '\\n'.join(header)\n",
    "print(header)"
   ]
  },
  {
   "cell_type": "code",
   "execution_count": 33,
   "id": "d9c21d71-dbd3-43c1-902c-3944180ecf89",
   "metadata": {
    "scrolled": true
   },
   "outputs": [
    {
     "name": "stdout",
     "output_type": "stream",
     "text": [
      "[pre]\n",
      "[params]\n",
      "cores = 1\n",
      "memory = 8G\n",
      "[jobs]\n",
      "/workspace/datasets/vep/homo_sapiens/ensembl-vep_111.0.sif vep --dir /workspace/datasets/vep/ -i /workspace/projects/sjd_melos/vep/vep_input_files/sarcoma/chr1.tsv.gz --format vcf -o /workspace/projects/sjd_melos/vep/vep_output_files/sarcoma/chr1.tsv -tab --assembly GRCh38 --no_stats --cache --symbol --protein --canonical --mane --offline --af_1kg --custom /workspace/datasets/gnomad/data/v4.0/hg38/gnomad.genomes.v4.0.sites.chr1.vcf.bgz,gnomADg,vcf,exact,0,AF,NFE\n",
      "/workspace/datasets/vep/homo_sapiens/ensembl-vep_111.0.sif vep --dir /workspace/datasets/vep/ -i /workspace/projects/sjd_melos/vep/vep_input_files/sarcoma/chr2.tsv.gz --format vcf -o /workspace/projects/sjd_melos/vep/vep_output_files/sarcoma/chr2.tsv -tab --assembly GRCh38 --no_stats --cache --symbol --protein --canonical --mane --offline --af_1kg --custom /workspace/datasets/gnomad/data/v4.0/hg38/gnomad.genomes.v4.0.sites.chr2.vcf.bgz,gnomADg,vcf,exact,0,AF,NFE\n",
      "/workspace/datasets/vep/homo_sapiens/ensembl-vep_111.0.sif vep --dir /workspace/datasets/vep/ -i /workspace/projects/sjd_melos/vep/vep_input_files/sarcoma/chr3.tsv.gz --format vcf -o /workspace/projects/sjd_melos/vep/vep_output_files/sarcoma/chr3.tsv -tab --assembly GRCh38 --no_stats --cache --symbol --protein --canonical --mane --offline --af_1kg --custom /workspace/datasets/gnomad/data/v4.0/hg38/gnomad.genomes.v4.0.sites.chr3.vcf.bgz,gnomADg,vcf,exact,0,AF,NFE\n",
      "/workspace/datasets/vep/homo_sapiens/ensembl-vep_111.0.sif vep --dir /workspace/datasets/vep/ -i /workspace/projects/sjd_melos/vep/vep_input_files/sarcoma/chr4.tsv.gz --format vcf -o /workspace/projects/sjd_melos/vep/vep_output_files/sarcoma/chr4.tsv -tab --assembly GRCh38 --no_stats --cache --symbol --protein --canonical --mane --offline --af_1kg --custom /workspace/datasets/gnomad/data/v4.0/hg38/gnomad.genomes.v4.0.sites.chr4.vcf.bgz,gnomADg,vcf,exact,0,AF,NFE\n",
      "/workspace/datasets/vep/homo_sapiens/ensembl-vep_111.0.sif vep --dir /workspace/datasets/vep/ -i /workspace/projects/sjd_melos/vep/vep_input_files/sarcoma/chr5.tsv.gz --format vcf -o /workspace/projects/sjd_melos/vep/vep_output_files/sarcoma/chr5.tsv -tab --assembly GRCh38 --no_stats --cache --symbol --protein --canonical --mane --offline --af_1kg --custom /workspace/datasets/gnomad/data/v4.0/hg38/gnomad.genomes.v4.0.sites.chr5.vcf.bgz,gnomADg,vcf,exact,0,AF,NFE\n",
      "/workspace/datasets/vep/homo_sapiens/ensembl-vep_111.0.sif vep --dir /workspace/datasets/vep/ -i /workspace/projects/sjd_melos/vep/vep_input_files/sarcoma/chr6.tsv.gz --format vcf -o /workspace/projects/sjd_melos/vep/vep_output_files/sarcoma/chr6.tsv -tab --assembly GRCh38 --no_stats --cache --symbol --protein --canonical --mane --offline --af_1kg --custom /workspace/datasets/gnomad/data/v4.0/hg38/gnomad.genomes.v4.0.sites.chr6.vcf.bgz,gnomADg,vcf,exact,0,AF,NFE\n",
      "/workspace/datasets/vep/homo_sapiens/ensembl-vep_111.0.sif vep --dir /workspace/datasets/vep/ -i /workspace/projects/sjd_melos/vep/vep_input_files/sarcoma/chr7.tsv.gz --format vcf -o /workspace/projects/sjd_melos/vep/vep_output_files/sarcoma/chr7.tsv -tab --assembly GRCh38 --no_stats --cache --symbol --protein --canonical --mane --offline --af_1kg --custom /workspace/datasets/gnomad/data/v4.0/hg38/gnomad.genomes.v4.0.sites.chr7.vcf.bgz,gnomADg,vcf,exact,0,AF,NFE\n",
      "/workspace/datasets/vep/homo_sapiens/ensembl-vep_111.0.sif vep --dir /workspace/datasets/vep/ -i /workspace/projects/sjd_melos/vep/vep_input_files/sarcoma/chr8.tsv.gz --format vcf -o /workspace/projects/sjd_melos/vep/vep_output_files/sarcoma/chr8.tsv -tab --assembly GRCh38 --no_stats --cache --symbol --protein --canonical --mane --offline --af_1kg --custom /workspace/datasets/gnomad/data/v4.0/hg38/gnomad.genomes.v4.0.sites.chr8.vcf.bgz,gnomADg,vcf,exact,0,AF,NFE\n",
      "/workspace/datasets/vep/homo_sapiens/ensembl-vep_111.0.sif vep --dir /workspace/datasets/vep/ -i /workspace/projects/sjd_melos/vep/vep_input_files/sarcoma/chr9.tsv.gz --format vcf -o /workspace/projects/sjd_melos/vep/vep_output_files/sarcoma/chr9.tsv -tab --assembly GRCh38 --no_stats --cache --symbol --protein --canonical --mane --offline --af_1kg --custom /workspace/datasets/gnomad/data/v4.0/hg38/gnomad.genomes.v4.0.sites.chr9.vcf.bgz,gnomADg,vcf,exact,0,AF,NFE\n",
      "/workspace/datasets/vep/homo_sapiens/ensembl-vep_111.0.sif vep --dir /workspace/datasets/vep/ -i /workspace/projects/sjd_melos/vep/vep_input_files/sarcoma/chr10.tsv.gz --format vcf -o /workspace/projects/sjd_melos/vep/vep_output_files/sarcoma/chr10.tsv -tab --assembly GRCh38 --no_stats --cache --symbol --protein --canonical --mane --offline --af_1kg --custom /workspace/datasets/gnomad/data/v4.0/hg38/gnomad.genomes.v4.0.sites.chr10.vcf.bgz,gnomADg,vcf,exact,0,AF,NFE\n",
      "/workspace/datasets/vep/homo_sapiens/ensembl-vep_111.0.sif vep --dir /workspace/datasets/vep/ -i /workspace/projects/sjd_melos/vep/vep_input_files/sarcoma/chr11.tsv.gz --format vcf -o /workspace/projects/sjd_melos/vep/vep_output_files/sarcoma/chr11.tsv -tab --assembly GRCh38 --no_stats --cache --symbol --protein --canonical --mane --offline --af_1kg --custom /workspace/datasets/gnomad/data/v4.0/hg38/gnomad.genomes.v4.0.sites.chr11.vcf.bgz,gnomADg,vcf,exact,0,AF,NFE\n",
      "/workspace/datasets/vep/homo_sapiens/ensembl-vep_111.0.sif vep --dir /workspace/datasets/vep/ -i /workspace/projects/sjd_melos/vep/vep_input_files/sarcoma/chr12.tsv.gz --format vcf -o /workspace/projects/sjd_melos/vep/vep_output_files/sarcoma/chr12.tsv -tab --assembly GRCh38 --no_stats --cache --symbol --protein --canonical --mane --offline --af_1kg --custom /workspace/datasets/gnomad/data/v4.0/hg38/gnomad.genomes.v4.0.sites.chr12.vcf.bgz,gnomADg,vcf,exact,0,AF,NFE\n",
      "/workspace/datasets/vep/homo_sapiens/ensembl-vep_111.0.sif vep --dir /workspace/datasets/vep/ -i /workspace/projects/sjd_melos/vep/vep_input_files/sarcoma/chr13.tsv.gz --format vcf -o /workspace/projects/sjd_melos/vep/vep_output_files/sarcoma/chr13.tsv -tab --assembly GRCh38 --no_stats --cache --symbol --protein --canonical --mane --offline --af_1kg --custom /workspace/datasets/gnomad/data/v4.0/hg38/gnomad.genomes.v4.0.sites.chr13.vcf.bgz,gnomADg,vcf,exact,0,AF,NFE\n",
      "/workspace/datasets/vep/homo_sapiens/ensembl-vep_111.0.sif vep --dir /workspace/datasets/vep/ -i /workspace/projects/sjd_melos/vep/vep_input_files/sarcoma/chr14.tsv.gz --format vcf -o /workspace/projects/sjd_melos/vep/vep_output_files/sarcoma/chr14.tsv -tab --assembly GRCh38 --no_stats --cache --symbol --protein --canonical --mane --offline --af_1kg --custom /workspace/datasets/gnomad/data/v4.0/hg38/gnomad.genomes.v4.0.sites.chr14.vcf.bgz,gnomADg,vcf,exact,0,AF,NFE\n",
      "/workspace/datasets/vep/homo_sapiens/ensembl-vep_111.0.sif vep --dir /workspace/datasets/vep/ -i /workspace/projects/sjd_melos/vep/vep_input_files/sarcoma/chr15.tsv.gz --format vcf -o /workspace/projects/sjd_melos/vep/vep_output_files/sarcoma/chr15.tsv -tab --assembly GRCh38 --no_stats --cache --symbol --protein --canonical --mane --offline --af_1kg --custom /workspace/datasets/gnomad/data/v4.0/hg38/gnomad.genomes.v4.0.sites.chr15.vcf.bgz,gnomADg,vcf,exact,0,AF,NFE\n",
      "/workspace/datasets/vep/homo_sapiens/ensembl-vep_111.0.sif vep --dir /workspace/datasets/vep/ -i /workspace/projects/sjd_melos/vep/vep_input_files/sarcoma/chr16.tsv.gz --format vcf -o /workspace/projects/sjd_melos/vep/vep_output_files/sarcoma/chr16.tsv -tab --assembly GRCh38 --no_stats --cache --symbol --protein --canonical --mane --offline --af_1kg --custom /workspace/datasets/gnomad/data/v4.0/hg38/gnomad.genomes.v4.0.sites.chr16.vcf.bgz,gnomADg,vcf,exact,0,AF,NFE\n",
      "/workspace/datasets/vep/homo_sapiens/ensembl-vep_111.0.sif vep --dir /workspace/datasets/vep/ -i /workspace/projects/sjd_melos/vep/vep_input_files/sarcoma/chr17.tsv.gz --format vcf -o /workspace/projects/sjd_melos/vep/vep_output_files/sarcoma/chr17.tsv -tab --assembly GRCh38 --no_stats --cache --symbol --protein --canonical --mane --offline --af_1kg --custom /workspace/datasets/gnomad/data/v4.0/hg38/gnomad.genomes.v4.0.sites.chr17.vcf.bgz,gnomADg,vcf,exact,0,AF,NFE\n",
      "/workspace/datasets/vep/homo_sapiens/ensembl-vep_111.0.sif vep --dir /workspace/datasets/vep/ -i /workspace/projects/sjd_melos/vep/vep_input_files/sarcoma/chr18.tsv.gz --format vcf -o /workspace/projects/sjd_melos/vep/vep_output_files/sarcoma/chr18.tsv -tab --assembly GRCh38 --no_stats --cache --symbol --protein --canonical --mane --offline --af_1kg --custom /workspace/datasets/gnomad/data/v4.0/hg38/gnomad.genomes.v4.0.sites.chr18.vcf.bgz,gnomADg,vcf,exact,0,AF,NFE\n",
      "/workspace/datasets/vep/homo_sapiens/ensembl-vep_111.0.sif vep --dir /workspace/datasets/vep/ -i /workspace/projects/sjd_melos/vep/vep_input_files/sarcoma/chr19.tsv.gz --format vcf -o /workspace/projects/sjd_melos/vep/vep_output_files/sarcoma/chr19.tsv -tab --assembly GRCh38 --no_stats --cache --symbol --protein --canonical --mane --offline --af_1kg --custom /workspace/datasets/gnomad/data/v4.0/hg38/gnomad.genomes.v4.0.sites.chr19.vcf.bgz,gnomADg,vcf,exact,0,AF,NFE\n",
      "/workspace/datasets/vep/homo_sapiens/ensembl-vep_111.0.sif vep --dir /workspace/datasets/vep/ -i /workspace/projects/sjd_melos/vep/vep_input_files/sarcoma/chr20.tsv.gz --format vcf -o /workspace/projects/sjd_melos/vep/vep_output_files/sarcoma/chr20.tsv -tab --assembly GRCh38 --no_stats --cache --symbol --protein --canonical --mane --offline --af_1kg --custom /workspace/datasets/gnomad/data/v4.0/hg38/gnomad.genomes.v4.0.sites.chr20.vcf.bgz,gnomADg,vcf,exact,0,AF,NFE\n",
      "/workspace/datasets/vep/homo_sapiens/ensembl-vep_111.0.sif vep --dir /workspace/datasets/vep/ -i /workspace/projects/sjd_melos/vep/vep_input_files/sarcoma/chr21.tsv.gz --format vcf -o /workspace/projects/sjd_melos/vep/vep_output_files/sarcoma/chr21.tsv -tab --assembly GRCh38 --no_stats --cache --symbol --protein --canonical --mane --offline --af_1kg --custom /workspace/datasets/gnomad/data/v4.0/hg38/gnomad.genomes.v4.0.sites.chr21.vcf.bgz,gnomADg,vcf,exact,0,AF,NFE\n",
      "/workspace/datasets/vep/homo_sapiens/ensembl-vep_111.0.sif vep --dir /workspace/datasets/vep/ -i /workspace/projects/sjd_melos/vep/vep_input_files/sarcoma/chr22.tsv.gz --format vcf -o /workspace/projects/sjd_melos/vep/vep_output_files/sarcoma/chr22.tsv -tab --assembly GRCh38 --no_stats --cache --symbol --protein --canonical --mane --offline --af_1kg --custom /workspace/datasets/gnomad/data/v4.0/hg38/gnomad.genomes.v4.0.sites.chr22.vcf.bgz,gnomADg,vcf,exact,0,AF,NFE\n",
      "/workspace/datasets/vep/homo_sapiens/ensembl-vep_111.0.sif vep --dir /workspace/datasets/vep/ -i /workspace/projects/sjd_melos/vep/vep_input_files/sarcoma/chrX.tsv.gz --format vcf -o /workspace/projects/sjd_melos/vep/vep_output_files/sarcoma/chrX.tsv -tab --assembly GRCh38 --no_stats --cache --symbol --protein --canonical --mane --offline --af_1kg --custom /workspace/datasets/gnomad/data/v4.0/hg38/gnomad.genomes.v4.0.sites.chrX.vcf.bgz,gnomADg,vcf,exact,0,AF,NFE\n",
      "/workspace/datasets/vep/homo_sapiens/ensembl-vep_111.0.sif vep --dir /workspace/datasets/vep/ -i /workspace/projects/sjd_melos/vep/vep_input_files/sarcoma/chrY.tsv.gz --format vcf -o /workspace/projects/sjd_melos/vep/vep_output_files/sarcoma/chrY.tsv -tab --assembly GRCh38 --no_stats --cache --symbol --protein --canonical --mane --offline --af_1kg --custom /workspace/datasets/gnomad/data/v4.0/hg38/gnomad.genomes.v4.0.sites.chrY.vcf.bgz,gnomADg,vcf,exact,0,AF,NFE\n",
      "/workspace/datasets/vep/homo_sapiens/ensembl-vep_111.0.sif vep --dir /workspace/datasets/vep/ -i /workspace/projects/sjd_melos/vep/vep_input_files/lung/chr1.tsv.gz --format vcf -o /workspace/projects/sjd_melos/vep/vep_output_files/lung/chr1.tsv -tab --assembly GRCh38 --no_stats --cache --symbol --protein --canonical --mane --offline --af_1kg --custom /workspace/datasets/gnomad/data/v4.0/hg38/gnomad.genomes.v4.0.sites.chr1.vcf.bgz,gnomADg,vcf,exact,0,AF,NFE\n",
      "/workspace/datasets/vep/homo_sapiens/ensembl-vep_111.0.sif vep --dir /workspace/datasets/vep/ -i /workspace/projects/sjd_melos/vep/vep_input_files/lung/chr2.tsv.gz --format vcf -o /workspace/projects/sjd_melos/vep/vep_output_files/lung/chr2.tsv -tab --assembly GRCh38 --no_stats --cache --symbol --protein --canonical --mane --offline --af_1kg --custom /workspace/datasets/gnomad/data/v4.0/hg38/gnomad.genomes.v4.0.sites.chr2.vcf.bgz,gnomADg,vcf,exact,0,AF,NFE\n",
      "/workspace/datasets/vep/homo_sapiens/ensembl-vep_111.0.sif vep --dir /workspace/datasets/vep/ -i /workspace/projects/sjd_melos/vep/vep_input_files/lung/chr3.tsv.gz --format vcf -o /workspace/projects/sjd_melos/vep/vep_output_files/lung/chr3.tsv -tab --assembly GRCh38 --no_stats --cache --symbol --protein --canonical --mane --offline --af_1kg --custom /workspace/datasets/gnomad/data/v4.0/hg38/gnomad.genomes.v4.0.sites.chr3.vcf.bgz,gnomADg,vcf,exact,0,AF,NFE\n",
      "/workspace/datasets/vep/homo_sapiens/ensembl-vep_111.0.sif vep --dir /workspace/datasets/vep/ -i /workspace/projects/sjd_melos/vep/vep_input_files/lung/chr4.tsv.gz --format vcf -o /workspace/projects/sjd_melos/vep/vep_output_files/lung/chr4.tsv -tab --assembly GRCh38 --no_stats --cache --symbol --protein --canonical --mane --offline --af_1kg --custom /workspace/datasets/gnomad/data/v4.0/hg38/gnomad.genomes.v4.0.sites.chr4.vcf.bgz,gnomADg,vcf,exact,0,AF,NFE\n",
      "/workspace/datasets/vep/homo_sapiens/ensembl-vep_111.0.sif vep --dir /workspace/datasets/vep/ -i /workspace/projects/sjd_melos/vep/vep_input_files/lung/chr5.tsv.gz --format vcf -o /workspace/projects/sjd_melos/vep/vep_output_files/lung/chr5.tsv -tab --assembly GRCh38 --no_stats --cache --symbol --protein --canonical --mane --offline --af_1kg --custom /workspace/datasets/gnomad/data/v4.0/hg38/gnomad.genomes.v4.0.sites.chr5.vcf.bgz,gnomADg,vcf,exact,0,AF,NFE\n",
      "/workspace/datasets/vep/homo_sapiens/ensembl-vep_111.0.sif vep --dir /workspace/datasets/vep/ -i /workspace/projects/sjd_melos/vep/vep_input_files/lung/chr6.tsv.gz --format vcf -o /workspace/projects/sjd_melos/vep/vep_output_files/lung/chr6.tsv -tab --assembly GRCh38 --no_stats --cache --symbol --protein --canonical --mane --offline --af_1kg --custom /workspace/datasets/gnomad/data/v4.0/hg38/gnomad.genomes.v4.0.sites.chr6.vcf.bgz,gnomADg,vcf,exact,0,AF,NFE\n",
      "/workspace/datasets/vep/homo_sapiens/ensembl-vep_111.0.sif vep --dir /workspace/datasets/vep/ -i /workspace/projects/sjd_melos/vep/vep_input_files/lung/chr7.tsv.gz --format vcf -o /workspace/projects/sjd_melos/vep/vep_output_files/lung/chr7.tsv -tab --assembly GRCh38 --no_stats --cache --symbol --protein --canonical --mane --offline --af_1kg --custom /workspace/datasets/gnomad/data/v4.0/hg38/gnomad.genomes.v4.0.sites.chr7.vcf.bgz,gnomADg,vcf,exact,0,AF,NFE\n",
      "/workspace/datasets/vep/homo_sapiens/ensembl-vep_111.0.sif vep --dir /workspace/datasets/vep/ -i /workspace/projects/sjd_melos/vep/vep_input_files/lung/chr8.tsv.gz --format vcf -o /workspace/projects/sjd_melos/vep/vep_output_files/lung/chr8.tsv -tab --assembly GRCh38 --no_stats --cache --symbol --protein --canonical --mane --offline --af_1kg --custom /workspace/datasets/gnomad/data/v4.0/hg38/gnomad.genomes.v4.0.sites.chr8.vcf.bgz,gnomADg,vcf,exact,0,AF,NFE\n",
      "/workspace/datasets/vep/homo_sapiens/ensembl-vep_111.0.sif vep --dir /workspace/datasets/vep/ -i /workspace/projects/sjd_melos/vep/vep_input_files/lung/chr9.tsv.gz --format vcf -o /workspace/projects/sjd_melos/vep/vep_output_files/lung/chr9.tsv -tab --assembly GRCh38 --no_stats --cache --symbol --protein --canonical --mane --offline --af_1kg --custom /workspace/datasets/gnomad/data/v4.0/hg38/gnomad.genomes.v4.0.sites.chr9.vcf.bgz,gnomADg,vcf,exact,0,AF,NFE\n",
      "/workspace/datasets/vep/homo_sapiens/ensembl-vep_111.0.sif vep --dir /workspace/datasets/vep/ -i /workspace/projects/sjd_melos/vep/vep_input_files/lung/chr10.tsv.gz --format vcf -o /workspace/projects/sjd_melos/vep/vep_output_files/lung/chr10.tsv -tab --assembly GRCh38 --no_stats --cache --symbol --protein --canonical --mane --offline --af_1kg --custom /workspace/datasets/gnomad/data/v4.0/hg38/gnomad.genomes.v4.0.sites.chr10.vcf.bgz,gnomADg,vcf,exact,0,AF,NFE\n",
      "/workspace/datasets/vep/homo_sapiens/ensembl-vep_111.0.sif vep --dir /workspace/datasets/vep/ -i /workspace/projects/sjd_melos/vep/vep_input_files/lung/chr11.tsv.gz --format vcf -o /workspace/projects/sjd_melos/vep/vep_output_files/lung/chr11.tsv -tab --assembly GRCh38 --no_stats --cache --symbol --protein --canonical --mane --offline --af_1kg --custom /workspace/datasets/gnomad/data/v4.0/hg38/gnomad.genomes.v4.0.sites.chr11.vcf.bgz,gnomADg,vcf,exact,0,AF,NFE\n",
      "/workspace/datasets/vep/homo_sapiens/ensembl-vep_111.0.sif vep --dir /workspace/datasets/vep/ -i /workspace/projects/sjd_melos/vep/vep_input_files/lung/chr12.tsv.gz --format vcf -o /workspace/projects/sjd_melos/vep/vep_output_files/lung/chr12.tsv -tab --assembly GRCh38 --no_stats --cache --symbol --protein --canonical --mane --offline --af_1kg --custom /workspace/datasets/gnomad/data/v4.0/hg38/gnomad.genomes.v4.0.sites.chr12.vcf.bgz,gnomADg,vcf,exact,0,AF,NFE\n",
      "/workspace/datasets/vep/homo_sapiens/ensembl-vep_111.0.sif vep --dir /workspace/datasets/vep/ -i /workspace/projects/sjd_melos/vep/vep_input_files/lung/chr13.tsv.gz --format vcf -o /workspace/projects/sjd_melos/vep/vep_output_files/lung/chr13.tsv -tab --assembly GRCh38 --no_stats --cache --symbol --protein --canonical --mane --offline --af_1kg --custom /workspace/datasets/gnomad/data/v4.0/hg38/gnomad.genomes.v4.0.sites.chr13.vcf.bgz,gnomADg,vcf,exact,0,AF,NFE\n",
      "/workspace/datasets/vep/homo_sapiens/ensembl-vep_111.0.sif vep --dir /workspace/datasets/vep/ -i /workspace/projects/sjd_melos/vep/vep_input_files/lung/chr14.tsv.gz --format vcf -o /workspace/projects/sjd_melos/vep/vep_output_files/lung/chr14.tsv -tab --assembly GRCh38 --no_stats --cache --symbol --protein --canonical --mane --offline --af_1kg --custom /workspace/datasets/gnomad/data/v4.0/hg38/gnomad.genomes.v4.0.sites.chr14.vcf.bgz,gnomADg,vcf,exact,0,AF,NFE\n",
      "/workspace/datasets/vep/homo_sapiens/ensembl-vep_111.0.sif vep --dir /workspace/datasets/vep/ -i /workspace/projects/sjd_melos/vep/vep_input_files/lung/chr15.tsv.gz --format vcf -o /workspace/projects/sjd_melos/vep/vep_output_files/lung/chr15.tsv -tab --assembly GRCh38 --no_stats --cache --symbol --protein --canonical --mane --offline --af_1kg --custom /workspace/datasets/gnomad/data/v4.0/hg38/gnomad.genomes.v4.0.sites.chr15.vcf.bgz,gnomADg,vcf,exact,0,AF,NFE\n",
      "/workspace/datasets/vep/homo_sapiens/ensembl-vep_111.0.sif vep --dir /workspace/datasets/vep/ -i /workspace/projects/sjd_melos/vep/vep_input_files/lung/chr16.tsv.gz --format vcf -o /workspace/projects/sjd_melos/vep/vep_output_files/lung/chr16.tsv -tab --assembly GRCh38 --no_stats --cache --symbol --protein --canonical --mane --offline --af_1kg --custom /workspace/datasets/gnomad/data/v4.0/hg38/gnomad.genomes.v4.0.sites.chr16.vcf.bgz,gnomADg,vcf,exact,0,AF,NFE\n",
      "/workspace/datasets/vep/homo_sapiens/ensembl-vep_111.0.sif vep --dir /workspace/datasets/vep/ -i /workspace/projects/sjd_melos/vep/vep_input_files/lung/chr17.tsv.gz --format vcf -o /workspace/projects/sjd_melos/vep/vep_output_files/lung/chr17.tsv -tab --assembly GRCh38 --no_stats --cache --symbol --protein --canonical --mane --offline --af_1kg --custom /workspace/datasets/gnomad/data/v4.0/hg38/gnomad.genomes.v4.0.sites.chr17.vcf.bgz,gnomADg,vcf,exact,0,AF,NFE\n",
      "/workspace/datasets/vep/homo_sapiens/ensembl-vep_111.0.sif vep --dir /workspace/datasets/vep/ -i /workspace/projects/sjd_melos/vep/vep_input_files/lung/chr18.tsv.gz --format vcf -o /workspace/projects/sjd_melos/vep/vep_output_files/lung/chr18.tsv -tab --assembly GRCh38 --no_stats --cache --symbol --protein --canonical --mane --offline --af_1kg --custom /workspace/datasets/gnomad/data/v4.0/hg38/gnomad.genomes.v4.0.sites.chr18.vcf.bgz,gnomADg,vcf,exact,0,AF,NFE\n",
      "/workspace/datasets/vep/homo_sapiens/ensembl-vep_111.0.sif vep --dir /workspace/datasets/vep/ -i /workspace/projects/sjd_melos/vep/vep_input_files/lung/chr19.tsv.gz --format vcf -o /workspace/projects/sjd_melos/vep/vep_output_files/lung/chr19.tsv -tab --assembly GRCh38 --no_stats --cache --symbol --protein --canonical --mane --offline --af_1kg --custom /workspace/datasets/gnomad/data/v4.0/hg38/gnomad.genomes.v4.0.sites.chr19.vcf.bgz,gnomADg,vcf,exact,0,AF,NFE\n",
      "/workspace/datasets/vep/homo_sapiens/ensembl-vep_111.0.sif vep --dir /workspace/datasets/vep/ -i /workspace/projects/sjd_melos/vep/vep_input_files/lung/chr20.tsv.gz --format vcf -o /workspace/projects/sjd_melos/vep/vep_output_files/lung/chr20.tsv -tab --assembly GRCh38 --no_stats --cache --symbol --protein --canonical --mane --offline --af_1kg --custom /workspace/datasets/gnomad/data/v4.0/hg38/gnomad.genomes.v4.0.sites.chr20.vcf.bgz,gnomADg,vcf,exact,0,AF,NFE\n",
      "/workspace/datasets/vep/homo_sapiens/ensembl-vep_111.0.sif vep --dir /workspace/datasets/vep/ -i /workspace/projects/sjd_melos/vep/vep_input_files/lung/chr21.tsv.gz --format vcf -o /workspace/projects/sjd_melos/vep/vep_output_files/lung/chr21.tsv -tab --assembly GRCh38 --no_stats --cache --symbol --protein --canonical --mane --offline --af_1kg --custom /workspace/datasets/gnomad/data/v4.0/hg38/gnomad.genomes.v4.0.sites.chr21.vcf.bgz,gnomADg,vcf,exact,0,AF,NFE\n",
      "/workspace/datasets/vep/homo_sapiens/ensembl-vep_111.0.sif vep --dir /workspace/datasets/vep/ -i /workspace/projects/sjd_melos/vep/vep_input_files/lung/chr22.tsv.gz --format vcf -o /workspace/projects/sjd_melos/vep/vep_output_files/lung/chr22.tsv -tab --assembly GRCh38 --no_stats --cache --symbol --protein --canonical --mane --offline --af_1kg --custom /workspace/datasets/gnomad/data/v4.0/hg38/gnomad.genomes.v4.0.sites.chr22.vcf.bgz,gnomADg,vcf,exact,0,AF,NFE\n",
      "/workspace/datasets/vep/homo_sapiens/ensembl-vep_111.0.sif vep --dir /workspace/datasets/vep/ -i /workspace/projects/sjd_melos/vep/vep_input_files/lung/chrX.tsv.gz --format vcf -o /workspace/projects/sjd_melos/vep/vep_output_files/lung/chrX.tsv -tab --assembly GRCh38 --no_stats --cache --symbol --protein --canonical --mane --offline --af_1kg --custom /workspace/datasets/gnomad/data/v4.0/hg38/gnomad.genomes.v4.0.sites.chrX.vcf.bgz,gnomADg,vcf,exact,0,AF,NFE\n",
      "/workspace/datasets/vep/homo_sapiens/ensembl-vep_111.0.sif vep --dir /workspace/datasets/vep/ -i /workspace/projects/sjd_melos/vep/vep_input_files/lung/chrY.tsv.gz --format vcf -o /workspace/projects/sjd_melos/vep/vep_output_files/lung/chrY.tsv -tab --assembly GRCh38 --no_stats --cache --symbol --protein --canonical --mane --offline --af_1kg --custom /workspace/datasets/gnomad/data/v4.0/hg38/gnomad.genomes.v4.0.sites.chrY.vcf.bgz,gnomADg,vcf,exact,0,AF,NFE\n"
     ]
    }
   ],
   "source": [
    "# Add header to samples and this is the file to export\n",
    "\n",
    "qmap = header + '\\n' + sar_result + '\\n' + lung_result  # adding \\n might be unnecessary if you follow the saving instructions below\n",
    "print(qmap)"
   ]
  },
  {
   "cell_type": "markdown",
   "id": "87cabc31-53b3-43f1-95d1-2c2710e536a7",
   "metadata": {},
   "source": [
    "## Save as a QMAP file"
   ]
  },
  {
   "cell_type": "raw",
   "id": "0a77ec1e-dbf8-42bb-8f8f-ce183300245a",
   "metadata": {},
   "source": [
    "## IMPORTANT NOTE, IF YOU WANT TO AVOID TRANSFORMING THE PREVIOUS CODE FROM \",\" TO \"\\n\" USE THIS CODE IN F.WRITE TO APPLY \\n WHILE SAVING THE CODE\n",
    "you can directly apply in f.write the transformation to \\n.  \n",
    "\n",
    "with open('/workspace/projects/sjd_melos/vep/VEP_analysis_clonalmut_melups.qmap', 'w') as f:\n",
    "    for item in qmap:\n",
    "        f.write('%s\\n' % item) # this is the modification"
   ]
  },
  {
   "cell_type": "code",
   "execution_count": 16,
   "id": "3071e110-31a3-4f3a-b125-95ddd098c3e0",
   "metadata": {},
   "outputs": [],
   "source": [
    "# with open('/workspace/projects/sjd_melos/vep/VEP_analysis_repeat_sarlung_singularity.qmap', 'w') as f:\n",
    "    # for item in qmap:\n",
    "    #     f.write(item) #this respects the format from previous code"
   ]
  },
  {
   "cell_type": "raw",
   "id": "230a2ceb-ac17-4a8a-8cd4-6a27bc18100d",
   "metadata": {},
   "source": [
    "## Check in bash terminal that the number of lines for each sample is correct (it should be 24, 22 for autosomal chromosomes and 2 sexual):\n",
    "%%bash\n",
    "grep -c 'sarcoma' ./VEP_analysis_clonalmut_melups.qmap\n",
    "grep -c 'lung' ./VEP_analysis_clonalmut_melups.qmap\n",
    "\n",
    "\n",
    "# Check in bash terminal that the input files are NOT format-converted to VEP to pass singularity in each sample directory\n",
    "%%bash\n",
    "cd ../sarcoma/\n",
    "zcat chr15.tsv.gz | grep 'INDEL'| head\n",
    "cd ../lung/\n",
    "cd ../sarcoma/\n",
    "zcat chr3.tsv.gz | grep 'INDEL'| head"
   ]
  }
 ],
 "metadata": {
  "kernelspec": {
   "display_name": "melos",
   "language": "python",
   "name": "melos"
  },
  "language_info": {
   "codemirror_mode": {
    "name": "ipython",
    "version": 3
   },
   "file_extension": ".py",
   "mimetype": "text/x-python",
   "name": "python",
   "nbconvert_exporter": "python",
   "pygments_lexer": "ipython3",
   "version": "3.11.5"
  }
 },
 "nbformat": 4,
 "nbformat_minor": 5
}
